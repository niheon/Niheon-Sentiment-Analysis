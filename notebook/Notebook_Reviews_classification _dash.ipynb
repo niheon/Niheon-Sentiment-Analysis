{
  "cells": [
    {
      "cell_type": "markdown",
      "metadata": {
        "id": "M27qF7CTrBqc"
      },
      "source": [
        "# TASK #1: UNDERSTAND THE PROBLEM STATEMENT AND BUSINESS CASE"
      ]
    },
    {
      "cell_type": "markdown",
      "metadata": {
        "id": "VbX0jYELZend"
      },
      "source": [
        "data source: https://www.kaggle.com/sid321axn/amazon-alexa-reviews/kernels"
      ]
    },
    {
      "cell_type": "markdown",
      "metadata": {
        "id": "uAE6Icc0uylP"
      },
      "source": [
        "# TASK #2: IMPORT LIBRARIES AND DATASETS"
      ]
    },
    {
      "cell_type": "code",
      "source": [
        "!pip install jupyterthemes"
      ],
      "metadata": {
        "colab": {
          "base_uri": "https://localhost:8080/"
        },
        "id": "G0dz1JI_dufy",
        "outputId": "13ef9581-0a5d-4aac-ffa0-212035d60dd8"
      },
      "execution_count": 88,
      "outputs": [
        {
          "output_type": "stream",
          "name": "stdout",
          "text": [
            "Looking in indexes: https://pypi.org/simple, https://us-python.pkg.dev/colab-wheels/public/simple/\n",
            "Requirement already satisfied: jupyterthemes in /usr/local/lib/python3.8/dist-packages (0.20.0)\n",
            "Requirement already satisfied: jupyter-core in /usr/local/lib/python3.8/dist-packages (from jupyterthemes) (5.1.3)\n",
            "Requirement already satisfied: ipython>=5.4.1 in /usr/local/lib/python3.8/dist-packages (from jupyterthemes) (7.9.0)\n",
            "Requirement already satisfied: matplotlib>=1.4.3 in /usr/local/lib/python3.8/dist-packages (from jupyterthemes) (3.2.2)\n",
            "Requirement already satisfied: notebook>=5.6.0 in /usr/local/lib/python3.8/dist-packages (from jupyterthemes) (5.7.16)\n",
            "Requirement already satisfied: lesscpy>=0.11.2 in /usr/local/lib/python3.8/dist-packages (from jupyterthemes) (0.15.1)\n",
            "Requirement already satisfied: setuptools>=18.5 in /usr/local/lib/python3.8/dist-packages (from ipython>=5.4.1->jupyterthemes) (57.4.0)\n",
            "Requirement already satisfied: pexpect in /usr/local/lib/python3.8/dist-packages (from ipython>=5.4.1->jupyterthemes) (4.8.0)\n",
            "Requirement already satisfied: backcall in /usr/local/lib/python3.8/dist-packages (from ipython>=5.4.1->jupyterthemes) (0.2.0)\n",
            "Requirement already satisfied: decorator in /usr/local/lib/python3.8/dist-packages (from ipython>=5.4.1->jupyterthemes) (4.4.2)\n",
            "Requirement already satisfied: jedi>=0.10 in /usr/local/lib/python3.8/dist-packages (from ipython>=5.4.1->jupyterthemes) (0.18.2)\n",
            "Requirement already satisfied: prompt-toolkit<2.1.0,>=2.0.0 in /usr/local/lib/python3.8/dist-packages (from ipython>=5.4.1->jupyterthemes) (2.0.10)\n",
            "Requirement already satisfied: pygments in /usr/local/lib/python3.8/dist-packages (from ipython>=5.4.1->jupyterthemes) (2.6.1)\n",
            "Requirement already satisfied: traitlets>=4.2 in /usr/local/lib/python3.8/dist-packages (from ipython>=5.4.1->jupyterthemes) (5.7.1)\n",
            "Requirement already satisfied: pickleshare in /usr/local/lib/python3.8/dist-packages (from ipython>=5.4.1->jupyterthemes) (0.7.5)\n",
            "Requirement already satisfied: ply in /usr/local/lib/python3.8/dist-packages (from lesscpy>=0.11.2->jupyterthemes) (3.11)\n",
            "Requirement already satisfied: python-dateutil>=2.1 in /usr/local/lib/python3.8/dist-packages (from matplotlib>=1.4.3->jupyterthemes) (2.8.2)\n",
            "Requirement already satisfied: numpy>=1.11 in /usr/local/lib/python3.8/dist-packages (from matplotlib>=1.4.3->jupyterthemes) (1.21.6)\n",
            "Requirement already satisfied: cycler>=0.10 in /usr/local/lib/python3.8/dist-packages (from matplotlib>=1.4.3->jupyterthemes) (0.11.0)\n",
            "Requirement already satisfied: kiwisolver>=1.0.1 in /usr/local/lib/python3.8/dist-packages (from matplotlib>=1.4.3->jupyterthemes) (1.4.4)\n",
            "Requirement already satisfied: pyparsing!=2.0.4,!=2.1.2,!=2.1.6,>=2.0.1 in /usr/local/lib/python3.8/dist-packages (from matplotlib>=1.4.3->jupyterthemes) (3.0.9)\n",
            "Requirement already satisfied: nbformat in /usr/local/lib/python3.8/dist-packages (from notebook>=5.6.0->jupyterthemes) (5.7.1)\n",
            "Requirement already satisfied: jinja2<=3.0.0 in /usr/local/lib/python3.8/dist-packages (from notebook>=5.6.0->jupyterthemes) (2.11.3)\n",
            "Requirement already satisfied: nbconvert<6.0 in /usr/local/lib/python3.8/dist-packages (from notebook>=5.6.0->jupyterthemes) (5.6.1)\n",
            "Requirement already satisfied: terminado>=0.8.1 in /usr/local/lib/python3.8/dist-packages (from notebook>=5.6.0->jupyterthemes) (0.13.3)\n",
            "Requirement already satisfied: Send2Trash in /usr/local/lib/python3.8/dist-packages (from notebook>=5.6.0->jupyterthemes) (1.8.0)\n",
            "Requirement already satisfied: ipython-genutils in /usr/local/lib/python3.8/dist-packages (from notebook>=5.6.0->jupyterthemes) (0.2.0)\n",
            "Requirement already satisfied: ipykernel in /usr/local/lib/python3.8/dist-packages (from notebook>=5.6.0->jupyterthemes) (5.3.4)\n",
            "Requirement already satisfied: jupyter-client<7.0.0,>=5.2.0 in /usr/local/lib/python3.8/dist-packages (from notebook>=5.6.0->jupyterthemes) (6.1.12)\n",
            "Requirement already satisfied: pyzmq>=17 in /usr/local/lib/python3.8/dist-packages (from notebook>=5.6.0->jupyterthemes) (23.2.1)\n",
            "Requirement already satisfied: tornado<7,>=4.1 in /usr/local/lib/python3.8/dist-packages (from notebook>=5.6.0->jupyterthemes) (6.0.4)\n",
            "Requirement already satisfied: prometheus-client in /usr/local/lib/python3.8/dist-packages (from notebook>=5.6.0->jupyterthemes) (0.15.0)\n",
            "Requirement already satisfied: platformdirs>=2.5 in /usr/local/lib/python3.8/dist-packages (from jupyter-core->jupyterthemes) (2.6.2)\n",
            "Requirement already satisfied: parso<0.9.0,>=0.8.0 in /usr/local/lib/python3.8/dist-packages (from jedi>=0.10->ipython>=5.4.1->jupyterthemes) (0.8.3)\n",
            "Requirement already satisfied: MarkupSafe>=0.23 in /usr/local/lib/python3.8/dist-packages (from jinja2<=3.0.0->notebook>=5.6.0->jupyterthemes) (2.0.1)\n",
            "Requirement already satisfied: entrypoints>=0.2.2 in /usr/local/lib/python3.8/dist-packages (from nbconvert<6.0->notebook>=5.6.0->jupyterthemes) (0.4)\n",
            "Requirement already satisfied: defusedxml in /usr/local/lib/python3.8/dist-packages (from nbconvert<6.0->notebook>=5.6.0->jupyterthemes) (0.7.1)\n",
            "Requirement already satisfied: pandocfilters>=1.4.1 in /usr/local/lib/python3.8/dist-packages (from nbconvert<6.0->notebook>=5.6.0->jupyterthemes) (1.5.0)\n",
            "Requirement already satisfied: testpath in /usr/local/lib/python3.8/dist-packages (from nbconvert<6.0->notebook>=5.6.0->jupyterthemes) (0.6.0)\n",
            "Requirement already satisfied: bleach in /usr/local/lib/python3.8/dist-packages (from nbconvert<6.0->notebook>=5.6.0->jupyterthemes) (5.0.1)\n",
            "Requirement already satisfied: mistune<2,>=0.8.1 in /usr/local/lib/python3.8/dist-packages (from nbconvert<6.0->notebook>=5.6.0->jupyterthemes) (0.8.4)\n",
            "Requirement already satisfied: fastjsonschema in /usr/local/lib/python3.8/dist-packages (from nbformat->notebook>=5.6.0->jupyterthemes) (2.16.2)\n",
            "Requirement already satisfied: jsonschema>=2.6 in /usr/local/lib/python3.8/dist-packages (from nbformat->notebook>=5.6.0->jupyterthemes) (4.3.3)\n",
            "Requirement already satisfied: wcwidth in /usr/local/lib/python3.8/dist-packages (from prompt-toolkit<2.1.0,>=2.0.0->ipython>=5.4.1->jupyterthemes) (0.2.5)\n",
            "Requirement already satisfied: six>=1.9.0 in /usr/local/lib/python3.8/dist-packages (from prompt-toolkit<2.1.0,>=2.0.0->ipython>=5.4.1->jupyterthemes) (1.15.0)\n",
            "Requirement already satisfied: ptyprocess in /usr/local/lib/python3.8/dist-packages (from terminado>=0.8.1->notebook>=5.6.0->jupyterthemes) (0.7.0)\n",
            "Requirement already satisfied: attrs>=17.4.0 in /usr/local/lib/python3.8/dist-packages (from jsonschema>=2.6->nbformat->notebook>=5.6.0->jupyterthemes) (22.2.0)\n",
            "Requirement already satisfied: importlib-resources>=1.4.0 in /usr/local/lib/python3.8/dist-packages (from jsonschema>=2.6->nbformat->notebook>=5.6.0->jupyterthemes) (5.10.2)\n",
            "Requirement already satisfied: pyrsistent!=0.17.0,!=0.17.1,!=0.17.2,>=0.14.0 in /usr/local/lib/python3.8/dist-packages (from jsonschema>=2.6->nbformat->notebook>=5.6.0->jupyterthemes) (0.19.3)\n",
            "Requirement already satisfied: webencodings in /usr/local/lib/python3.8/dist-packages (from bleach->nbconvert<6.0->notebook>=5.6.0->jupyterthemes) (0.5.1)\n",
            "Requirement already satisfied: zipp>=3.1.0 in /usr/local/lib/python3.8/dist-packages (from importlib-resources>=1.4.0->jsonschema>=2.6->nbformat->notebook>=5.6.0->jupyterthemes) (3.11.0)\n"
          ]
        }
      ]
    },
    {
      "cell_type": "code",
      "execution_count": 89,
      "metadata": {
        "id": "YBp2qDPb8pDo",
        "colab": {
          "base_uri": "https://localhost:8080/"
        },
        "outputId": "6c61ae3b-5dd3-47c0-cdfc-d30c2d765b3a"
      },
      "outputs": [
        {
          "output_type": "stream",
          "name": "stderr",
          "text": [
            "[nltk_data] Downloading package stopwords to /root/nltk_data...\n",
            "[nltk_data]   Package stopwords is already up-to-date!\n",
            "[nltk_data] Downloading package wordnet to /root/nltk_data...\n",
            "[nltk_data]   Package wordnet is already up-to-date!\n",
            "[nltk_data] Downloading package omw-1.4 to /root/nltk_data...\n",
            "[nltk_data]   Package omw-1.4 is already up-to-date!\n"
          ]
        }
      ],
      "source": [
        "import pandas as pd\n",
        "import numpy as np\n",
        "import seaborn as sns\n",
        "import matplotlib.pyplot as plt\n",
        "import nltk\n",
        "from jupyterthemes import jtplot\n",
        "jtplot.style(theme='monokai', context='notebook', ticks=True, grid=False) \n",
        "# setting the style of the notebook to be monokai theme  \n",
        "# this line of code is important to ensure that we are able to see the x and y axes clearly\n",
        "# If you don't run this code line, you will notice that the xlabel and ylabel on any plot is black on black and it will be hard to see them. \n",
        "#import libraries \n",
        "import re\n",
        "import string\n",
        "import nltk\n",
        "from nltk.stem import PorterStemmer\n",
        "from nltk.stem.wordnet import WordNetLemmatizer\n",
        "import spacy\n",
        "import nltk\n",
        "nltk.download('stopwords')\n",
        "nltk.download('wordnet')\n",
        "nltk.download('omw-1.4')\n",
        "from nltk.corpus import stopwords\n",
        "stop = stopwords.words('english')"
      ]
    },
    {
      "cell_type": "code",
      "source": [
        "#connect to google drive\n",
        "from google.colab import drive\n",
        "drive.mount('/content/drive') "
      ],
      "metadata": {
        "colab": {
          "base_uri": "https://localhost:8080/"
        },
        "id": "9i8D2TW7c-Lb",
        "outputId": "0207fa4f-480a-4ba1-a215-316ecd1f4b86"
      },
      "execution_count": 90,
      "outputs": [
        {
          "output_type": "stream",
          "name": "stdout",
          "text": [
            "Drive already mounted at /content/drive; to attempt to forcibly remount, call drive.mount(\"/content/drive\", force_remount=True).\n"
          ]
        }
      ]
    },
    {
      "cell_type": "code",
      "execution_count": 91,
      "metadata": {
        "id": "tjIiJdM4u1IE",
        "outputId": "58a96fa3-8d4b-4b6e-85b6-89410d32461d",
        "colab": {
          "base_uri": "https://localhost:8080/",
          "height": 424
        }
      },
      "outputs": [
        {
          "output_type": "execute_result",
          "data": {
            "text/plain": [
              "      rating       date         variation  \\\n",
              "0          5  31-Jul-18  Charcoal Fabric    \n",
              "1          5  31-Jul-18  Charcoal Fabric    \n",
              "2          4  31-Jul-18    Walnut Finish    \n",
              "3          5  31-Jul-18  Charcoal Fabric    \n",
              "4          5  31-Jul-18  Charcoal Fabric    \n",
              "...      ...        ...               ...   \n",
              "3145       5  30-Jul-18        Black  Dot   \n",
              "3146       5  30-Jul-18        Black  Dot   \n",
              "3147       5  30-Jul-18        Black  Dot   \n",
              "3148       5  30-Jul-18        White  Dot   \n",
              "3149       4  29-Jul-18        Black  Dot   \n",
              "\n",
              "                                       verified_reviews  feedback  \n",
              "0                                         Love my Echo!         1  \n",
              "1                                             Loved it!         1  \n",
              "2     Sometimes while playing a game, you can answer...         1  \n",
              "3     I have had a lot of fun with this thing. My 4 ...         1  \n",
              "4                                                 Music         1  \n",
              "...                                                 ...       ...  \n",
              "3145  Perfect for kids, adults and everyone in betwe...         1  \n",
              "3146  Listening to music, searching locations, check...         1  \n",
              "3147  I do love these things, i have them running my...         1  \n",
              "3148  Only complaint I have is that the sound qualit...         1  \n",
              "3149                                               Good         1  \n",
              "\n",
              "[3150 rows x 5 columns]"
            ],
            "text/html": [
              "\n",
              "  <div id=\"df-38555882-2707-45b7-99d1-388201c5bc57\">\n",
              "    <div class=\"colab-df-container\">\n",
              "      <div>\n",
              "<style scoped>\n",
              "    .dataframe tbody tr th:only-of-type {\n",
              "        vertical-align: middle;\n",
              "    }\n",
              "\n",
              "    .dataframe tbody tr th {\n",
              "        vertical-align: top;\n",
              "    }\n",
              "\n",
              "    .dataframe thead th {\n",
              "        text-align: right;\n",
              "    }\n",
              "</style>\n",
              "<table border=\"1\" class=\"dataframe\">\n",
              "  <thead>\n",
              "    <tr style=\"text-align: right;\">\n",
              "      <th></th>\n",
              "      <th>rating</th>\n",
              "      <th>date</th>\n",
              "      <th>variation</th>\n",
              "      <th>verified_reviews</th>\n",
              "      <th>feedback</th>\n",
              "    </tr>\n",
              "  </thead>\n",
              "  <tbody>\n",
              "    <tr>\n",
              "      <th>0</th>\n",
              "      <td>5</td>\n",
              "      <td>31-Jul-18</td>\n",
              "      <td>Charcoal Fabric</td>\n",
              "      <td>Love my Echo!</td>\n",
              "      <td>1</td>\n",
              "    </tr>\n",
              "    <tr>\n",
              "      <th>1</th>\n",
              "      <td>5</td>\n",
              "      <td>31-Jul-18</td>\n",
              "      <td>Charcoal Fabric</td>\n",
              "      <td>Loved it!</td>\n",
              "      <td>1</td>\n",
              "    </tr>\n",
              "    <tr>\n",
              "      <th>2</th>\n",
              "      <td>4</td>\n",
              "      <td>31-Jul-18</td>\n",
              "      <td>Walnut Finish</td>\n",
              "      <td>Sometimes while playing a game, you can answer...</td>\n",
              "      <td>1</td>\n",
              "    </tr>\n",
              "    <tr>\n",
              "      <th>3</th>\n",
              "      <td>5</td>\n",
              "      <td>31-Jul-18</td>\n",
              "      <td>Charcoal Fabric</td>\n",
              "      <td>I have had a lot of fun with this thing. My 4 ...</td>\n",
              "      <td>1</td>\n",
              "    </tr>\n",
              "    <tr>\n",
              "      <th>4</th>\n",
              "      <td>5</td>\n",
              "      <td>31-Jul-18</td>\n",
              "      <td>Charcoal Fabric</td>\n",
              "      <td>Music</td>\n",
              "      <td>1</td>\n",
              "    </tr>\n",
              "    <tr>\n",
              "      <th>...</th>\n",
              "      <td>...</td>\n",
              "      <td>...</td>\n",
              "      <td>...</td>\n",
              "      <td>...</td>\n",
              "      <td>...</td>\n",
              "    </tr>\n",
              "    <tr>\n",
              "      <th>3145</th>\n",
              "      <td>5</td>\n",
              "      <td>30-Jul-18</td>\n",
              "      <td>Black  Dot</td>\n",
              "      <td>Perfect for kids, adults and everyone in betwe...</td>\n",
              "      <td>1</td>\n",
              "    </tr>\n",
              "    <tr>\n",
              "      <th>3146</th>\n",
              "      <td>5</td>\n",
              "      <td>30-Jul-18</td>\n",
              "      <td>Black  Dot</td>\n",
              "      <td>Listening to music, searching locations, check...</td>\n",
              "      <td>1</td>\n",
              "    </tr>\n",
              "    <tr>\n",
              "      <th>3147</th>\n",
              "      <td>5</td>\n",
              "      <td>30-Jul-18</td>\n",
              "      <td>Black  Dot</td>\n",
              "      <td>I do love these things, i have them running my...</td>\n",
              "      <td>1</td>\n",
              "    </tr>\n",
              "    <tr>\n",
              "      <th>3148</th>\n",
              "      <td>5</td>\n",
              "      <td>30-Jul-18</td>\n",
              "      <td>White  Dot</td>\n",
              "      <td>Only complaint I have is that the sound qualit...</td>\n",
              "      <td>1</td>\n",
              "    </tr>\n",
              "    <tr>\n",
              "      <th>3149</th>\n",
              "      <td>4</td>\n",
              "      <td>29-Jul-18</td>\n",
              "      <td>Black  Dot</td>\n",
              "      <td>Good</td>\n",
              "      <td>1</td>\n",
              "    </tr>\n",
              "  </tbody>\n",
              "</table>\n",
              "<p>3150 rows × 5 columns</p>\n",
              "</div>\n",
              "      <button class=\"colab-df-convert\" onclick=\"convertToInteractive('df-38555882-2707-45b7-99d1-388201c5bc57')\"\n",
              "              title=\"Convert this dataframe to an interactive table.\"\n",
              "              style=\"display:none;\">\n",
              "        \n",
              "  <svg xmlns=\"http://www.w3.org/2000/svg\" height=\"24px\"viewBox=\"0 0 24 24\"\n",
              "       width=\"24px\">\n",
              "    <path d=\"M0 0h24v24H0V0z\" fill=\"none\"/>\n",
              "    <path d=\"M18.56 5.44l.94 2.06.94-2.06 2.06-.94-2.06-.94-.94-2.06-.94 2.06-2.06.94zm-11 1L8.5 8.5l.94-2.06 2.06-.94-2.06-.94L8.5 2.5l-.94 2.06-2.06.94zm10 10l.94 2.06.94-2.06 2.06-.94-2.06-.94-.94-2.06-.94 2.06-2.06.94z\"/><path d=\"M17.41 7.96l-1.37-1.37c-.4-.4-.92-.59-1.43-.59-.52 0-1.04.2-1.43.59L10.3 9.45l-7.72 7.72c-.78.78-.78 2.05 0 2.83L4 21.41c.39.39.9.59 1.41.59.51 0 1.02-.2 1.41-.59l7.78-7.78 2.81-2.81c.8-.78.8-2.07 0-2.86zM5.41 20L4 18.59l7.72-7.72 1.47 1.35L5.41 20z\"/>\n",
              "  </svg>\n",
              "      </button>\n",
              "      \n",
              "  <style>\n",
              "    .colab-df-container {\n",
              "      display:flex;\n",
              "      flex-wrap:wrap;\n",
              "      gap: 12px;\n",
              "    }\n",
              "\n",
              "    .colab-df-convert {\n",
              "      background-color: #E8F0FE;\n",
              "      border: none;\n",
              "      border-radius: 50%;\n",
              "      cursor: pointer;\n",
              "      display: none;\n",
              "      fill: #1967D2;\n",
              "      height: 32px;\n",
              "      padding: 0 0 0 0;\n",
              "      width: 32px;\n",
              "    }\n",
              "\n",
              "    .colab-df-convert:hover {\n",
              "      background-color: #E2EBFA;\n",
              "      box-shadow: 0px 1px 2px rgba(60, 64, 67, 0.3), 0px 1px 3px 1px rgba(60, 64, 67, 0.15);\n",
              "      fill: #174EA6;\n",
              "    }\n",
              "\n",
              "    [theme=dark] .colab-df-convert {\n",
              "      background-color: #3B4455;\n",
              "      fill: #D2E3FC;\n",
              "    }\n",
              "\n",
              "    [theme=dark] .colab-df-convert:hover {\n",
              "      background-color: #434B5C;\n",
              "      box-shadow: 0px 1px 3px 1px rgba(0, 0, 0, 0.15);\n",
              "      filter: drop-shadow(0px 1px 2px rgba(0, 0, 0, 0.3));\n",
              "      fill: #FFFFFF;\n",
              "    }\n",
              "  </style>\n",
              "\n",
              "      <script>\n",
              "        const buttonEl =\n",
              "          document.querySelector('#df-38555882-2707-45b7-99d1-388201c5bc57 button.colab-df-convert');\n",
              "        buttonEl.style.display =\n",
              "          google.colab.kernel.accessAllowed ? 'block' : 'none';\n",
              "\n",
              "        async function convertToInteractive(key) {\n",
              "          const element = document.querySelector('#df-38555882-2707-45b7-99d1-388201c5bc57');\n",
              "          const dataTable =\n",
              "            await google.colab.kernel.invokeFunction('convertToInteractive',\n",
              "                                                     [key], {});\n",
              "          if (!dataTable) return;\n",
              "\n",
              "          const docLinkHtml = 'Like what you see? Visit the ' +\n",
              "            '<a target=\"_blank\" href=https://colab.research.google.com/notebooks/data_table.ipynb>data table notebook</a>'\n",
              "            + ' to learn more about interactive tables.';\n",
              "          element.innerHTML = '';\n",
              "          dataTable['output_type'] = 'display_data';\n",
              "          await google.colab.output.renderOutput(dataTable, element);\n",
              "          const docLink = document.createElement('div');\n",
              "          docLink.innerHTML = docLinkHtml;\n",
              "          element.appendChild(docLink);\n",
              "        }\n",
              "      </script>\n",
              "    </div>\n",
              "  </div>\n",
              "  "
            ]
          },
          "metadata": {},
          "execution_count": 91
        }
      ],
      "source": [
        "# Load the data\n",
        "reviews_df = pd.read_csv('/content/drive/MyDrive/Dash_plotly_home/amazon_reviews.csv') #you should change the path \n",
        "reviews_df"
      ]
    },
    {
      "cell_type": "code",
      "source": [
        "# Load spacy\n",
        "nlp = spacy.load('en_core_web_sm')\n",
        "\n",
        "def clean_string(text, stem=\"None\"):\n",
        "\n",
        "    final_string = \"\"\n",
        "\n",
        "    # Make lower\n",
        "    text = text.lower()\n",
        "\n",
        "    # Remove line breaks\n",
        "    text = re.sub(r'\\n', '', text)\n",
        "    \n",
        "\n",
        "    # Remove puncuation\n",
        "    translator = str.maketrans('', '', string.punctuation)\n",
        "    text = text.translate(translator)\n",
        "\n",
        "    # Remove stop words\n",
        "    text = text.split()\n",
        "    \n",
        "    useless_words = ['hi', 'im']\n",
        "\n",
        "    text_filtered = [word for word in text if not word in useless_words]\n",
        "\n",
        "    # Remove numbers\n",
        "    text_filtered = [re.sub(r'\\w*\\d\\w*', '', w) for w in text_filtered]\n",
        "\n",
        "\n",
        "    if stem == 'Lem':\n",
        "        lem = WordNetLemmatizer()\n",
        "        text_stemmed = [lem.lemmatize(y) for y in text_filtered]\n",
        "\n",
        "    final_string = ' '.join(text_stemmed)\n",
        "\n",
        "    return final_string"
      ],
      "metadata": {
        "id": "mYDXT5GCP-JN"
      },
      "execution_count": 92,
      "outputs": []
    },
    {
      "cell_type": "code",
      "source": [
        "reviews_df['verified_reviews'] = reviews_df['verified_reviews'].apply(lambda x: clean_string(x, stem='Lem')) #apply the function clean_string\n",
        "reviews_df['verified_reviews'] = reviews_df['verified_reviews'].apply(lambda x: ' '.join([word for word in x.split() if word not in (stop)])) #remove stop words from the column. "
      ],
      "metadata": {
        "id": "lPlnXPNcQLQL"
      },
      "execution_count": 93,
      "outputs": []
    },
    {
      "cell_type": "code",
      "source": [
        "#reviews_df['variation'].value_counts()"
      ],
      "metadata": {
        "id": "wQG98HB4sBbu"
      },
      "execution_count": 94,
      "outputs": []
    },
    {
      "cell_type": "code",
      "execution_count": 95,
      "metadata": {
        "id": "RUt2ON_UxyYk"
      },
      "outputs": [],
      "source": [
        "# View the DataFrame Information\n",
        "#reviews_df.info()"
      ]
    },
    {
      "cell_type": "code",
      "source": [
        "import pandas as pd   #create the Date receiced column that will be used later in the dashbboard\n",
        "reviews_df['Date received'] = pd.to_datetime(reviews_df['date'].str.strip(), infer_datetime_format=True)\n",
        "reviews_df['Date received'] = pd.to_datetime(reviews_df['Date received'].dt.strftime('%m-%d-%Y'))"
      ],
      "metadata": {
        "id": "inykIwB6Yl9k"
      },
      "execution_count": 96,
      "outputs": []
    },
    {
      "cell_type": "code",
      "source": [
        "min_date = reviews_df[\"Date received\"].min()\n",
        "max_date = reviews_df[\"Date received\"].max()\n",
        "max_date\n",
        "#these values will be used later in the dashboard"
      ],
      "metadata": {
        "colab": {
          "base_uri": "https://localhost:8080/"
        },
        "id": "iVpCkXX7kRJ_",
        "outputId": "99d3f827-d05d-4c6f-e9ec-1407f4cbe214"
      },
      "execution_count": 97,
      "outputs": [
        {
          "output_type": "execute_result",
          "data": {
            "text/plain": [
              "Timestamp('2018-07-31 00:00:00')"
            ]
          },
          "metadata": {},
          "execution_count": 97
        }
      ]
    },
    {
      "cell_type": "code",
      "source": [
        "#reviews_df  # format=\"%m/%d/%Y\" #this format is required in the dash"
      ],
      "metadata": {
        "id": "q5O4Mh9vZIyN"
      },
      "execution_count": 98,
      "outputs": []
    },
    {
      "cell_type": "code",
      "execution_count": 99,
      "metadata": {
        "id": "hMq3-KWOx0e1"
      },
      "outputs": [],
      "source": [
        "# View DataFrame Statistical Summary\n",
        "#reviews_df.describe()"
      ]
    },
    {
      "cell_type": "markdown",
      "metadata": {
        "id": "xF-c5PBBcgsP"
      },
      "source": [
        "**MINI CHALLENGE #1:** \n",
        "- **Drop the 'date' column from the DataFrame** \n",
        "- **Ensure that the column has been succesfully dropped** "
      ]
    },
    {
      "cell_type": "code",
      "execution_count": 100,
      "metadata": {
        "id": "0or3Bf7ZcgsR"
      },
      "outputs": [],
      "source": [
        "reviews_df = reviews_df.drop(['date'], axis=1)\n",
        "#reviews_df.head()"
      ]
    },
    {
      "cell_type": "markdown",
      "source": [
        "# Bigram Part"
      ],
      "metadata": {
        "id": "5w38gvjrQpHT"
      }
    },
    {
      "cell_type": "code",
      "source": [
        "#bigrams_EDA , cleaning for the bigram extraction task\n",
        "bigram_freq = lambda s: list(nltk.FreqDist(nltk.bigrams(s.split(\" \"))).items())\n",
        "reviewss_df = reviews_df.copy()\n",
        "reviewss_df['bigrams']= reviewss_df['verified_reviews'].apply(bigram_freq)\n",
        "reviewss_df =reviewss_df.explode('bigrams')\n",
        "reviewss_df['bigram'], reviewss_df['b'] = reviewss_df.bigrams.str\n",
        "\n",
        "def remove_emojis(data):\n",
        "    emoj = re.compile(\"[\"\n",
        "        u\"\\U0001F600-\\U0001F64F\"  # emoticons\n",
        "        u\"\\U0001F300-\\U0001F5FF\"  # symbols & pictographs\n",
        "        u\"\\U0001F680-\\U0001F6FF\"  # transport & map symbols\n",
        "        u\"\\U0001F1E0-\\U0001F1FF\"  # flags (iOS)\n",
        "        u\"\\U00002500-\\U00002BEF\"  # chinese char\n",
        "        u\"\\U00002702-\\U000027B0\"\n",
        "        u\"\\U00002702-\\U000027B0\"\n",
        "        u\"\\U000024C2-\\U0001F251\"\n",
        "        u\"\\U0001f926-\\U0001f937\"\n",
        "        u\"\\U00010000-\\U0010ffff\"\n",
        "        u\"\\u2640-\\u2642\" \n",
        "        u\"\\u2600-\\u2B55\"\n",
        "        u\"\\u200d\"\n",
        "        u\"\\u23cf\"\n",
        "        u\"\\u23e9\"\n",
        "        u\"\\u231a\"\n",
        "        u\"\\ufe0f\"  # dingbats\n",
        "        u\"\\u3030\" \"]+\", re.UNICODE)\n",
        "    return re.sub(emoj, '', str(data)) \n",
        "\n",
        "reviewss_df['bigram'] = reviewss_df.apply(lambda x: remove_emojis(x.bigram), axis=1)\n",
        "reviewss_df['bigram'] = reviewss_df['bigram'].astype(str).str.replace(\"(\", \"\")\n",
        "reviewss_df['bigram'] = reviewss_df['bigram'].astype(str).str.replace(\"[!@#$]\", \"\") \n",
        "reviewss_df['bigram'] = reviewss_df['bigram'].astype(str).str.replace(\")\", \"\")\n",
        "reviewss_df['bigram'] = reviewss_df['bigram'].astype(str).str.replace(\"'\", \"\")\n",
        "reviewss_df['bigram'] = reviewss_df['bigram'].astype(str).str.replace(\"'\", \"\")\n",
        "reviewss_df['bigram'] = reviewss_df['bigram'].astype(str).str.replace(\",\", \"_\")\n",
        "reviewss_df['bigram'] = reviewss_df['bigram'].astype(str).str.replace(\"_ \", \"_\")\n",
        "reviewss_df['bigram'] = reviewss_df['bigram'].astype(str).str.replace(\" _\", \"_\")\n",
        "del reviewss_df['b']\n",
        "bigram_df =reviewss_df.groupby(['bigram','variation']).size().reset_index() \n",
        "bigram_df = bigram_df.rename(columns={0: 'value', 'variation': 'company','bigram':'ngram'})# the output is a dataframe with bigrams grouped by varitation with count. "
      ],
      "metadata": {
        "colab": {
          "base_uri": "https://localhost:8080/"
        },
        "id": "0RFnMuRMQwXr",
        "outputId": "8c268ed9-c33a-4097-dbb9-7978bbb9c63b"
      },
      "execution_count": 101,
      "outputs": [
        {
          "output_type": "stream",
          "name": "stderr",
          "text": [
            "<ipython-input-101-74279bd3728f>:6: FutureWarning:\n",
            "\n",
            "Columnar iteration over characters will be deprecated in future releases.\n",
            "\n",
            "<ipython-input-101-74279bd3728f>:31: FutureWarning:\n",
            "\n",
            "The default value of regex will change from True to False in a future version. In addition, single character regular expressions will *not* be treated as literal strings when regex=True.\n",
            "\n",
            "<ipython-input-101-74279bd3728f>:32: FutureWarning:\n",
            "\n",
            "The default value of regex will change from True to False in a future version.\n",
            "\n",
            "<ipython-input-101-74279bd3728f>:33: FutureWarning:\n",
            "\n",
            "The default value of regex will change from True to False in a future version. In addition, single character regular expressions will *not* be treated as literal strings when regex=True.\n",
            "\n"
          ]
        }
      ]
    },
    {
      "cell_type": "code",
      "source": [
        "bigram_df"
      ],
      "metadata": {
        "colab": {
          "base_uri": "https://localhost:8080/",
          "height": 424
        },
        "id": "dJZJBoDlRo1a",
        "outputId": "b482c496-6822-4e20-ee53-828024622ee5"
      },
      "execution_count": 102,
      "outputs": [
        {
          "output_type": "execute_result",
          "data": {
            "text/plain": [
              "                ngram           company  value\n",
              "0             _course       Black  Plus      1\n",
              "1           _download       Black  Spot      1\n",
              "2            _haven’t       Black  Spot      1\n",
              "3               _love       Black  Spot      1\n",
              "4               _much             Black      1\n",
              "...               ...               ...    ...\n",
              "27074  “white”_option       White  Show      1\n",
              "27075    “your”_music  Charcoal Fabric       2\n",
              "27076         ”_alexa       Black  Spot      1\n",
              "27077          ”_good       Black  Spot      1\n",
              "27078         ⏰_music       Black  Spot      1\n",
              "\n",
              "[27079 rows x 3 columns]"
            ],
            "text/html": [
              "\n",
              "  <div id=\"df-117b764e-566e-4f1b-ac35-24f53682a19c\">\n",
              "    <div class=\"colab-df-container\">\n",
              "      <div>\n",
              "<style scoped>\n",
              "    .dataframe tbody tr th:only-of-type {\n",
              "        vertical-align: middle;\n",
              "    }\n",
              "\n",
              "    .dataframe tbody tr th {\n",
              "        vertical-align: top;\n",
              "    }\n",
              "\n",
              "    .dataframe thead th {\n",
              "        text-align: right;\n",
              "    }\n",
              "</style>\n",
              "<table border=\"1\" class=\"dataframe\">\n",
              "  <thead>\n",
              "    <tr style=\"text-align: right;\">\n",
              "      <th></th>\n",
              "      <th>ngram</th>\n",
              "      <th>company</th>\n",
              "      <th>value</th>\n",
              "    </tr>\n",
              "  </thead>\n",
              "  <tbody>\n",
              "    <tr>\n",
              "      <th>0</th>\n",
              "      <td>_course</td>\n",
              "      <td>Black  Plus</td>\n",
              "      <td>1</td>\n",
              "    </tr>\n",
              "    <tr>\n",
              "      <th>1</th>\n",
              "      <td>_download</td>\n",
              "      <td>Black  Spot</td>\n",
              "      <td>1</td>\n",
              "    </tr>\n",
              "    <tr>\n",
              "      <th>2</th>\n",
              "      <td>_haven’t</td>\n",
              "      <td>Black  Spot</td>\n",
              "      <td>1</td>\n",
              "    </tr>\n",
              "    <tr>\n",
              "      <th>3</th>\n",
              "      <td>_love</td>\n",
              "      <td>Black  Spot</td>\n",
              "      <td>1</td>\n",
              "    </tr>\n",
              "    <tr>\n",
              "      <th>4</th>\n",
              "      <td>_much</td>\n",
              "      <td>Black</td>\n",
              "      <td>1</td>\n",
              "    </tr>\n",
              "    <tr>\n",
              "      <th>...</th>\n",
              "      <td>...</td>\n",
              "      <td>...</td>\n",
              "      <td>...</td>\n",
              "    </tr>\n",
              "    <tr>\n",
              "      <th>27074</th>\n",
              "      <td>“white”_option</td>\n",
              "      <td>White  Show</td>\n",
              "      <td>1</td>\n",
              "    </tr>\n",
              "    <tr>\n",
              "      <th>27075</th>\n",
              "      <td>“your”_music</td>\n",
              "      <td>Charcoal Fabric</td>\n",
              "      <td>2</td>\n",
              "    </tr>\n",
              "    <tr>\n",
              "      <th>27076</th>\n",
              "      <td>”_alexa</td>\n",
              "      <td>Black  Spot</td>\n",
              "      <td>1</td>\n",
              "    </tr>\n",
              "    <tr>\n",
              "      <th>27077</th>\n",
              "      <td>”_good</td>\n",
              "      <td>Black  Spot</td>\n",
              "      <td>1</td>\n",
              "    </tr>\n",
              "    <tr>\n",
              "      <th>27078</th>\n",
              "      <td>⏰_music</td>\n",
              "      <td>Black  Spot</td>\n",
              "      <td>1</td>\n",
              "    </tr>\n",
              "  </tbody>\n",
              "</table>\n",
              "<p>27079 rows × 3 columns</p>\n",
              "</div>\n",
              "      <button class=\"colab-df-convert\" onclick=\"convertToInteractive('df-117b764e-566e-4f1b-ac35-24f53682a19c')\"\n",
              "              title=\"Convert this dataframe to an interactive table.\"\n",
              "              style=\"display:none;\">\n",
              "        \n",
              "  <svg xmlns=\"http://www.w3.org/2000/svg\" height=\"24px\"viewBox=\"0 0 24 24\"\n",
              "       width=\"24px\">\n",
              "    <path d=\"M0 0h24v24H0V0z\" fill=\"none\"/>\n",
              "    <path d=\"M18.56 5.44l.94 2.06.94-2.06 2.06-.94-2.06-.94-.94-2.06-.94 2.06-2.06.94zm-11 1L8.5 8.5l.94-2.06 2.06-.94-2.06-.94L8.5 2.5l-.94 2.06-2.06.94zm10 10l.94 2.06.94-2.06 2.06-.94-2.06-.94-.94-2.06-.94 2.06-2.06.94z\"/><path d=\"M17.41 7.96l-1.37-1.37c-.4-.4-.92-.59-1.43-.59-.52 0-1.04.2-1.43.59L10.3 9.45l-7.72 7.72c-.78.78-.78 2.05 0 2.83L4 21.41c.39.39.9.59 1.41.59.51 0 1.02-.2 1.41-.59l7.78-7.78 2.81-2.81c.8-.78.8-2.07 0-2.86zM5.41 20L4 18.59l7.72-7.72 1.47 1.35L5.41 20z\"/>\n",
              "  </svg>\n",
              "      </button>\n",
              "      \n",
              "  <style>\n",
              "    .colab-df-container {\n",
              "      display:flex;\n",
              "      flex-wrap:wrap;\n",
              "      gap: 12px;\n",
              "    }\n",
              "\n",
              "    .colab-df-convert {\n",
              "      background-color: #E8F0FE;\n",
              "      border: none;\n",
              "      border-radius: 50%;\n",
              "      cursor: pointer;\n",
              "      display: none;\n",
              "      fill: #1967D2;\n",
              "      height: 32px;\n",
              "      padding: 0 0 0 0;\n",
              "      width: 32px;\n",
              "    }\n",
              "\n",
              "    .colab-df-convert:hover {\n",
              "      background-color: #E2EBFA;\n",
              "      box-shadow: 0px 1px 2px rgba(60, 64, 67, 0.3), 0px 1px 3px 1px rgba(60, 64, 67, 0.15);\n",
              "      fill: #174EA6;\n",
              "    }\n",
              "\n",
              "    [theme=dark] .colab-df-convert {\n",
              "      background-color: #3B4455;\n",
              "      fill: #D2E3FC;\n",
              "    }\n",
              "\n",
              "    [theme=dark] .colab-df-convert:hover {\n",
              "      background-color: #434B5C;\n",
              "      box-shadow: 0px 1px 3px 1px rgba(0, 0, 0, 0.15);\n",
              "      filter: drop-shadow(0px 1px 2px rgba(0, 0, 0, 0.3));\n",
              "      fill: #FFFFFF;\n",
              "    }\n",
              "  </style>\n",
              "\n",
              "      <script>\n",
              "        const buttonEl =\n",
              "          document.querySelector('#df-117b764e-566e-4f1b-ac35-24f53682a19c button.colab-df-convert');\n",
              "        buttonEl.style.display =\n",
              "          google.colab.kernel.accessAllowed ? 'block' : 'none';\n",
              "\n",
              "        async function convertToInteractive(key) {\n",
              "          const element = document.querySelector('#df-117b764e-566e-4f1b-ac35-24f53682a19c');\n",
              "          const dataTable =\n",
              "            await google.colab.kernel.invokeFunction('convertToInteractive',\n",
              "                                                     [key], {});\n",
              "          if (!dataTable) return;\n",
              "\n",
              "          const docLinkHtml = 'Like what you see? Visit the ' +\n",
              "            '<a target=\"_blank\" href=https://colab.research.google.com/notebooks/data_table.ipynb>data table notebook</a>'\n",
              "            + ' to learn more about interactive tables.';\n",
              "          element.innerHTML = '';\n",
              "          dataTable['output_type'] = 'display_data';\n",
              "          await google.colab.output.renderOutput(dataTable, element);\n",
              "          const docLink = document.createElement('div');\n",
              "          docLink.innerHTML = docLinkHtml;\n",
              "          element.appendChild(docLink);\n",
              "        }\n",
              "      </script>\n",
              "    </div>\n",
              "  </div>\n",
              "  "
            ]
          },
          "metadata": {},
          "execution_count": 102
        }
      ]
    },
    {
      "cell_type": "code",
      "source": [
        "bigram_df = bigram_df[bigram_df.ngram != '_']\n",
        "bigram_df = bigram_df[bigram_df.ngram != '_a']\n",
        "bigram_df = bigram_df[bigram_df.ngram != '_not']\n",
        "bigram_df = bigram_df[bigram_df.ngram != '_and']\n",
        "bigram_df = bigram_df[bigram_df.ngram != ' _not']\n",
        "bigram_df = bigram_df[bigram_df.ngram != ' _and']\n",
        "bigram_df = bigram_df[bigram_df.ngram != ' _are']"
      ],
      "metadata": {
        "id": "vIGixpQGRjFc"
      },
      "execution_count": 103,
      "outputs": []
    },
    {
      "cell_type": "code",
      "source": [
        "#cleanning \n",
        "bigram_df = bigram_df[bigram_df.ngram != 'nan']\n",
        "bigram_df['ngram'] = bigram_df['ngram'].astype(str).str.replace(\"—\", \" \")\n",
        "bigram_df['ngram'] = bigram_df['ngram'].astype(str).str.replace(\"“\", \" \")\n",
        "bigram_df['ngram'] = bigram_df['ngram'].astype(str).str.replace(\"‘\", \" \")\n",
        "bigram_df['ngram'] = bigram_df['ngram'].astype(str).str.replace(\"’\", \" \")\n",
        "bigram_df['ngram'] = bigram_df['ngram'].astype(str).str.replace(\" \", \"\")\n",
        "bigram_df['ngram'] = bigram_df['ngram'].astype(str).str.replace(\"”\", \" \")\n",
        "#bigram_df"
      ],
      "metadata": {
        "id": "nggXoVMLRkZr"
      },
      "execution_count": 104,
      "outputs": []
    },
    {
      "cell_type": "code",
      "source": [
        "embed_df = bigram_df.copy()   #embed_df will be used later in the dashboard, is just a groupby dataframe \n",
        "#embed_df = embed_df.ngram.value_counts()\n",
        "embed_df = embed_df.groupby('ngram').count().reset_index()\n",
        "embed_df = embed_df.sort_values(\n",
        "   by=\"company\",\n",
        "    ascending=False\n",
        ")\n",
        "embed_df = embed_df.rename(columns={'ngram': 'bigram', 'company': 'count','value':'words'}) #just remaining for the dashboard\n",
        "embed_df = embed_df.iloc[:22]  #take only the 21 most frequent bigrams that will be plotted in the dashboard later\n",
        "embed_df"
      ],
      "metadata": {
        "colab": {
          "base_uri": "https://localhost:8080/",
          "height": 739
        },
        "id": "vBuQtezWRmEC",
        "outputId": "322dd9d9-ff0c-46a5-adfd-6e1451b623b7"
      },
      "execution_count": 105,
      "outputs": [
        {
          "output_type": "execute_result",
          "data": {
            "text/plain": [
              "               bigram  count  words\n",
              "19683      turn_light     13     13\n",
              "5511         echo_dot     13     13\n",
              "18237  still_learning     13     13\n",
              "11367       love_echo     13     13\n",
              "21911       work_well     13     13\n",
              "5454         easy_set     13     13\n",
              "21836      work_great     13     13\n",
              "20810         wa_easy     12     12\n",
              "8216    great_product     12     12\n",
              "14070      play_music     12     12\n",
              "8182       great_love     12     12\n",
              "17619   sound_quality     12     12\n",
              "11325      love_alexa     12     12\n",
              "8242      great_sound     11     11\n",
              "14516       prime_day     11     11\n",
              "14123   playing_music     11     11\n",
              "1061     amazon_prime     10     10\n",
              "1051     amazon_music     10     10\n",
              "6064      even_though     10     10\n",
              "10962    listen_music     10     10\n",
              "5047        dont_know     10     10\n",
              "12204     much_better     10     10"
            ],
            "text/html": [
              "\n",
              "  <div id=\"df-dfaf3403-e68a-41be-90d8-8a6957c03779\">\n",
              "    <div class=\"colab-df-container\">\n",
              "      <div>\n",
              "<style scoped>\n",
              "    .dataframe tbody tr th:only-of-type {\n",
              "        vertical-align: middle;\n",
              "    }\n",
              "\n",
              "    .dataframe tbody tr th {\n",
              "        vertical-align: top;\n",
              "    }\n",
              "\n",
              "    .dataframe thead th {\n",
              "        text-align: right;\n",
              "    }\n",
              "</style>\n",
              "<table border=\"1\" class=\"dataframe\">\n",
              "  <thead>\n",
              "    <tr style=\"text-align: right;\">\n",
              "      <th></th>\n",
              "      <th>bigram</th>\n",
              "      <th>count</th>\n",
              "      <th>words</th>\n",
              "    </tr>\n",
              "  </thead>\n",
              "  <tbody>\n",
              "    <tr>\n",
              "      <th>19683</th>\n",
              "      <td>turn_light</td>\n",
              "      <td>13</td>\n",
              "      <td>13</td>\n",
              "    </tr>\n",
              "    <tr>\n",
              "      <th>5511</th>\n",
              "      <td>echo_dot</td>\n",
              "      <td>13</td>\n",
              "      <td>13</td>\n",
              "    </tr>\n",
              "    <tr>\n",
              "      <th>18237</th>\n",
              "      <td>still_learning</td>\n",
              "      <td>13</td>\n",
              "      <td>13</td>\n",
              "    </tr>\n",
              "    <tr>\n",
              "      <th>11367</th>\n",
              "      <td>love_echo</td>\n",
              "      <td>13</td>\n",
              "      <td>13</td>\n",
              "    </tr>\n",
              "    <tr>\n",
              "      <th>21911</th>\n",
              "      <td>work_well</td>\n",
              "      <td>13</td>\n",
              "      <td>13</td>\n",
              "    </tr>\n",
              "    <tr>\n",
              "      <th>5454</th>\n",
              "      <td>easy_set</td>\n",
              "      <td>13</td>\n",
              "      <td>13</td>\n",
              "    </tr>\n",
              "    <tr>\n",
              "      <th>21836</th>\n",
              "      <td>work_great</td>\n",
              "      <td>13</td>\n",
              "      <td>13</td>\n",
              "    </tr>\n",
              "    <tr>\n",
              "      <th>20810</th>\n",
              "      <td>wa_easy</td>\n",
              "      <td>12</td>\n",
              "      <td>12</td>\n",
              "    </tr>\n",
              "    <tr>\n",
              "      <th>8216</th>\n",
              "      <td>great_product</td>\n",
              "      <td>12</td>\n",
              "      <td>12</td>\n",
              "    </tr>\n",
              "    <tr>\n",
              "      <th>14070</th>\n",
              "      <td>play_music</td>\n",
              "      <td>12</td>\n",
              "      <td>12</td>\n",
              "    </tr>\n",
              "    <tr>\n",
              "      <th>8182</th>\n",
              "      <td>great_love</td>\n",
              "      <td>12</td>\n",
              "      <td>12</td>\n",
              "    </tr>\n",
              "    <tr>\n",
              "      <th>17619</th>\n",
              "      <td>sound_quality</td>\n",
              "      <td>12</td>\n",
              "      <td>12</td>\n",
              "    </tr>\n",
              "    <tr>\n",
              "      <th>11325</th>\n",
              "      <td>love_alexa</td>\n",
              "      <td>12</td>\n",
              "      <td>12</td>\n",
              "    </tr>\n",
              "    <tr>\n",
              "      <th>8242</th>\n",
              "      <td>great_sound</td>\n",
              "      <td>11</td>\n",
              "      <td>11</td>\n",
              "    </tr>\n",
              "    <tr>\n",
              "      <th>14516</th>\n",
              "      <td>prime_day</td>\n",
              "      <td>11</td>\n",
              "      <td>11</td>\n",
              "    </tr>\n",
              "    <tr>\n",
              "      <th>14123</th>\n",
              "      <td>playing_music</td>\n",
              "      <td>11</td>\n",
              "      <td>11</td>\n",
              "    </tr>\n",
              "    <tr>\n",
              "      <th>1061</th>\n",
              "      <td>amazon_prime</td>\n",
              "      <td>10</td>\n",
              "      <td>10</td>\n",
              "    </tr>\n",
              "    <tr>\n",
              "      <th>1051</th>\n",
              "      <td>amazon_music</td>\n",
              "      <td>10</td>\n",
              "      <td>10</td>\n",
              "    </tr>\n",
              "    <tr>\n",
              "      <th>6064</th>\n",
              "      <td>even_though</td>\n",
              "      <td>10</td>\n",
              "      <td>10</td>\n",
              "    </tr>\n",
              "    <tr>\n",
              "      <th>10962</th>\n",
              "      <td>listen_music</td>\n",
              "      <td>10</td>\n",
              "      <td>10</td>\n",
              "    </tr>\n",
              "    <tr>\n",
              "      <th>5047</th>\n",
              "      <td>dont_know</td>\n",
              "      <td>10</td>\n",
              "      <td>10</td>\n",
              "    </tr>\n",
              "    <tr>\n",
              "      <th>12204</th>\n",
              "      <td>much_better</td>\n",
              "      <td>10</td>\n",
              "      <td>10</td>\n",
              "    </tr>\n",
              "  </tbody>\n",
              "</table>\n",
              "</div>\n",
              "      <button class=\"colab-df-convert\" onclick=\"convertToInteractive('df-dfaf3403-e68a-41be-90d8-8a6957c03779')\"\n",
              "              title=\"Convert this dataframe to an interactive table.\"\n",
              "              style=\"display:none;\">\n",
              "        \n",
              "  <svg xmlns=\"http://www.w3.org/2000/svg\" height=\"24px\"viewBox=\"0 0 24 24\"\n",
              "       width=\"24px\">\n",
              "    <path d=\"M0 0h24v24H0V0z\" fill=\"none\"/>\n",
              "    <path d=\"M18.56 5.44l.94 2.06.94-2.06 2.06-.94-2.06-.94-.94-2.06-.94 2.06-2.06.94zm-11 1L8.5 8.5l.94-2.06 2.06-.94-2.06-.94L8.5 2.5l-.94 2.06-2.06.94zm10 10l.94 2.06.94-2.06 2.06-.94-2.06-.94-.94-2.06-.94 2.06-2.06.94z\"/><path d=\"M17.41 7.96l-1.37-1.37c-.4-.4-.92-.59-1.43-.59-.52 0-1.04.2-1.43.59L10.3 9.45l-7.72 7.72c-.78.78-.78 2.05 0 2.83L4 21.41c.39.39.9.59 1.41.59.51 0 1.02-.2 1.41-.59l7.78-7.78 2.81-2.81c.8-.78.8-2.07 0-2.86zM5.41 20L4 18.59l7.72-7.72 1.47 1.35L5.41 20z\"/>\n",
              "  </svg>\n",
              "      </button>\n",
              "      \n",
              "  <style>\n",
              "    .colab-df-container {\n",
              "      display:flex;\n",
              "      flex-wrap:wrap;\n",
              "      gap: 12px;\n",
              "    }\n",
              "\n",
              "    .colab-df-convert {\n",
              "      background-color: #E8F0FE;\n",
              "      border: none;\n",
              "      border-radius: 50%;\n",
              "      cursor: pointer;\n",
              "      display: none;\n",
              "      fill: #1967D2;\n",
              "      height: 32px;\n",
              "      padding: 0 0 0 0;\n",
              "      width: 32px;\n",
              "    }\n",
              "\n",
              "    .colab-df-convert:hover {\n",
              "      background-color: #E2EBFA;\n",
              "      box-shadow: 0px 1px 2px rgba(60, 64, 67, 0.3), 0px 1px 3px 1px rgba(60, 64, 67, 0.15);\n",
              "      fill: #174EA6;\n",
              "    }\n",
              "\n",
              "    [theme=dark] .colab-df-convert {\n",
              "      background-color: #3B4455;\n",
              "      fill: #D2E3FC;\n",
              "    }\n",
              "\n",
              "    [theme=dark] .colab-df-convert:hover {\n",
              "      background-color: #434B5C;\n",
              "      box-shadow: 0px 1px 3px 1px rgba(0, 0, 0, 0.15);\n",
              "      filter: drop-shadow(0px 1px 2px rgba(0, 0, 0, 0.3));\n",
              "      fill: #FFFFFF;\n",
              "    }\n",
              "  </style>\n",
              "\n",
              "      <script>\n",
              "        const buttonEl =\n",
              "          document.querySelector('#df-dfaf3403-e68a-41be-90d8-8a6957c03779 button.colab-df-convert');\n",
              "        buttonEl.style.display =\n",
              "          google.colab.kernel.accessAllowed ? 'block' : 'none';\n",
              "\n",
              "        async function convertToInteractive(key) {\n",
              "          const element = document.querySelector('#df-dfaf3403-e68a-41be-90d8-8a6957c03779');\n",
              "          const dataTable =\n",
              "            await google.colab.kernel.invokeFunction('convertToInteractive',\n",
              "                                                     [key], {});\n",
              "          if (!dataTable) return;\n",
              "\n",
              "          const docLinkHtml = 'Like what you see? Visit the ' +\n",
              "            '<a target=\"_blank\" href=https://colab.research.google.com/notebooks/data_table.ipynb>data table notebook</a>'\n",
              "            + ' to learn more about interactive tables.';\n",
              "          element.innerHTML = '';\n",
              "          dataTable['output_type'] = 'display_data';\n",
              "          await google.colab.output.renderOutput(dataTable, element);\n",
              "          const docLink = document.createElement('div');\n",
              "          docLink.innerHTML = docLinkHtml;\n",
              "          element.appendChild(docLink);\n",
              "        }\n",
              "      </script>\n",
              "    </div>\n",
              "  </div>\n",
              "  "
            ]
          },
          "metadata": {},
          "execution_count": 105
        }
      ]
    },
    {
      "cell_type": "markdown",
      "metadata": {
        "id": "LlszUhNNyrl_"
      },
      "source": [
        "# TASK #3: PERFORM DATA VISUALIZATION"
      ]
    },
    {
      "cell_type": "code",
      "source": [
        "#reviews_df['variation'].value_counts()\n",
        "# Check for missing values\n",
        "#reviews_df.isnull()\n",
        "# Check for missing with a heatmap to confirm\n",
        "#sns.heatmap(reviews_df.isnull(), yticklabels = False)\n",
        "# Plot the count plot for the ratings \n",
        "#sns.countplot(x = reviews_df['rating'])"
      ],
      "metadata": {
        "id": "a5-E_d3SbEKV"
      },
      "execution_count": 106,
      "outputs": []
    },
    {
      "cell_type": "markdown",
      "metadata": {
        "id": "giHTz0a0cgsq"
      },
      "source": [
        "**MINI CHALLENGE #2:** \n",
        "- **Plot the countplot for the feedback column**\n",
        "- **Roughly how many positive and negative feedback are present in the dataset?**"
      ]
    },
    {
      "cell_type": "code",
      "execution_count": 107,
      "metadata": {
        "id": "MdThwC21cgsr"
      },
      "outputs": [],
      "source": [
        "# Plot the count plot for the feedback\n",
        "#sns.countplot(x = reviews_df['feedback'])"
      ]
    },
    {
      "cell_type": "markdown",
      "metadata": {
        "id": "6txq0KIGcgsu"
      },
      "source": [
        "# TASK #4: PERFORM DATA EXPLORATION"
      ]
    },
    {
      "cell_type": "code",
      "execution_count": 108,
      "metadata": {
        "id": "ZiVkQqEPMDDD"
      },
      "outputs": [],
      "source": [
        "# Get the length of characters for each verfied review\n",
        "reviews_df['length'] = (reviews_df['verified_reviews']).apply(len)"
      ]
    },
    {
      "cell_type": "code",
      "execution_count": 109,
      "metadata": {
        "id": "RYLqq7WetK79"
      },
      "outputs": [],
      "source": [
        "# Plot the histogram for the length\n",
        "#reviews_df['length'].plot(bins = 100, kind = 'hist')"
      ]
    },
    {
      "cell_type": "code",
      "execution_count": 110,
      "metadata": {
        "id": "NECH94w1KSpS"
      },
      "outputs": [],
      "source": [
        "# Let's see the longest message \n",
        "#reviews_df[reviews_df['length'] == 2851]"
      ]
    },
    {
      "cell_type": "code",
      "execution_count": 111,
      "metadata": {
        "id": "3x0YGkgCcgs3"
      },
      "outputs": [],
      "source": [
        "# Grab only the verified reviews column and show the first element\n",
        "#reviews_df[reviews_df['length'] == 2851]['verified_reviews'].iloc[0]"
      ]
    },
    {
      "cell_type": "markdown",
      "metadata": {
        "id": "qCKQWNMPcgs4"
      },
      "source": [
        "**MINI CHALLENGE #3:**\n",
        "- **View the message with the average length**"
      ]
    },
    {
      "cell_type": "code",
      "execution_count": 112,
      "metadata": {
        "id": "vVVjj38mcgs5",
        "outputId": "9dbaed81-4166-4b79-aeee-120c35265e2a",
        "colab": {
          "base_uri": "https://localhost:8080/",
          "height": 35
        }
      },
      "outputs": [
        {
          "output_type": "execute_result",
          "data": {
            "text/plain": [
              "'work replaced expired bedside radioalarmit took realize option setting involved using touch screenmaybe said something setup process'"
            ],
            "application/vnd.google.colaboratory.intrinsic+json": {
              "type": "string"
            }
          },
          "metadata": {},
          "execution_count": 112
        }
      ],
      "source": [
        "# View the message with the average length\n",
        "reviews_df[reviews_df['length'] == 132]['verified_reviews'].iloc[0]"
      ]
    },
    {
      "cell_type": "markdown",
      "metadata": {
        "id": "vU40bQACcgs6"
      },
      "source": [
        "# TASK #5: PLOT THE WORDCLOUD"
      ]
    },
    {
      "cell_type": "code",
      "execution_count": 113,
      "metadata": {
        "id": "5d38HsgdA3LA"
      },
      "outputs": [],
      "source": [
        "# Obtain only the positive reviews\n",
        "positive = reviews_df[reviews_df['feedback']==1]"
      ]
    },
    {
      "cell_type": "code",
      "execution_count": 114,
      "metadata": {
        "id": "cv3wJuaEBNaX"
      },
      "outputs": [],
      "source": [
        "# Obtain the negative reviews only\n",
        "negative = reviews_df[reviews_df['feedback']==0]"
      ]
    },
    {
      "cell_type": "code",
      "execution_count": 115,
      "metadata": {
        "id": "gPBOCIbxCCKE"
      },
      "outputs": [],
      "source": [
        "# Convert to list format\n",
        "sentences = positive['verified_reviews'].tolist()\n",
        "#len(sentences)"
      ]
    },
    {
      "cell_type": "code",
      "execution_count": 116,
      "metadata": {
        "id": "4V3vfaX9Cbgr"
      },
      "outputs": [],
      "source": [
        "# Join all reviews into one large string\n",
        "sentences_as_one_string = ' '.join(sentences)"
      ]
    },
    {
      "cell_type": "code",
      "execution_count": 117,
      "metadata": {
        "id": "2GVjDXBFCK7_",
        "scrolled": false
      },
      "outputs": [],
      "source": [
        "from wordcloud import WordCloud\n",
        "\n",
        "#plt.figure(figsize=(20,20))\n",
        "#plt.imshow(WordCloud().generate(sentences_as_one_string))"
      ]
    },
    {
      "cell_type": "markdown",
      "metadata": {
        "id": "IjoOWfzYcgtB"
      },
      "source": [
        "**MINI CHALLENGE #4:** \n",
        "- **Plot the wordcloud of the \"negative\" dataframe** \n",
        "- **What do you notice? Does the data make sense?**"
      ]
    },
    {
      "cell_type": "code",
      "execution_count": 118,
      "metadata": {
        "id": "Nf3yPx0mcgtC"
      },
      "outputs": [],
      "source": [
        "# Plot the wordcloud of the \"negative\" dataframe\n",
        "sentences = negative['verified_reviews'].tolist() # Convert to list format\n",
        "sentences_as_one_string = ' '.join(sentences)\n",
        "#plt.figure(figsize=(20,20))\n",
        "#plt.imshow(WordCloud().generate(sentences_as_one_string))"
      ]
    },
    {
      "cell_type": "markdown",
      "metadata": {
        "id": "Y0GmpAjG3GiH"
      },
      "source": [
        "# TASK #6: TEXT DATA CLEANING 101"
      ]
    },
    {
      "cell_type": "code",
      "execution_count": 119,
      "metadata": {
        "id": "lrET3QD4cgtE",
        "colab": {
          "base_uri": "https://localhost:8080/",
          "height": 35
        },
        "outputId": "279ba99f-4b32-4d20-c49f-093a42262ff7"
      },
      "outputs": [
        {
          "output_type": "execute_result",
          "data": {
            "text/plain": [
              "'!\"#$%&\\'()*+,-./:;<=>?@[\\\\]^_`{|}~'"
            ],
            "application/vnd.google.colaboratory.intrinsic+json": {
              "type": "string"
            }
          },
          "metadata": {},
          "execution_count": 119
        }
      ],
      "source": [
        "import string\n",
        "string.punctuation"
      ]
    },
    {
      "cell_type": "code",
      "execution_count": 120,
      "metadata": {
        "id": "JG4ddkfacgtF"
      },
      "outputs": [],
      "source": [
        "Test = '$I Love Coursera &Rhyme Guided Projects...!!!!'"
      ]
    },
    {
      "cell_type": "code",
      "execution_count": 121,
      "metadata": {
        "id": "_2EewIUSPIHJ"
      },
      "outputs": [],
      "source": [
        "Test_punc_removed = [char for char in Test if char not in string.punctuation]\n",
        "#Test_punc_removed"
      ]
    },
    {
      "cell_type": "code",
      "execution_count": 122,
      "metadata": {
        "id": "EMWeHpqNPIJ4"
      },
      "outputs": [],
      "source": [
        "# Join the characters again to form the string.\n",
        "Test_punc_removed_join = ''.join(Test_punc_removed)\n"
      ]
    },
    {
      "cell_type": "code",
      "execution_count": 123,
      "metadata": {
        "id": "f_juuvbOcgtH"
      },
      "outputs": [],
      "source": [
        "import nltk # Natural Language tool kit "
      ]
    },
    {
      "cell_type": "code",
      "execution_count": 124,
      "metadata": {
        "id": "gA257fmTcgtI",
        "colab": {
          "base_uri": "https://localhost:8080/"
        },
        "outputId": "6d22c21e-d5f7-4255-8f36-d33b7f35386a"
      },
      "outputs": [
        {
          "output_type": "stream",
          "name": "stderr",
          "text": [
            "[nltk_data] Downloading package stopwords to /root/nltk_data...\n",
            "[nltk_data]   Package stopwords is already up-to-date!\n"
          ]
        }
      ],
      "source": [
        "# You have to download stopwords Package to execute this command\n",
        "from nltk.corpus import stopwords\n",
        "nltk.download('stopwords')\n",
        "stopwords.words('english')\n",
        "STOPWORDS = stopwords.words('english') #used in the dash plotly\n"
      ]
    },
    {
      "cell_type": "code",
      "execution_count": 125,
      "metadata": {
        "id": "3lzUfHhtcgtI"
      },
      "outputs": [],
      "source": [
        "Test_punc_removed_join = 'I have been enjoying these coding, programming and AI guided Projects on Rhyme and Coursera'"
      ]
    },
    {
      "cell_type": "code",
      "execution_count": 126,
      "metadata": {
        "id": "u-D-mfoVcgtJ"
      },
      "outputs": [],
      "source": [
        "Test_punc_removed_join_clean = [word for word in Test_punc_removed_join.split() if word.lower() not in stopwords.words('english')]"
      ]
    },
    {
      "cell_type": "markdown",
      "metadata": {
        "id": "xGE9PXmDcgtK"
      },
      "source": [
        "**MINI CHALLENGE #5:** \n",
        "- **For the following text, create a pipeline to remove punctuations followed by removing stopwords and test the pipeline**\n",
        "- **mini_challenge = 'Here is a mini challenge, that will teach you how to remove stopwords and punctuations from text..!!'**"
      ]
    },
    {
      "cell_type": "code",
      "execution_count": 127,
      "metadata": {
        "id": "3aPk-w2WPfYI"
      },
      "outputs": [],
      "source": [
        "mini_challenge = 'Here is a mini challenge, that will teach you how to remove stopwords and punctuations from text..!!'"
      ]
    },
    {
      "cell_type": "code",
      "source": [
        "import string"
      ],
      "metadata": {
        "id": "hDfGKwMddTCF"
      },
      "execution_count": 128,
      "outputs": []
    },
    {
      "cell_type": "code",
      "execution_count": 129,
      "metadata": {
        "id": "QWXE2ojXQ6F9"
      },
      "outputs": [],
      "source": [
        "challege = [ char for char in mini_challenge  if char not in string.punctuation ]\n",
        "challenge = ''.join(challege)\n",
        "challenge = [  word for word in challenge.split() if word.lower() not in stopwords.words('english')  ] \n"
      ]
    },
    {
      "cell_type": "markdown",
      "metadata": {
        "id": "7Kxb4M0pRBkU"
      },
      "source": [
        "# TASK #7: PERFORM COUNT VECTORIZATION (TOKENIZATION)"
      ]
    },
    {
      "cell_type": "code",
      "execution_count": 130,
      "metadata": {
        "id": "bRstHzLkRMxA"
      },
      "outputs": [],
      "source": [
        "from sklearn.feature_extraction.text import CountVectorizer\n",
        "sample_data = ['This is the first paper.','This document is the second paper.','And this is the third one.','Is this the first paper?']\n",
        "vectorizer = CountVectorizer()\n",
        "X = vectorizer.fit_transform(sample_data)"
      ]
    },
    {
      "cell_type": "markdown",
      "metadata": {
        "id": "ETXTPf_ocgtQ"
      },
      "source": [
        "**MINI CHALLENGE #6:**\n",
        "- **Without doing any code, perform count vectorization for the following list:**\n",
        "    -  mini_challenge = ['Hello World','Hello Hello World','Hello World world world']\n",
        "- **Confirm your answer with code**"
      ]
    },
    {
      "cell_type": "code",
      "execution_count": 131,
      "metadata": {
        "id": "EZKZCr_ERSl7"
      },
      "outputs": [],
      "source": [
        "mini_challenge = ['Hello World','Hello Hello World','Hello World world world']\n",
        "vectorizer_challenge = CountVectorizer()\n",
        "X_challenge = vectorizer.fit_transform(mini_challenge)\n",
        "#print(X_challenge.toarray())"
      ]
    },
    {
      "cell_type": "markdown",
      "metadata": {
        "id": "2geMzGITbZPJ"
      },
      "source": [
        "# TASK #8: CREATE A PIPELINE TO REMOVE PUNCTUATIONS, STOPWORDS AND PERFORM COUNT VECTORIZATION"
      ]
    },
    {
      "cell_type": "code",
      "execution_count": 132,
      "metadata": {
        "id": "WHJnbIDeSmlm"
      },
      "outputs": [],
      "source": [
        "# Let's define a pipeline to clean up all the messages \n",
        "# The pipeline performs the following: (1) remove punctuation, (2) remove stopwords\n",
        "\n",
        "def process_text(text):\n",
        "    test_punc_removed = [char for char in text if char not in string.punctuation]\n",
        "    test_punc_removed = ''.join(test_punc_removed)\n",
        "    test_punc_removed = [word for word in test_punc_removed.split() if word.lower() not in stopwords.words('english')]\n",
        "    \n",
        "    return test_punc_removed"
      ]
    },
    {
      "cell_type": "code",
      "execution_count": 133,
      "metadata": {
        "id": "TxAYpIXXSmoZ"
      },
      "outputs": [],
      "source": [
        "# Let's test the newly added function\n",
        "reviews_df_clean = reviews_df['verified_reviews'].apply(process_text)"
      ]
    },
    {
      "cell_type": "code",
      "execution_count": 134,
      "metadata": {
        "id": "0oZBSWUVTGV9"
      },
      "outputs": [],
      "source": [
        "from sklearn.feature_extraction.text import CountVectorizer\n",
        "# Define the cleaning pipeline we defined earlier\n",
        "vectorizer = CountVectorizer(analyzer = process_text)\n",
        "reviews_countvectorizer = vectorizer.fit_transform(reviews_df['verified_reviews'])"
      ]
    },
    {
      "cell_type": "code",
      "execution_count": 135,
      "metadata": {
        "id": "Ajna6zStUH8j",
        "colab": {
          "base_uri": "https://localhost:8080/"
        },
        "outputId": "96f356fb-488d-45ce-a688-b1e2437fa993"
      },
      "outputs": [
        {
          "output_type": "execute_result",
          "data": {
            "text/plain": [
              "(3150, 3935)"
            ]
          },
          "metadata": {},
          "execution_count": 135
        }
      ],
      "source": [
        "reviews_countvectorizer.shape"
      ]
    },
    {
      "cell_type": "code",
      "execution_count": 136,
      "metadata": {
        "id": "HdsbGToxFCP9"
      },
      "outputs": [],
      "source": [
        "reviews = pd.DataFrame(reviews_countvectorizer.toarray())"
      ]
    },
    {
      "cell_type": "code",
      "execution_count": 137,
      "metadata": {
        "id": "-Y5f8HWWFglY"
      },
      "outputs": [],
      "source": [
        "X = reviews"
      ]
    },
    {
      "cell_type": "code",
      "execution_count": 138,
      "metadata": {
        "id": "0TQZtuY5FnhP"
      },
      "outputs": [],
      "source": [
        "y = reviews_df['feedback']\n"
      ]
    },
    {
      "cell_type": "markdown",
      "metadata": {
        "id": "We2mCIFocgtg"
      },
      "source": [
        "**MINI CHALLENGE #7:**\n",
        "- **What is the shape of X and Y**"
      ]
    },
    {
      "cell_type": "code",
      "execution_count": 139,
      "metadata": {
        "id": "7dofFKHGcgth",
        "colab": {
          "base_uri": "https://localhost:8080/"
        },
        "outputId": "1659ea51-7912-49d4-d066-8acdfbf99742"
      },
      "outputs": [
        {
          "output_type": "execute_result",
          "data": {
            "text/plain": [
              "((3150, 3935), (3150,))"
            ]
          },
          "metadata": {},
          "execution_count": 139
        }
      ],
      "source": [
        "X.shape, y.shape"
      ]
    },
    {
      "cell_type": "markdown",
      "metadata": {
        "id": "jIVxZdZ1USAz"
      },
      "source": [
        "# TASK #9: TRAIN AND TEST NAIVE BAYES CLASSIFIER MODEL"
      ]
    },
    {
      "cell_type": "code",
      "execution_count": 140,
      "metadata": {
        "id": "V7M9V4QAUnOM"
      },
      "outputs": [],
      "source": [
        "from sklearn.model_selection import train_test_split\n",
        "X_train, X_test, y_train, y_test = train_test_split(X, y, test_size=0.2)"
      ]
    },
    {
      "cell_type": "code",
      "execution_count": 141,
      "metadata": {
        "id": "sdiBOX1xUnMo",
        "colab": {
          "base_uri": "https://localhost:8080/"
        },
        "outputId": "963d116f-d6ab-42d2-cea6-a1ea568ff2a8"
      },
      "outputs": [
        {
          "output_type": "execute_result",
          "data": {
            "text/plain": [
              "MultinomialNB()"
            ]
          },
          "metadata": {},
          "execution_count": 141
        }
      ],
      "source": [
        "from sklearn.naive_bayes import MultinomialNB\n",
        "NB_classifier = MultinomialNB()\n",
        "NB_classifier.fit(X_train, y_train)"
      ]
    },
    {
      "cell_type": "code",
      "execution_count": 142,
      "metadata": {
        "id": "8CSu7xXdVyGI"
      },
      "outputs": [],
      "source": [
        "from sklearn.metrics import classification_report, confusion_matrix"
      ]
    },
    {
      "cell_type": "code",
      "execution_count": 143,
      "metadata": {
        "id": "4gSgbN3JVymd"
      },
      "outputs": [],
      "source": [
        "# Predicting the Test set results\n",
        "y_predict_test = NB_classifier.predict(X_test)\n",
        "cm = confusion_matrix(y_test, y_predict_test)\n",
        "#sns.heatmap(cm, annot = True)\n"
      ]
    },
    {
      "cell_type": "code",
      "execution_count": 144,
      "metadata": {
        "id": "l2sReJpmV8CK",
        "colab": {
          "base_uri": "https://localhost:8080/",
          "height": 70
        },
        "outputId": "56cc65d0-6c91-402a-b466-23dea4a5a14c"
      },
      "outputs": [
        {
          "output_type": "execute_result",
          "data": {
            "text/plain": [
              "'              precision    recall  f1-score   support\\n\\n           0       0.61      0.38      0.47        60\\n           1       0.94      0.97      0.96       570\\n\\n    accuracy                           0.92       630\\n   macro avg       0.77      0.68      0.71       630\\nweighted avg       0.91      0.92      0.91       630\\n'"
            ],
            "application/vnd.google.colaboratory.intrinsic+json": {
              "type": "string"
            }
          },
          "metadata": {},
          "execution_count": 144
        }
      ],
      "source": [
        "classification_report(y_test, y_predict_test)"
      ]
    },
    {
      "cell_type": "markdown",
      "metadata": {
        "id": "uIjfuDFBcgtq"
      },
      "source": [
        "**MINI CHALLENGE #8:**\n",
        "- **Train a logistic Regression classifier and assess its performance**"
      ]
    },
    {
      "cell_type": "code",
      "execution_count": 145,
      "metadata": {
        "id": "l7SvWr9Xcgtq"
      },
      "outputs": [],
      "source": [
        "from sklearn.linear_model import LogisticRegression\n",
        "\n",
        "model = LogisticRegression()\n",
        "model.fit(X_train, y_train)\n",
        "\n",
        "y_pred = model.predict(X_test)\n",
        "\n",
        "cm = confusion_matrix(y_pred, y_test)\n",
        "#sns.heatmap(cm, annot = True)\n",
        "\n",
        "#print(classification_report(y_test, y_pred))"
      ]
    },
    {
      "cell_type": "markdown",
      "metadata": {
        "id": "27OgYEJu9EFV"
      },
      "source": [
        "# EXCELLENT JOB! YOU SHOULD BE PROUD OF YOUR NEWLY ACQUIRED SKILLS"
      ]
    },
    {
      "cell_type": "markdown",
      "metadata": {
        "id": "ujW3rD-Xcgts"
      },
      "source": [
        "# MINI CHALLENGE SOLUTIONS"
      ]
    },
    {
      "cell_type": "markdown",
      "metadata": {
        "id": "LSj_hN6Dcgtv"
      },
      "source": [
        "**MINI CHALLENGE #2 SOLUTION:** \n",
        "- **Plot the countplot for the feedback column**\n",
        "- **Roughly how many positive and negative feedback are present in the dataset?**"
      ]
    },
    {
      "cell_type": "code",
      "execution_count": 146,
      "metadata": {
        "id": "hEqL2Trscgtw"
      },
      "outputs": [],
      "source": [
        "# Plot the countplot for feedback\n",
        "# Positive ~2800\n",
        "# Negative ~250\n",
        "#sns.countplot(x = reviews_df['feedback'])"
      ]
    },
    {
      "cell_type": "markdown",
      "metadata": {
        "id": "n-EY-L6pcgty"
      },
      "source": [
        "**MINI CHALLENGE #3 SOLUTION:**\n",
        "- **View the message with the average length**"
      ]
    },
    {
      "cell_type": "code",
      "execution_count": 147,
      "metadata": {
        "id": "YOavt0ROcgty",
        "colab": {
          "base_uri": "https://localhost:8080/",
          "height": 35
        },
        "outputId": "0e341698-626f-4750-c7a7-f35785b63111"
      },
      "outputs": [
        {
          "output_type": "execute_result",
          "data": {
            "text/plain": [
              "'work replaced expired bedside radioalarmit took realize option setting involved using touch screenmaybe said something setup process'"
            ],
            "application/vnd.google.colaboratory.intrinsic+json": {
              "type": "string"
            }
          },
          "metadata": {},
          "execution_count": 147
        }
      ],
      "source": [
        "# Let's see the message with mean length \n",
        "reviews_df[reviews_df['length'] == 132]['verified_reviews'].iloc[0]"
      ]
    },
    {
      "cell_type": "markdown",
      "metadata": {
        "id": "upNkgZ1rcgtz"
      },
      "source": [
        "**MINI CHALLENGE #4 SOLUTION:** \n",
        "- **Plot the wordcloud of the \"negative\" dataframe** \n",
        "- **What do you notice? Does the data make sense?**"
      ]
    },
    {
      "cell_type": "code",
      "execution_count": 148,
      "metadata": {
        "id": "OdMi0b9Rcgt0"
      },
      "outputs": [],
      "source": [
        "sentences = negative['verified_reviews'].tolist()\n",
        "len(sentences)\n",
        "sentences_as_one_string =\" \".join(sentences)\n",
        "#plt.figure(figsize = (20,20))\n",
        "#plt.imshow(WordCloud().generate(sentences_as_one_string))"
      ]
    },
    {
      "cell_type": "markdown",
      "metadata": {
        "id": "G80lM4yPcgt1"
      },
      "source": [
        "**MINI CHALLENGE #5 SOLUTION:** \n",
        "- **For the following text, create a pipeline to remove punctuations followed by removing stopwords and test the pipeline**\n",
        "- **mini_challenge = 'Here is a mini challenge, that will teach you how to remove stopwords and punctuations from text..!!'**"
      ]
    },
    {
      "cell_type": "code",
      "execution_count": 149,
      "metadata": {
        "id": "4PD7zjlJcguF"
      },
      "outputs": [],
      "source": [
        "mini_challenge = 'Here is a mini challenge, that will teach you how to remove stopwords and punctuations from text..!!'\n",
        "challege = [ char for char in mini_challenge  if char not in string.punctuation ]\n",
        "challenge = ''.join(challege)\n",
        "challenge = [  word for word in challenge.split() if word.lower() not in stopwords.words('english')  ] \n"
      ]
    },
    {
      "cell_type": "markdown",
      "metadata": {
        "id": "YkC9Nuk4cguF"
      },
      "source": [
        "**MINI CHALLENGE #6 SOLUTION:**\n",
        "- **Without doing any code, perform count vectorization for the following list:**\n",
        "    -  mini_challenge = ['Hello World','Hello Hello World','Hello World world world']\n",
        "- **Confirm your answer with code**"
      ]
    },
    {
      "cell_type": "code",
      "execution_count": 150,
      "metadata": {
        "id": "DxI3rZw2cguG"
      },
      "outputs": [],
      "source": [
        "mini_challenge = ['Hello World','Hello Hello World','Hello World world world']\n",
        "\n",
        "mini_challenge = ['Hello World', 'Hello Hello Hello World world', 'Hello Hello World world world World']\n",
        "\n",
        "vectorizer_challenge = CountVectorizer()\n",
        "X_challenge = vectorizer_challenge.fit_transform(mini_challenge)\n"
      ]
    },
    {
      "cell_type": "markdown",
      "metadata": {
        "id": "HIHuMt6HcguG"
      },
      "source": [
        "**MINI CHALLENGE #7 SOLUTION:**\n",
        "- **What is the shape of X and Y**"
      ]
    },
    {
      "cell_type": "code",
      "execution_count": 151,
      "metadata": {
        "id": "DBXOsxjVcguG",
        "colab": {
          "base_uri": "https://localhost:8080/"
        },
        "outputId": "8daff500-0e66-45d6-b8e2-e0b682299f28"
      },
      "outputs": [
        {
          "output_type": "execute_result",
          "data": {
            "text/plain": [
              "(3150, 3935)"
            ]
          },
          "metadata": {},
          "execution_count": 151
        }
      ],
      "source": [
        "X.shape"
      ]
    },
    {
      "cell_type": "code",
      "execution_count": 152,
      "metadata": {
        "id": "pcqaznGHcguH",
        "colab": {
          "base_uri": "https://localhost:8080/"
        },
        "outputId": "c26607b6-eaf7-4194-a1ce-8d753edc60b0"
      },
      "outputs": [
        {
          "output_type": "execute_result",
          "data": {
            "text/plain": [
              "(3150,)"
            ]
          },
          "metadata": {},
          "execution_count": 152
        }
      ],
      "source": [
        "y.shape"
      ]
    },
    {
      "cell_type": "markdown",
      "metadata": {
        "id": "kl4iEf0OcguH"
      },
      "source": [
        "**MINI CHALLENGE #8 SOLUTION:**\n",
        "- **Train a logistic Regression classifier and assess its performance**"
      ]
    },
    {
      "cell_type": "code",
      "execution_count": 153,
      "metadata": {
        "id": "8LumEAfocguH"
      },
      "outputs": [],
      "source": [
        "from sklearn.linear_model import LogisticRegression\n",
        "\n",
        "model = LogisticRegression()\n",
        "model.fit(X_train, y_train)\n",
        "\n",
        "y_pred = model.predict(X_test)\n",
        "\n",
        "cm = confusion_matrix(y_pred, y_test)\n",
        "#sns.heatmap(cm, annot = True)\n",
        "\n",
        "#print(classification_report(y_test, y_pred))"
      ]
    },
    {
      "cell_type": "markdown",
      "metadata": {
        "id": "86gXAsYdcguI"
      },
      "source": [
        "# Excellent Job!"
      ]
    },
    {
      "cell_type": "markdown",
      "source": [
        "# LDA PART"
      ],
      "metadata": {
        "id": "c4acVO-DjBBh"
      }
    },
    {
      "cell_type": "code",
      "source": [
        "import spacy  # for our NLP processing\n",
        "import nltk  # to use the stopwords library\n",
        "import string  # for a list of all punctuation\n",
        "from nltk.corpus import stopwords  # for a list of stopwords\n",
        "import gensim\n",
        "from sklearn.manifold import TSNE\n",
        "import pathlib\n",
        "import pandas as pd\n",
        "from wordcloud import STOPWORDS\n",
        "import re\n",
        "import json"
      ],
      "metadata": {
        "id": "9JSzP36UL3jO"
      },
      "execution_count": 154,
      "outputs": []
    },
    {
      "cell_type": "code",
      "source": [
        "\n",
        "# Now we can load and use spacy to analyse our reviews\n",
        "nlp = spacy.load(\"en_core_web_sm\")\n",
        "\n",
        "\n",
        "def format_topics_sentences(ldamodel, corpus, texts, dates):\n",
        "    sent_topics_df = pd.DataFrame()\n",
        "\n",
        "    # Get main topic in each document\n",
        "    for i, row in enumerate(ldamodel[corpus]):\n",
        "        row = sorted(row, key=lambda x: (x[1]), reverse=True)\n",
        "        # Get the Dominant topic, Perc Contribution and Keywords for each document\n",
        "        for j, (topic_num, prop_topic) in enumerate(row):\n",
        "            if j == 0:  # => dominant topic\n",
        "                wp = ldamodel.show_topic(topic_num)\n",
        "                topic_keywords = \", \".join([word for word, prop in wp])\n",
        "                sent_topics_df = sent_topics_df.append(\n",
        "                    pd.Series([int(topic_num), round(prop_topic, 4), topic_keywords]),\n",
        "                    ignore_index=True,\n",
        "                )\n",
        "            else:\n",
        "                break\n",
        "    sent_topics_df.columns = [\"Dominant_Topic\", \"Perc_Contribution\", \"Topic_Keywords\"]\n",
        "\n",
        "    # Add original text to the end of the output\n",
        "    contents = pd.Series(texts)\n",
        "\n",
        "    sent_topics_df = pd.concat([sent_topics_df, contents, pd.Series(dates)], axis=1)\n",
        "    return sent_topics_df\n",
        "\n",
        "\n",
        "def lda_analysis(df, stop_words):\n",
        "    \n",
        "    def cleanup_text(doc):\n",
        "        doc = nlp(doc, disable=[\"parser\", \"ner\"])\n",
        "        tokens = [tok.lemma_.lower().strip() for tok in doc if tok.lemma_ != \"-PRON-\"]\n",
        "        tokens = [\n",
        "            tok for tok in tokens if tok not in stop_words and tok not in punctuations\n",
        "        ]\n",
        "        return tokens\n",
        "\n",
        "    # Clean up and take only rows where we have text\n",
        "    df = df[pd.notnull(df[\"verified_reviews\"])]\n",
        "    docs = list(df[\"verified_reviews\"].values)\n",
        "\n",
        "    punctuations = string.punctuation\n",
        "\n",
        "    processed_docs = list(map(cleanup_text, docs))\n",
        "    print(\"len(processed_docs)\", len(processed_docs))\n",
        "    if len(processed_docs) < 11:\n",
        "        print(\"INSUFFICIENT DOCS TO RUN LINEAR DISCRIMINANT ANALYSIS\")\n",
        "        return (None, None, None, None)\n",
        "\n",
        "    dictionary = gensim.corpora.Dictionary(processed_docs)\n",
        "    bow_corpus = [dictionary.doc2bow(doc) for doc in processed_docs]\n",
        "    print(\"len(bow_corpus)\", len(bow_corpus))\n",
        "    print(\"dictionary\", len(list(dictionary.keys())))\n",
        "    if len(list(dictionary.keys())) < 1:\n",
        "        print(\"INSUFFICIENT DICTS TO RUN LINEAR DISCRIMINANT ANALYSIS\")\n",
        "        return (None, None, None, None)\n",
        "\n",
        "    lda_model = gensim.models.LdaModel(\n",
        "        bow_corpus, num_topics=5, id2word=dictionary, passes=10\n",
        "    )\n",
        "\n",
        "    df_topic_sents_keywords = format_topics_sentences(\n",
        "        ldamodel=lda_model,\n",
        "        corpus=bow_corpus,\n",
        "        texts=docs,\n",
        "        dates=list(df[\"Date received\"].values),\n",
        "    )\n",
        "    print(\"len(df_topic_sents_keywords)\", len(df_topic_sents_keywords))\n",
        "    print(\"df_topic_sents_keywords.head()\", df_topic_sents_keywords.head())\n",
        "    df_dominant_topic = df_topic_sents_keywords.reset_index()\n",
        "    df_dominant_topic.columns = [\n",
        "        \"Document_No\",\n",
        "        \"Dominant_Topic\",\n",
        "        \"Topic_Perc_Contrib\",\n",
        "        \"Keywords\",\n",
        "        \"Text\",\n",
        "        \"Date\",\n",
        "    ]\n",
        "\n",
        "    topic_num, tsne_lda = tsne_analysis(lda_model, bow_corpus)\n",
        "\n",
        "    return (tsne_lda, lda_model, topic_num, df_dominant_topic)\n",
        "\n",
        "\n",
        "def tsne_analysis(ldamodel, corpus):\n",
        "    topic_weights = []\n",
        "    for i, row_list in enumerate(ldamodel[corpus]):\n",
        "        topic_weights.append([w for i, w in row_list])\n",
        "\n",
        "    # Array of topic weights\n",
        "    df_topics = pd.DataFrame(topic_weights).fillna(0).values\n",
        "\n",
        "\n",
        "\n",
        "    # Dominant topic number in each doc\n",
        "    topic_nums = np.argmax(df_topics, axis=1)\n",
        "\n",
        "    # tSNE Dimension Reduction\n",
        "    try:\n",
        "        tsne_model = TSNE(\n",
        "            n_components=2, verbose=1, random_state=0, angle=0.99, init=\"pca\"\n",
        "        )\n",
        "        tsne_lda = tsne_model.fit_transform(df_topics)\n",
        "    except:\n",
        "        print(\"TSNE_ANALYSIS WENT WRONG, PLEASE RE-CHECK YOUR DATASET\")\n",
        "        return (topic_nums, None)\n",
        "\n",
        "    return (topic_nums, tsne_lda)"
      ],
      "metadata": {
        "id": "_kfhrAkZLwYz"
      },
      "execution_count": 155,
      "outputs": []
    },
    {
      "cell_type": "code",
      "source": [
        "GLOBAL_DF = reviews_df.copy()\n",
        "\n",
        "ADDITIONAL_STOPWORDS = [\n",
        "    \"XXXX\",\n",
        "    \"XX\",\n",
        "    \"xx\",\n",
        "    \"xxxx\",\n",
        "    \"n't\"\n",
        "]\n",
        "for stopword in ADDITIONAL_STOPWORDS:\n",
        "    STOPWORDS.add(stopword)\n",
        "\n",
        "def add_stopwords(selected_bank):\n",
        "\n",
        "    selected_bank_words = re.findall(r\"[\\w']+\", selected_bank)\n",
        "    for word in selected_bank_words:\n",
        "        STOPWORDS.add(word.lower())\n",
        "\n",
        "    #print(\"Added %s stopwords:\" % selected_bank)\n",
        "    #for word in selected_bank_words:\n",
        "        #print(\"\\t\", word)\n",
        "    return STOPWORDS\n",
        "\n",
        "def precompute_all_lda():\n",
        "    \"\"\" QD function for precomputing all necessary LDA results\n",
        "     to allow much faster load times when the app runs. \"\"\"\n",
        "\n",
        "    failed_banks = []\n",
        "    counter = 0\n",
        "    bank_names = GLOBAL_DF[\"variation\"].value_counts().keys().tolist()\n",
        "    results = {}\n",
        "\n",
        "    for bank in bank_names:\n",
        "        try:\n",
        "            print(\"crunching LDA for: \", bank)\n",
        "            add_stopwords(bank)\n",
        "            bank_df = GLOBAL_DF[GLOBAL_DF[\"variation\"] == bank]\n",
        "            tsne_lda, lda_model, topic_num, df_dominant_topic = lda_analysis(\n",
        "                bank_df, list(STOPWORDS)\n",
        "            )\n",
        "\n",
        "            topic_top3words = [\n",
        "                (i, topic)\n",
        "                for i, topics in lda_model.show_topics(formatted=False)\n",
        "                for j, (topic, wt) in enumerate(topics)\n",
        "                if j < 3\n",
        "            ]\n",
        "\n",
        "            df_top3words_stacked = pd.DataFrame(\n",
        "                topic_top3words, columns=[\"topic_id\", \"words\"]\n",
        "            )\n",
        "            df_top3words = df_top3words_stacked.groupby(\"topic_id\").agg(\", \\n\".join)\n",
        "            df_top3words.reset_index(level=0, inplace=True)\n",
        "\n",
        "            # print(len(tsne_lda))\n",
        "            # print(len(df_dominant_topic))\n",
        "            tsne_df = pd.DataFrame(\n",
        "                {\n",
        "                    \"tsne_x\": tsne_lda[:, 0],\n",
        "                    \"tsne_y\": tsne_lda[:, 1],\n",
        "                    \"topic_num\": topic_num,\n",
        "                    \"doc_num\": df_dominant_topic[\"Document_No\"],\n",
        "                }\n",
        "            )\n",
        "\n",
        "            topic_top3words = [\n",
        "                (i, topic)\n",
        "                for i, topics in lda_model.show_topics(formatted=False)\n",
        "                for j, (topic, wt) in enumerate(topics)\n",
        "                if j < 3\n",
        "            ]\n",
        "\n",
        "            df_top3words_stacked = pd.DataFrame(\n",
        "                topic_top3words, columns=[\"topic_id\", \"words\"]\n",
        "            )\n",
        "            df_top3words = df_top3words_stacked.groupby(\"topic_id\").agg(\", \\n\".join)\n",
        "            df_top3words.reset_index(level=0, inplace=True)\n",
        "\n",
        "            results[str(bank)] = {\n",
        "                \"df_top3words\": df_top3words.to_json(),\n",
        "                \"tsne_df\": tsne_df.to_json(),\n",
        "                \"df_dominant_topic\": df_dominant_topic.to_json(),\n",
        "            }\n",
        "\n",
        "            counter += 1\n",
        "        except:\n",
        "            print(\"SOMETHING WENT HORRIBLY WRONG WITH : \", bank)\n",
        "            failed_banks.append(bank)\n",
        "\n",
        "    with open(\"/content/drive/MyDrive/Dash_plotly_home/precomputed.json\", \"w+\") as res_file:\n",
        "        json.dump(results, res_file)\n",
        "\n",
        "    #print(\"DONE\")\n",
        "    #print(\"did %d variations\" % counter)\n",
        "    #print(\"failed %d:\" % len(failed_banks))\n",
        "    for fail in failed_banks:\n",
        "        print(fail)   "
      ],
      "metadata": {
        "id": "eSHQpBATN2Wo"
      },
      "execution_count": 156,
      "outputs": []
    },
    {
      "cell_type": "code",
      "source": [
        "precompute_all_lda()"
      ],
      "metadata": {
        "colab": {
          "base_uri": "https://localhost:8080/"
        },
        "id": "LxRftqUwXRL1",
        "outputId": "1f9c0442-c9d8-4a56-dbc1-331422b16ce0"
      },
      "execution_count": 157,
      "outputs": [
        {
          "output_type": "stream",
          "name": "stdout",
          "text": [
            "crunching LDA for:  Black  Dot\n",
            "len(processed_docs) 516\n",
            "len(bow_corpus) 516\n",
            "dictionary 808\n",
            "len(df_topic_sents_keywords) 516\n",
            "df_topic_sents_keywords.head()    Dominant_Topic  Perc_Contribution  \\\n",
            "0             4.0             0.9462   \n",
            "1             3.0             0.7330   \n",
            "2             1.0             0.9325   \n",
            "3             4.0             0.7283   \n",
            "4             0.0             0.2000   \n",
            "\n",
            "                                      Topic_Keywords  \\\n",
            "0  music, love, echo, play, work, great, home, al...   \n",
            "1  alexa, love, device, sound, speaker, connect, ...   \n",
            "2  great, use, speaker, product, love, work, easy...   \n",
            "3  music, love, echo, play, work, great, home, al...   \n",
            "4  love, echo, wa, work, use, set, great, easy, a...   \n",
            "\n",
            "                                                   0          1  \n",
            "0  set play home theater system fat using weather... 2018-07-31  \n",
            "1                                     beyond awesome 2018-07-31  \n",
            "2  like responds every time wa easy set still lea... 2018-07-31  \n",
            "3                                       family loved 2018-07-31  \n",
            "4                                                    2018-07-31  \n"
          ]
        },
        {
          "output_type": "stream",
          "name": "stderr",
          "text": [
            "/usr/local/lib/python3.8/dist-packages/sklearn/manifold/_t_sne.py:790: FutureWarning:\n",
            "\n",
            "The default learning rate in TSNE will change from 200.0 to 'auto' in 1.2.\n",
            "\n",
            "/usr/local/lib/python3.8/dist-packages/sklearn/manifold/_t_sne.py:982: FutureWarning:\n",
            "\n",
            "The PCA initialization in TSNE will change to have the standard deviation of PC1 equal to 1e-4 in 1.2. This will ensure better convergence.\n",
            "\n"
          ]
        },
        {
          "output_type": "stream",
          "name": "stdout",
          "text": [
            "[t-SNE] Computing 91 nearest neighbors...\n",
            "[t-SNE] Indexed 516 samples in 0.001s...\n",
            "[t-SNE] Computed neighbors for 516 samples in 0.017s...\n",
            "[t-SNE] Computed conditional probabilities for sample 516 / 516\n",
            "[t-SNE] Mean sigma: 0.012730\n",
            "[t-SNE] KL divergence after 250 iterations with early exaggeration: 46.913124\n",
            "[t-SNE] KL divergence after 1000 iterations: 0.092268\n",
            "crunching LDA for:  Charcoal Fabric \n",
            "len(processed_docs) 430\n",
            "len(bow_corpus) 430\n",
            "dictionary 706\n",
            "len(df_topic_sents_keywords) 430\n",
            "df_topic_sents_keywords.head()    Dominant_Topic  Perc_Contribution  \\\n",
            "0             1.0             0.7285   \n",
            "1             1.0             0.5960   \n",
            "2             4.0             0.9566   \n",
            "3             2.0             0.5904   \n",
            "4             2.0             0.9612   \n",
            "\n",
            "                                      Topic_Keywords  \\\n",
            "0  love, echo, music, alexa, use, play, learn, ’m...   \n",
            "1  love, echo, music, alexa, use, play, learn, ’m...   \n",
            "2  great, sound, music, good, set, work, echo, ea...   \n",
            "3  music, echo, work, use, love, learn, far, well...   \n",
            "4  music, echo, work, use, love, learn, far, well...   \n",
            "\n",
            "                                                   0          1  \n",
            "0                                          love echo 2018-07-31  \n",
            "1                                              loved 2018-07-31  \n",
            "2  lot fun thing yr old learns dinosaur control l... 2018-07-31  \n",
            "3                                              music 2018-07-31  \n",
            "4  think one ive purchased working getting one ev... 2018-07-31  \n"
          ]
        },
        {
          "output_type": "stream",
          "name": "stderr",
          "text": [
            "/usr/local/lib/python3.8/dist-packages/sklearn/manifold/_t_sne.py:790: FutureWarning:\n",
            "\n",
            "The default learning rate in TSNE will change from 200.0 to 'auto' in 1.2.\n",
            "\n",
            "/usr/local/lib/python3.8/dist-packages/sklearn/manifold/_t_sne.py:982: FutureWarning:\n",
            "\n",
            "The PCA initialization in TSNE will change to have the standard deviation of PC1 equal to 1e-4 in 1.2. This will ensure better convergence.\n",
            "\n"
          ]
        },
        {
          "output_type": "stream",
          "name": "stdout",
          "text": [
            "[t-SNE] Computing 91 nearest neighbors...\n",
            "[t-SNE] Indexed 430 samples in 0.000s...\n",
            "[t-SNE] Computed neighbors for 430 samples in 0.010s...\n",
            "[t-SNE] Computed conditional probabilities for sample 430 / 430\n",
            "[t-SNE] Mean sigma: 0.015524\n",
            "[t-SNE] KL divergence after 250 iterations with early exaggeration: 48.847710\n",
            "[t-SNE] KL divergence after 1000 iterations: 0.101759\n",
            "crunching LDA for:  Configuration: Fire TV Stick\n",
            "len(processed_docs) 350\n",
            "len(bow_corpus) 350\n",
            "dictionary 779\n",
            "len(df_topic_sents_keywords) 350\n",
            "df_topic_sents_keywords.head()    Dominant_Topic  Perc_Contribution  \\\n",
            "0             0.0             0.6217   \n",
            "1             4.0             0.9322   \n",
            "2             1.0             0.4437   \n",
            "3             1.0             0.7985   \n",
            "4             0.0             0.2000   \n",
            "\n",
            "                                      Topic_Keywords  \\\n",
            "0  work, product, well, app, awesome, easy, buy, ...   \n",
            "1  love, use, easy, set, purchase, much, remote, ...   \n",
            "2  buy, need, firestick, watch, good, great, amaz...   \n",
            "3  buy, need, firestick, watch, good, great, amaz...   \n",
            "4  work, product, well, app, awesome, easy, buy, ...   \n",
            "\n",
            "                                                   0          1  \n",
            "0  ideal amazon prime first fire tv stick purchas... 2018-07-31  \n",
            "1  love finally got one everyone home importantly... 2018-07-31  \n",
            "2                                     love firestick 2018-07-31  \n",
            "3                        dont know held getting long 2018-07-31  \n",
            "4                                                    2018-07-31  \n",
            "[t-SNE] Computing 91 nearest neighbors...\n",
            "[t-SNE] Indexed 350 samples in 0.000s...\n",
            "[t-SNE] Computed neighbors for 350 samples in 0.006s...\n",
            "[t-SNE] Computed conditional probabilities for sample 350 / 350\n",
            "[t-SNE] Mean sigma: 0.064376\n"
          ]
        },
        {
          "output_type": "stream",
          "name": "stderr",
          "text": [
            "/usr/local/lib/python3.8/dist-packages/sklearn/manifold/_t_sne.py:790: FutureWarning:\n",
            "\n",
            "The default learning rate in TSNE will change from 200.0 to 'auto' in 1.2.\n",
            "\n",
            "/usr/local/lib/python3.8/dist-packages/sklearn/manifold/_t_sne.py:982: FutureWarning:\n",
            "\n",
            "The PCA initialization in TSNE will change to have the standard deviation of PC1 equal to 1e-4 in 1.2. This will ensure better convergence.\n",
            "\n"
          ]
        },
        {
          "output_type": "stream",
          "name": "stdout",
          "text": [
            "[t-SNE] KL divergence after 250 iterations with early exaggeration: 50.015152\n",
            "[t-SNE] KL divergence after 1000 iterations: 0.113600\n",
            "crunching LDA for:  Black  Plus\n",
            "len(processed_docs) 270\n",
            "len(bow_corpus) 270\n",
            "dictionary 1154\n",
            "len(df_topic_sents_keywords) 270\n",
            "df_topic_sents_keywords.head()    Dominant_Topic  Perc_Contribution  \\\n",
            "0             2.0             0.9646   \n",
            "1             4.0             0.5098   \n",
            "2             4.0             0.9378   \n",
            "3             2.0             0.7981   \n",
            "4             2.0             0.7987   \n",
            "\n",
            "                                      Topic_Keywords  \\\n",
            "0  love, echo, great, alexa, sound, easy, wa, dev...   \n",
            "1  echo, light, bulb, hub, alexa, device, good, w...   \n",
            "2  echo, light, bulb, hub, alexa, device, good, w...   \n",
            "3  love, echo, great, alexa, sound, easy, wa, dev...   \n",
            "4  love, echo, great, alexa, sound, easy, wa, dev...   \n",
            "\n",
            "                                                   0          1  \n",
            "0  use alexa primarily listening music checking w... 2018-07-31  \n",
            "1  plug n play set simple added battery base make... 2018-07-31  \n",
            "2  shes alexa bit dense still learning way phrase... 2018-07-30  \n",
            "3  great sound easy set purchased echo plus built... 2018-07-30  \n",
            "4                                 love new echo plus 2018-07-30  \n",
            "[t-SNE] Computing 91 nearest neighbors...\n",
            "[t-SNE] Indexed 270 samples in 0.000s...\n",
            "[t-SNE] Computed neighbors for 270 samples in 0.006s...\n",
            "[t-SNE] Computed conditional probabilities for sample 270 / 270\n",
            "[t-SNE] Mean sigma: 0.020086\n"
          ]
        },
        {
          "output_type": "stream",
          "name": "stderr",
          "text": [
            "/usr/local/lib/python3.8/dist-packages/sklearn/manifold/_t_sne.py:790: FutureWarning:\n",
            "\n",
            "The default learning rate in TSNE will change from 200.0 to 'auto' in 1.2.\n",
            "\n",
            "/usr/local/lib/python3.8/dist-packages/sklearn/manifold/_t_sne.py:982: FutureWarning:\n",
            "\n",
            "The PCA initialization in TSNE will change to have the standard deviation of PC1 equal to 1e-4 in 1.2. This will ensure better convergence.\n",
            "\n"
          ]
        },
        {
          "output_type": "stream",
          "name": "stdout",
          "text": [
            "[t-SNE] KL divergence after 250 iterations with early exaggeration: 50.114014\n",
            "[t-SNE] KL divergence after 950 iterations: 0.102403\n",
            "crunching LDA for:  Black  Show\n",
            "len(processed_docs) 265\n",
            "len(bow_corpus) 265\n",
            "dictionary 990\n",
            "len(df_topic_sents_keywords) 265\n",
            "df_topic_sents_keywords.head()    Dominant_Topic  Perc_Contribution  \\\n",
            "0             3.0             0.5813   \n",
            "1             4.0             0.9373   \n",
            "2             4.0             0.9767   \n",
            "3             3.0             0.6291   \n",
            "4             0.0             0.5944   \n",
            "\n",
            "                                      Topic_Keywords  \\\n",
            "0  love, echo, use, great, music, video, sound, s...   \n",
            "1  love, thing, see, really, echo, song, great, v...   \n",
            "2  love, thing, see, really, echo, song, great, v...   \n",
            "3  love, echo, use, great, music, video, sound, s...   \n",
            "4  echo, great, alexa, good, product, wa, prime, ...   \n",
            "\n",
            "                                                   0          1  \n",
            "0  love love love love feel like talking computer... 2018-07-31  \n",
            "1  love echo show able see lyric song play able p... 2018-07-31  \n",
            "2  seems work well unfortunately lot functionalit... 2018-07-31  \n",
            "3  love listening music still trying learn everyt... 2018-07-31  \n",
            "4                                               good 2018-07-31  \n",
            "[t-SNE] Computing 91 nearest neighbors...\n",
            "[t-SNE] Indexed 265 samples in 0.001s...\n",
            "[t-SNE] Computed neighbors for 265 samples in 0.004s...\n",
            "[t-SNE] Computed conditional probabilities for sample 265 / 265\n",
            "[t-SNE] Mean sigma: 0.015081\n"
          ]
        },
        {
          "output_type": "stream",
          "name": "stderr",
          "text": [
            "/usr/local/lib/python3.8/dist-packages/sklearn/manifold/_t_sne.py:790: FutureWarning:\n",
            "\n",
            "The default learning rate in TSNE will change from 200.0 to 'auto' in 1.2.\n",
            "\n",
            "/usr/local/lib/python3.8/dist-packages/sklearn/manifold/_t_sne.py:982: FutureWarning:\n",
            "\n",
            "The PCA initialization in TSNE will change to have the standard deviation of PC1 equal to 1e-4 in 1.2. This will ensure better convergence.\n",
            "\n"
          ]
        },
        {
          "output_type": "stream",
          "name": "stdout",
          "text": [
            "[t-SNE] KL divergence after 250 iterations with early exaggeration: 49.315010\n",
            "[t-SNE] KL divergence after 850 iterations: 0.096959\n",
            "crunching LDA for:  Black\n",
            "len(processed_docs) 261\n",
            "len(bow_corpus) 261\n",
            "dictionary 859\n",
            "len(df_topic_sents_keywords) 261\n",
            "df_topic_sents_keywords.head()    Dominant_Topic  Perc_Contribution  \\\n",
            "0             2.0             0.9262   \n",
            "1             1.0             0.9365   \n",
            "2             1.0             0.6081   \n",
            "3             3.0             0.8656   \n",
            "4             3.0             0.7287   \n",
            "\n",
            "                                      Topic_Keywords  \\\n",
            "0  work, great, good, love, new, wa, device, buy,...   \n",
            "1  buy, new, one, echo, refurbish, wa, work, love...   \n",
            "2  buy, new, one, echo, refurbish, wa, work, love...   \n",
            "3  love, work, echo, great, product, one, well, m...   \n",
            "4  love, work, echo, great, product, one, well, m...   \n",
            "\n",
            "                                                   0          1  \n",
            "0  item longer work month use connect wifi unresp... 2018-07-31  \n",
            "1  love echo dot easy fun get drop grandaughter l... 2018-07-30  \n",
            "2                       work great different new one 2018-07-30  \n",
            "3                  one going kitchen timermusic duty 2018-07-30  \n",
            "4                                          work fine 2018-07-30  \n",
            "[t-SNE] Computing 91 nearest neighbors...\n",
            "[t-SNE] Indexed 261 samples in 0.000s...\n",
            "[t-SNE] Computed neighbors for 261 samples in 0.005s...\n",
            "[t-SNE] Computed conditional probabilities for sample 261 / 261\n",
            "[t-SNE] Mean sigma: 0.055097\n"
          ]
        },
        {
          "output_type": "stream",
          "name": "stderr",
          "text": [
            "/usr/local/lib/python3.8/dist-packages/sklearn/manifold/_t_sne.py:790: FutureWarning:\n",
            "\n",
            "The default learning rate in TSNE will change from 200.0 to 'auto' in 1.2.\n",
            "\n",
            "/usr/local/lib/python3.8/dist-packages/sklearn/manifold/_t_sne.py:982: FutureWarning:\n",
            "\n",
            "The PCA initialization in TSNE will change to have the standard deviation of PC1 equal to 1e-4 in 1.2. This will ensure better convergence.\n",
            "\n"
          ]
        },
        {
          "output_type": "stream",
          "name": "stdout",
          "text": [
            "[t-SNE] KL divergence after 250 iterations with early exaggeration: 49.068874\n",
            "[t-SNE] KL divergence after 950 iterations: 0.101412\n",
            "crunching LDA for:  Black  Spot\n",
            "len(processed_docs) 241\n",
            "len(bow_corpus) 241\n",
            "dictionary 1109\n",
            "len(df_topic_sents_keywords) 241\n",
            "df_topic_sents_keywords.head()    Dominant_Topic  Perc_Contribution  \\\n",
            "0             1.0             0.8989   \n",
            "1             3.0             0.4863   \n",
            "2             3.0             0.9186   \n",
            "3             0.0             0.9368   \n",
            "4             1.0             0.5548   \n",
            "\n",
            "                                      Topic_Keywords  \\\n",
            "0  great, love, use, one, product, echo, wa, work...   \n",
            "1  clock, echo, love, face, alexa, small, far, us...   \n",
            "2  clock, echo, love, face, alexa, small, far, us...   \n",
            "3  echo, device, alarm, clock, well, much, alexa,...   \n",
            "4  great, love, use, one, product, echo, wa, work...   \n",
            "\n",
            "                                                   0          1  \n",
            "0        used product phone look weather watch video 2018-07-31  \n",
            "1                                amazing far got day 2018-07-30  \n",
            "2  like smaller ha never understood command easil... 2018-07-30  \n",
            "3  worthy successor echo dot right home bed room ... 2018-07-30  \n",
            "4  love device functionality amazon echo added be... 2018-07-30  \n",
            "[t-SNE] Computing 91 nearest neighbors...\n",
            "[t-SNE] Indexed 241 samples in 0.000s...\n",
            "[t-SNE] Computed neighbors for 241 samples in 0.006s...\n",
            "[t-SNE] Computed conditional probabilities for sample 241 / 241\n",
            "[t-SNE] Mean sigma: 0.014131\n"
          ]
        },
        {
          "output_type": "stream",
          "name": "stderr",
          "text": [
            "/usr/local/lib/python3.8/dist-packages/sklearn/manifold/_t_sne.py:790: FutureWarning:\n",
            "\n",
            "The default learning rate in TSNE will change from 200.0 to 'auto' in 1.2.\n",
            "\n",
            "/usr/local/lib/python3.8/dist-packages/sklearn/manifold/_t_sne.py:982: FutureWarning:\n",
            "\n",
            "The PCA initialization in TSNE will change to have the standard deviation of PC1 equal to 1e-4 in 1.2. This will ensure better convergence.\n",
            "\n"
          ]
        },
        {
          "output_type": "stream",
          "name": "stdout",
          "text": [
            "[t-SNE] KL divergence after 250 iterations with early exaggeration: 50.888908\n",
            "[t-SNE] KL divergence after 1000 iterations: 0.087842\n",
            "crunching LDA for:  White  Dot\n",
            "len(processed_docs) 184\n",
            "len(bow_corpus) 184\n",
            "dictionary 377\n",
            "len(df_topic_sents_keywords) 184\n",
            "df_topic_sents_keywords.head()    Dominant_Topic  Perc_Contribution  \\\n",
            "0             2.0             0.9101   \n",
            "1             4.0             0.7323   \n",
            "2             4.0             0.5965   \n",
            "3             4.0             0.7309   \n",
            "4             3.0             0.7305   \n",
            "\n",
            "                                      Topic_Keywords  \\\n",
            "0  love, alexa, play, one, device, turn, music, p...   \n",
            "1  love, work, easy, use, echo, music, great, one...   \n",
            "2  love, work, easy, use, echo, music, great, one...   \n",
            "3  love, work, easy, use, echo, music, great, one...   \n",
            "4  love, great, set, ha, time, use, music, echo, ...   \n",
            "\n",
            "                                                   0          1  \n",
            "0  small device kid like ask question handy frien... 2018-07-31  \n",
            "1                                       love helpful 2018-07-30  \n",
            "2                                               love 2018-07-30  \n",
            "3                                      work like one 2018-07-30  \n",
            "4                                       nice product 2018-07-30  \n",
            "[t-SNE] Computing 91 nearest neighbors...\n",
            "[t-SNE] Indexed 184 samples in 0.000s...\n",
            "[t-SNE] Computed neighbors for 184 samples in 0.004s...\n",
            "[t-SNE] Computed conditional probabilities for sample 184 / 184\n",
            "[t-SNE] Mean sigma: 0.119633\n"
          ]
        },
        {
          "output_type": "stream",
          "name": "stderr",
          "text": [
            "/usr/local/lib/python3.8/dist-packages/sklearn/manifold/_t_sne.py:790: FutureWarning:\n",
            "\n",
            "The default learning rate in TSNE will change from 200.0 to 'auto' in 1.2.\n",
            "\n",
            "/usr/local/lib/python3.8/dist-packages/sklearn/manifold/_t_sne.py:982: FutureWarning:\n",
            "\n",
            "The PCA initialization in TSNE will change to have the standard deviation of PC1 equal to 1e-4 in 1.2. This will ensure better convergence.\n",
            "\n"
          ]
        },
        {
          "output_type": "stream",
          "name": "stdout",
          "text": [
            "[t-SNE] KL divergence after 250 iterations with early exaggeration: 46.714020\n",
            "[t-SNE] KL divergence after 850 iterations: 0.039971\n",
            "crunching LDA for:  Heather Gray Fabric \n",
            "len(processed_docs) 157\n",
            "len(bow_corpus) 157\n",
            "dictionary 371\n",
            "len(df_topic_sents_keywords) 157\n",
            "df_topic_sents_keywords.head()    Dominant_Topic  Perc_Contribution  \\\n",
            "0             4.0             0.9524   \n",
            "1             0.0             0.7304   \n",
            "2             0.0             0.9327   \n",
            "3             4.0             0.7987   \n",
            "4             3.0             0.8986   \n",
            "\n",
            "                                      Topic_Keywords  \\\n",
            "0  love, echo, home, great, smart, gift, music, p...   \n",
            "1  play, music, alexa, great, love, control, buy,...   \n",
            "2  play, music, alexa, great, love, control, buy,...   \n",
            "3  love, echo, home, great, smart, gift, music, p...   \n",
            "4  sound, echo, speaker, good, love, great, quali...   \n",
            "\n",
            "                                                   0          1  \n",
            "0  received echo gift needed another bluetooth so... 2018-07-31  \n",
            "1                                         look great 2018-07-30  \n",
            "2  love i’ve listened song haven’t heard since ch... 2018-07-30  \n",
            "3                                     love wife hate 2018-07-30  \n",
            "4       really happy purchase great speaker easy set 2018-07-30  \n",
            "[t-SNE] Computing 91 nearest neighbors...\n",
            "[t-SNE] Indexed 157 samples in 0.000s...\n",
            "[t-SNE] Computed neighbors for 157 samples in 0.004s...\n",
            "[t-SNE] Computed conditional probabilities for sample 157 / 157\n",
            "[t-SNE] Mean sigma: 0.083465\n"
          ]
        },
        {
          "output_type": "stream",
          "name": "stderr",
          "text": [
            "/usr/local/lib/python3.8/dist-packages/sklearn/manifold/_t_sne.py:790: FutureWarning:\n",
            "\n",
            "The default learning rate in TSNE will change from 200.0 to 'auto' in 1.2.\n",
            "\n",
            "/usr/local/lib/python3.8/dist-packages/sklearn/manifold/_t_sne.py:982: FutureWarning:\n",
            "\n",
            "The PCA initialization in TSNE will change to have the standard deviation of PC1 equal to 1e-4 in 1.2. This will ensure better convergence.\n",
            "\n"
          ]
        },
        {
          "output_type": "stream",
          "name": "stdout",
          "text": [
            "[t-SNE] KL divergence after 250 iterations with early exaggeration: 48.760822\n",
            "[t-SNE] KL divergence after 850 iterations: 0.052540\n",
            "crunching LDA for:  White  Spot\n",
            "len(processed_docs) 109\n",
            "len(bow_corpus) 109\n",
            "dictionary 748\n",
            "len(df_topic_sents_keywords) 109\n",
            "df_topic_sents_keywords.head()    Dominant_Topic  Perc_Contribution  \\\n",
            "0             0.0             0.9593   \n",
            "1             4.0             0.9847   \n",
            "2             4.0             0.9487   \n",
            "3             1.0             0.8846   \n",
            "4             2.0             0.8803   \n",
            "\n",
            "                                      Topic_Keywords  \\\n",
            "0  use, one, music, want, see, tell, u, thing, pl...   \n",
            "1  echo, love, device, well, use, great, sound, a...   \n",
            "2  echo, love, device, well, use, great, sound, a...   \n",
            "3  love, clock, screen, great, echo, thing, time,...   \n",
            "4  alexa, echo, product, screen, set, make, ha, s...   \n",
            "\n",
            "                                                   0          1  \n",
            "0  don’t use much thought would synced kasacam us... 2018-07-31  \n",
            "1  love echo spot bedside alarm clock size device... 2018-07-30  \n",
            "2  thing like echo spot voice command feature ask... 2018-07-30  \n",
            "3     love perfect alarm clock replacement plus much 2018-07-30  \n",
            "4  absolutely love product wish would bought inst... 2018-07-30  \n",
            "[t-SNE] Computing 91 nearest neighbors...\n",
            "[t-SNE] Indexed 109 samples in 0.000s...\n",
            "[t-SNE] Computed neighbors for 109 samples in 0.004s...\n",
            "[t-SNE] Computed conditional probabilities for sample 109 / 109\n",
            "[t-SNE] Mean sigma: 0.028623\n"
          ]
        },
        {
          "output_type": "stream",
          "name": "stderr",
          "text": [
            "/usr/local/lib/python3.8/dist-packages/sklearn/manifold/_t_sne.py:790: FutureWarning:\n",
            "\n",
            "The default learning rate in TSNE will change from 200.0 to 'auto' in 1.2.\n",
            "\n",
            "/usr/local/lib/python3.8/dist-packages/sklearn/manifold/_t_sne.py:982: FutureWarning:\n",
            "\n",
            "The PCA initialization in TSNE will change to have the standard deviation of PC1 equal to 1e-4 in 1.2. This will ensure better convergence.\n",
            "\n"
          ]
        },
        {
          "output_type": "stream",
          "name": "stdout",
          "text": [
            "[t-SNE] KL divergence after 250 iterations with early exaggeration: 50.208687\n",
            "[t-SNE] KL divergence after 1000 iterations: 0.040020\n",
            "crunching LDA for:  White\n",
            "len(processed_docs) 91\n",
            "len(bow_corpus) 91\n",
            "dictionary 425\n",
            "len(df_topic_sents_keywords) 91\n",
            "df_topic_sents_keywords.head()    Dominant_Topic  Perc_Contribution  \\\n",
            "0             1.0             0.9676   \n",
            "1             2.0             0.7321   \n",
            "2             0.0             0.9381   \n",
            "3             3.0             0.9464   \n",
            "4             4.0             0.8648   \n",
            "\n",
            "                                      Topic_Keywords  \\\n",
            "0  amazon, wa, use, echo, good, one, new, speaker...   \n",
            "1  work, great, love, one, new, buy, refurbish, e...   \n",
            "2  use, question, echo, love, answer, plug, cord,...   \n",
            "3  talk, second, echo, new, still, useful, love, ...   \n",
            "4  work, alexa, time, try, wa, say, connect, item...   \n",
            "\n",
            "                                                   0          1  \n",
            "0  love volume could definitely use boost better ... 2018-07-30  \n",
            "1                                           one love 2018-07-29  \n",
            "2  sure feel echo dot many thing need get used as... 2018-07-29  \n",
            "3  small echo dot amazing sound come greatit chan... 2018-07-28  \n",
            "4               talk time song aren’t dislike device 2018-07-28  \n",
            "[t-SNE] Computing 90 nearest neighbors...\n",
            "[t-SNE] Indexed 91 samples in 0.000s...\n",
            "[t-SNE] Computed neighbors for 91 samples in 0.002s...\n",
            "[t-SNE] Computed conditional probabilities for sample 91 / 91\n",
            "[t-SNE] Mean sigma: 0.156914\n"
          ]
        },
        {
          "output_type": "stream",
          "name": "stderr",
          "text": [
            "/usr/local/lib/python3.8/dist-packages/sklearn/manifold/_t_sne.py:790: FutureWarning:\n",
            "\n",
            "The default learning rate in TSNE will change from 200.0 to 'auto' in 1.2.\n",
            "\n",
            "/usr/local/lib/python3.8/dist-packages/sklearn/manifold/_t_sne.py:982: FutureWarning:\n",
            "\n",
            "The PCA initialization in TSNE will change to have the standard deviation of PC1 equal to 1e-4 in 1.2. This will ensure better convergence.\n",
            "\n"
          ]
        },
        {
          "output_type": "stream",
          "name": "stdout",
          "text": [
            "[t-SNE] KL divergence after 250 iterations with early exaggeration: 53.099327\n",
            "[t-SNE] KL divergence after 1000 iterations: 0.025719\n",
            "crunching LDA for:  Sandstone Fabric \n",
            "len(processed_docs) 90\n",
            "len(bow_corpus) 90\n",
            "dictionary 292\n",
            "len(df_topic_sents_keywords) 90\n",
            "df_topic_sents_keywords.head()    Dominant_Topic  Perc_Contribution  \\\n",
            "0             2.0             0.9764   \n",
            "1             2.0             0.9777   \n",
            "2             3.0             0.9464   \n",
            "3             4.0             0.7321   \n",
            "4             2.0             0.9108   \n",
            "\n",
            "                                      Topic_Keywords  \\\n",
            "0  great, work, echo, learn, wa, use, still, pret...   \n",
            "1  great, work, echo, learn, wa, use, still, pret...   \n",
            "2  love, echo, sound, music, alexa, really, wa, w...   \n",
            "3  alexa, use, great, well, music, figure, easy, ...   \n",
            "4  great, work, echo, learn, wa, use, still, pret...   \n",
            "\n",
            "                                                   0          1  \n",
            "0  without cellphone cannot use many feature ipad... 2018-07-31  \n",
            "1  liked original echo shorter greater fabriccolo... 2018-07-30  \n",
            "2  got second unit bedroom wa expecting sound imp... 2018-07-30  \n",
            "3                                    amazing product 2018-07-30  \n",
            "4  still learning capabilitiesbut far pretty pret... 2018-07-30  \n",
            "[t-SNE] Computing 89 nearest neighbors...\n",
            "[t-SNE] Indexed 90 samples in 0.000s...\n",
            "[t-SNE] Computed neighbors for 90 samples in 0.002s...\n",
            "[t-SNE] Computed conditional probabilities for sample 90 / 90\n",
            "[t-SNE] Mean sigma: 0.551771\n",
            "[t-SNE] KL divergence after 250 iterations with early exaggeration: 53.527515\n"
          ]
        },
        {
          "output_type": "stream",
          "name": "stderr",
          "text": [
            "/usr/local/lib/python3.8/dist-packages/sklearn/manifold/_t_sne.py:790: FutureWarning:\n",
            "\n",
            "The default learning rate in TSNE will change from 200.0 to 'auto' in 1.2.\n",
            "\n",
            "/usr/local/lib/python3.8/dist-packages/sklearn/manifold/_t_sne.py:982: FutureWarning:\n",
            "\n",
            "The PCA initialization in TSNE will change to have the standard deviation of PC1 equal to 1e-4 in 1.2. This will ensure better convergence.\n",
            "\n"
          ]
        },
        {
          "output_type": "stream",
          "name": "stdout",
          "text": [
            "[t-SNE] KL divergence after 1000 iterations: 0.215151\n",
            "crunching LDA for:  White  Show\n",
            "len(processed_docs) 85\n",
            "len(bow_corpus) 85\n",
            "dictionary 507\n",
            "len(df_topic_sents_keywords) 85\n",
            "df_topic_sents_keywords.head()    Dominant_Topic  Perc_Contribution  \\\n",
            "0             3.0             0.7323   \n",
            "1             1.0             0.5999   \n",
            "2             3.0             0.9196   \n",
            "3             2.0             0.9379   \n",
            "4             0.0             0.2000   \n",
            "\n",
            "                                      Topic_Keywords  \\\n",
            "0  echo, much, sound, love, well, great, buy, sys...   \n",
            "1  love, learn, home, screen, connect, see, use, ...   \n",
            "2  echo, much, sound, love, well, great, buy, sys...   \n",
            "3  echo, sound, great, device, good, screen, vide...   \n",
            "4  love, echo, alexa, great, one, set, easy, much...   \n",
            "\n",
            "                                                   0          1  \n",
            "0                               pleasedsimple figure 2018-07-31  \n",
            "1                               expectedalready show 2018-07-31  \n",
            "2  excellent listen music audio book look camera ... 2018-07-31  \n",
            "3  like echo show best big screen watch movie pre... 2018-07-30  \n",
            "4                                                    2018-07-30  \n",
            "[t-SNE] Computing 84 nearest neighbors...\n",
            "[t-SNE] Indexed 85 samples in 0.000s...\n",
            "[t-SNE] Computed neighbors for 85 samples in 0.002s...\n",
            "[t-SNE] Computed conditional probabilities for sample 85 / 85\n",
            "[t-SNE] Mean sigma: 0.292833\n",
            "[t-SNE] KL divergence after 250 iterations with early exaggeration: 53.588577\n"
          ]
        },
        {
          "output_type": "stream",
          "name": "stderr",
          "text": [
            "/usr/local/lib/python3.8/dist-packages/sklearn/manifold/_t_sne.py:790: FutureWarning:\n",
            "\n",
            "The default learning rate in TSNE will change from 200.0 to 'auto' in 1.2.\n",
            "\n",
            "/usr/local/lib/python3.8/dist-packages/sklearn/manifold/_t_sne.py:982: FutureWarning:\n",
            "\n",
            "The PCA initialization in TSNE will change to have the standard deviation of PC1 equal to 1e-4 in 1.2. This will ensure better convergence.\n",
            "\n"
          ]
        },
        {
          "output_type": "stream",
          "name": "stdout",
          "text": [
            "[t-SNE] KL divergence after 1000 iterations: 0.053615\n",
            "crunching LDA for:  White  Plus\n",
            "len(processed_docs) 78\n",
            "len(bow_corpus) 78\n",
            "dictionary 598\n",
            "len(df_topic_sents_keywords) 78\n",
            "df_topic_sents_keywords.head()    Dominant_Topic  Perc_Contribution  \\\n",
            "0             2.0             0.9417   \n",
            "1             2.0             0.9095   \n",
            "2             0.0             0.8388   \n",
            "3             0.0             0.9592   \n",
            "4             2.0             0.8972   \n",
            "\n",
            "                                      Topic_Keywords  \\\n",
            "0  sound, volume, speaker, well, echo, great, set...   \n",
            "1  sound, volume, speaker, well, echo, great, set...   \n",
            "2  echo, hub, use, item, amazon, light, smart, pu...   \n",
            "3  echo, hub, use, item, amazon, light, smart, pu...   \n",
            "4  sound, volume, speaker, well, echo, great, set...   \n",
            "\n",
            "                                                   0          1  \n",
            "0  great speaker n love much alexa tap it’s defin... 2018-07-30  \n",
            "1  like built hub plus unit sound great wish volu... 2018-07-30  \n",
            "2                       happy echo plus fun learning 2018-07-30  \n",
            "3  around week love control item house even i’m m... 2018-07-30  \n",
            "4   know needed plugged work far experience positive 2018-07-30  \n",
            "[t-SNE] Computing 77 nearest neighbors...\n",
            "[t-SNE] Indexed 78 samples in 0.000s...\n",
            "[t-SNE] Computed neighbors for 78 samples in 0.002s...\n",
            "[t-SNE] Computed conditional probabilities for sample 78 / 78\n",
            "[t-SNE] Mean sigma: 0.372844\n",
            "[t-SNE] KL divergence after 250 iterations with early exaggeration: 53.203613\n"
          ]
        },
        {
          "output_type": "stream",
          "name": "stderr",
          "text": [
            "/usr/local/lib/python3.8/dist-packages/sklearn/manifold/_t_sne.py:790: FutureWarning:\n",
            "\n",
            "The default learning rate in TSNE will change from 200.0 to 'auto' in 1.2.\n",
            "\n",
            "/usr/local/lib/python3.8/dist-packages/sklearn/manifold/_t_sne.py:982: FutureWarning:\n",
            "\n",
            "The PCA initialization in TSNE will change to have the standard deviation of PC1 equal to 1e-4 in 1.2. This will ensure better convergence.\n",
            "\n"
          ]
        },
        {
          "output_type": "stream",
          "name": "stdout",
          "text": [
            "[t-SNE] KL divergence after 1000 iterations: 0.248661\n",
            "crunching LDA for:  Oak Finish \n",
            "len(processed_docs) 14\n",
            "len(bow_corpus) 14\n",
            "dictionary 50\n",
            "len(df_topic_sents_keywords) 14\n",
            "df_topic_sents_keywords.head()    Dominant_Topic  Perc_Contribution  \\\n",
            "0             2.0             0.9619   \n",
            "1             4.0             0.6000   \n",
            "2             3.0             0.8396   \n",
            "3             1.0             0.9724   \n",
            "4             3.0             0.7333   \n",
            "\n",
            "                                      Topic_Keywords  \\\n",
            "0  enjoy, try, big, thing, time, little, come, so...   \n",
            "1  echo, entertainment, expect, love, play, produ...   \n",
            "2  versatile, fun, love, buy, friend, alexa, moth...   \n",
            "3  product, music, connection, great, play, echo,...   \n",
            "4  versatile, fun, love, buy, friend, alexa, moth...   \n",
            "\n",
            "                                                   0          1  \n",
            "0  purchased mother knee problem give something t... 2018-07-30  \n",
            "1                                           expected 2018-07-30  \n",
            "2                    love alexa bought others friend 2018-07-30  \n",
            "3  star generally like product great ask like pla... 2018-07-30  \n",
            "4                                      versatile fun 2018-07-30  \n",
            "[t-SNE] Computing 13 nearest neighbors...\n",
            "[t-SNE] Indexed 14 samples in 0.000s...\n",
            "[t-SNE] Computed neighbors for 14 samples in 0.001s...\n",
            "[t-SNE] Computed conditional probabilities for sample 14 / 14\n",
            "[t-SNE] Mean sigma: 1125899906842624.000000\n"
          ]
        },
        {
          "output_type": "stream",
          "name": "stderr",
          "text": [
            "/usr/local/lib/python3.8/dist-packages/sklearn/manifold/_t_sne.py:790: FutureWarning:\n",
            "\n",
            "The default learning rate in TSNE will change from 200.0 to 'auto' in 1.2.\n",
            "\n",
            "/usr/local/lib/python3.8/dist-packages/sklearn/manifold/_t_sne.py:982: FutureWarning:\n",
            "\n",
            "The PCA initialization in TSNE will change to have the standard deviation of PC1 equal to 1e-4 in 1.2. This will ensure better convergence.\n",
            "\n"
          ]
        },
        {
          "output_type": "stream",
          "name": "stdout",
          "text": [
            "[t-SNE] KL divergence after 250 iterations with early exaggeration: 43.171532\n",
            "[t-SNE] KL divergence after 1000 iterations: -0.408164\n",
            "crunching LDA for:  Walnut Finish \n",
            "len(processed_docs) 9\n",
            "INSUFFICIENT DOCS TO RUN LINEAR DISCRIMINANT ANALYSIS\n",
            "SOMETHING WENT HORRIBLY WRONG WITH :  Walnut Finish \n",
            "Walnut Finish \n"
          ]
        }
      ]
    },
    {
      "cell_type": "markdown",
      "source": [
        "# EMBEDDING VECTORS PART"
      ],
      "metadata": {
        "id": "5fkbGLi7IXtx"
      }
    },
    {
      "cell_type": "code",
      "source": [
        "vects_df = embed_df.copy()"
      ],
      "metadata": {
        "id": "FK2of9aCIc5J"
      },
      "execution_count": 158,
      "outputs": []
    },
    {
      "cell_type": "code",
      "source": [
        "#words converted to sentences by tfidf weights.\n",
        "#Step 1. Prepare data\n",
        "#step 2. Have bogus word2vec (of the size of our vocab)\n",
        "#Step 3. Calculate a column containing word2vec for sentences"
      ],
      "metadata": {
        "id": "Z4-oKraqLju1"
      },
      "execution_count": 159,
      "outputs": []
    },
    {
      "cell_type": "code",
      "source": [
        "from sklearn.feature_extraction.text import TfidfVectorizer\n",
        "tfidf = TfidfVectorizer()\n",
        "tfidf_matrix = tfidf.fit_transform(vects_df.bigram).todense()\n",
        "vocab = tfidf.vocabulary_\n",
        "#vocab"
      ],
      "metadata": {
        "id": "ycngR8FjlHKq"
      },
      "execution_count": 160,
      "outputs": []
    },
    {
      "cell_type": "code",
      "source": [
        "word2vec = np.random.randn(len(vocab),300)"
      ],
      "metadata": {
        "id": "xyT7EVUNlZnx"
      },
      "execution_count": 161,
      "outputs": []
    },
    {
      "cell_type": "code",
      "source": [
        "sent2vec_matrix = np.dot(tfidf_matrix, word2vec) # word2vec here contains vectors in the same order as in vocab\n",
        "vects_df[\"ngram2vec\"] = sent2vec_matrix.tolist()"
      ],
      "metadata": {
        "id": "4EFsPpfulc9x"
      },
      "execution_count": 162,
      "outputs": []
    },
    {
      "cell_type": "code",
      "source": [
        "#vects_df"
      ],
      "metadata": {
        "id": "rmgivp_ylqyI"
      },
      "execution_count": 163,
      "outputs": []
    },
    {
      "cell_type": "code",
      "source": [
        "vects_df = vects_df.ngram2vec.apply(pd.Series) #split horizontally "
      ],
      "metadata": {
        "id": "Fi5Lq-URVtfx"
      },
      "execution_count": 164,
      "outputs": []
    },
    {
      "cell_type": "code",
      "source": [
        "from google.colab import files\n",
        "\n",
        "vects_df.to_csv('/content/drive/MyDrive/Dash_plotly_home/vects_df_n.csv',index = False)\n",
        "files.download('/content/drive/MyDrive/Dash_plotly_home/vects_df_n.csv')\n",
        "!cp -r \"/content/drive/MyDrive/Dash_plotly_home/vects_df_n.csv\" \"/content/drive/MyDrive/Dash_plotly_home/\"\n"
      ],
      "metadata": {
        "colab": {
          "base_uri": "https://localhost:8080/",
          "height": 34
        },
        "id": "0QPUX9Iz6jGp",
        "outputId": "e1a29020-8c01-45ca-922a-1e698842ff87"
      },
      "execution_count": 165,
      "outputs": [
        {
          "output_type": "display_data",
          "data": {
            "text/plain": [
              "<IPython.core.display.Javascript object>"
            ],
            "application/javascript": [
              "\n",
              "    async function download(id, filename, size) {\n",
              "      if (!google.colab.kernel.accessAllowed) {\n",
              "        return;\n",
              "      }\n",
              "      const div = document.createElement('div');\n",
              "      const label = document.createElement('label');\n",
              "      label.textContent = `Downloading \"${filename}\": `;\n",
              "      div.appendChild(label);\n",
              "      const progress = document.createElement('progress');\n",
              "      progress.max = size;\n",
              "      div.appendChild(progress);\n",
              "      document.body.appendChild(div);\n",
              "\n",
              "      const buffers = [];\n",
              "      let downloaded = 0;\n",
              "\n",
              "      const channel = await google.colab.kernel.comms.open(id);\n",
              "      // Send a message to notify the kernel that we're ready.\n",
              "      channel.send({})\n",
              "\n",
              "      for await (const message of channel.messages) {\n",
              "        // Send a message to notify the kernel that we're ready.\n",
              "        channel.send({})\n",
              "        if (message.buffers) {\n",
              "          for (const buffer of message.buffers) {\n",
              "            buffers.push(buffer);\n",
              "            downloaded += buffer.byteLength;\n",
              "            progress.value = downloaded;\n",
              "          }\n",
              "        }\n",
              "      }\n",
              "      const blob = new Blob(buffers, {type: 'application/binary'});\n",
              "      const a = document.createElement('a');\n",
              "      a.href = window.URL.createObjectURL(blob);\n",
              "      a.download = filename;\n",
              "      div.appendChild(a);\n",
              "      a.click();\n",
              "      div.remove();\n",
              "    }\n",
              "  "
            ]
          },
          "metadata": {}
        },
        {
          "output_type": "display_data",
          "data": {
            "text/plain": [
              "<IPython.core.display.Javascript object>"
            ],
            "application/javascript": [
              "download(\"download_6b5943f8-b1c9-4d28-aa8e-aa677f367d25\", \"vects_df_n.csv\", 130677)"
            ]
          },
          "metadata": {}
        },
        {
          "output_type": "stream",
          "name": "stdout",
          "text": [
            "cp: '/content/drive/MyDrive/Dash_plotly_home/vects_df_n.csv' and '/content/drive/MyDrive/Dash_plotly_home/vects_df_n.csv' are the same file\n"
          ]
        }
      ]
    },
    {
      "cell_type": "markdown",
      "source": [
        "# DASH PART"
      ],
      "metadata": {
        "id": "1sklXMphtdgN"
      }
    },
    {
      "cell_type": "code",
      "source": [
        "!pip install dash pip install emoji\n",
        "!pip install dash_bootstrap_components\n",
        "!pip install jupyter-dash"
      ],
      "metadata": {
        "id": "t32BPqh8n29w",
        "colab": {
          "base_uri": "https://localhost:8080/"
        },
        "outputId": "69590c2b-12a0-4eb2-facc-49da7ca06830"
      },
      "execution_count": 166,
      "outputs": [
        {
          "output_type": "stream",
          "name": "stdout",
          "text": [
            "Looking in indexes: https://pypi.org/simple, https://us-python.pkg.dev/colab-wheels/public/simple/\n",
            "Requirement already satisfied: dash in /usr/local/lib/python3.8/dist-packages (2.8.1)\n",
            "Requirement already satisfied: pip in /usr/local/lib/python3.8/dist-packages (22.0.4)\n",
            "Requirement already satisfied: install in /usr/local/lib/python3.8/dist-packages (1.3.5)\n",
            "Requirement already satisfied: emoji in /usr/local/lib/python3.8/dist-packages (2.2.0)\n",
            "Requirement already satisfied: plotly>=5.0.0 in /usr/local/lib/python3.8/dist-packages (from dash) (5.5.0)\n",
            "Requirement already satisfied: dash-table==5.0.0 in /usr/local/lib/python3.8/dist-packages (from dash) (5.0.0)\n",
            "Requirement already satisfied: dash-core-components==2.0.0 in /usr/local/lib/python3.8/dist-packages (from dash) (2.0.0)\n",
            "Requirement already satisfied: dash-html-components==2.0.0 in /usr/local/lib/python3.8/dist-packages (from dash) (2.0.0)\n",
            "Requirement already satisfied: Flask>=1.0.4 in /usr/local/lib/python3.8/dist-packages (from dash) (1.1.4)\n",
            "Requirement already satisfied: click<8.0,>=5.1 in /usr/local/lib/python3.8/dist-packages (from Flask>=1.0.4->dash) (7.1.2)\n",
            "Requirement already satisfied: itsdangerous<2.0,>=0.24 in /usr/local/lib/python3.8/dist-packages (from Flask>=1.0.4->dash) (1.1.0)\n",
            "Requirement already satisfied: Werkzeug<2.0,>=0.15 in /usr/local/lib/python3.8/dist-packages (from Flask>=1.0.4->dash) (1.0.1)\n",
            "Requirement already satisfied: Jinja2<3.0,>=2.10.1 in /usr/local/lib/python3.8/dist-packages (from Flask>=1.0.4->dash) (2.11.3)\n",
            "Requirement already satisfied: six in /usr/local/lib/python3.8/dist-packages (from plotly>=5.0.0->dash) (1.15.0)\n",
            "Requirement already satisfied: tenacity>=6.2.0 in /usr/local/lib/python3.8/dist-packages (from plotly>=5.0.0->dash) (8.1.0)\n",
            "Requirement already satisfied: MarkupSafe>=0.23 in /usr/local/lib/python3.8/dist-packages (from Jinja2<3.0,>=2.10.1->Flask>=1.0.4->dash) (2.0.1)\n",
            "Looking in indexes: https://pypi.org/simple, https://us-python.pkg.dev/colab-wheels/public/simple/\n",
            "Requirement already satisfied: dash_bootstrap_components in /usr/local/lib/python3.8/dist-packages (1.3.1)\n",
            "Requirement already satisfied: dash>=2.0.0 in /usr/local/lib/python3.8/dist-packages (from dash_bootstrap_components) (2.8.1)\n",
            "Requirement already satisfied: dash-table==5.0.0 in /usr/local/lib/python3.8/dist-packages (from dash>=2.0.0->dash_bootstrap_components) (5.0.0)\n",
            "Requirement already satisfied: dash-core-components==2.0.0 in /usr/local/lib/python3.8/dist-packages (from dash>=2.0.0->dash_bootstrap_components) (2.0.0)\n",
            "Requirement already satisfied: Flask>=1.0.4 in /usr/local/lib/python3.8/dist-packages (from dash>=2.0.0->dash_bootstrap_components) (1.1.4)\n",
            "Requirement already satisfied: dash-html-components==2.0.0 in /usr/local/lib/python3.8/dist-packages (from dash>=2.0.0->dash_bootstrap_components) (2.0.0)\n",
            "Requirement already satisfied: plotly>=5.0.0 in /usr/local/lib/python3.8/dist-packages (from dash>=2.0.0->dash_bootstrap_components) (5.5.0)\n",
            "Requirement already satisfied: click<8.0,>=5.1 in /usr/local/lib/python3.8/dist-packages (from Flask>=1.0.4->dash>=2.0.0->dash_bootstrap_components) (7.1.2)\n",
            "Requirement already satisfied: Jinja2<3.0,>=2.10.1 in /usr/local/lib/python3.8/dist-packages (from Flask>=1.0.4->dash>=2.0.0->dash_bootstrap_components) (2.11.3)\n",
            "Requirement already satisfied: itsdangerous<2.0,>=0.24 in /usr/local/lib/python3.8/dist-packages (from Flask>=1.0.4->dash>=2.0.0->dash_bootstrap_components) (1.1.0)\n",
            "Requirement already satisfied: Werkzeug<2.0,>=0.15 in /usr/local/lib/python3.8/dist-packages (from Flask>=1.0.4->dash>=2.0.0->dash_bootstrap_components) (1.0.1)\n",
            "Requirement already satisfied: six in /usr/local/lib/python3.8/dist-packages (from plotly>=5.0.0->dash>=2.0.0->dash_bootstrap_components) (1.15.0)\n",
            "Requirement already satisfied: tenacity>=6.2.0 in /usr/local/lib/python3.8/dist-packages (from plotly>=5.0.0->dash>=2.0.0->dash_bootstrap_components) (8.1.0)\n",
            "Requirement already satisfied: MarkupSafe>=0.23 in /usr/local/lib/python3.8/dist-packages (from Jinja2<3.0,>=2.10.1->Flask>=1.0.4->dash>=2.0.0->dash_bootstrap_components) (2.0.1)\n",
            "Looking in indexes: https://pypi.org/simple, https://us-python.pkg.dev/colab-wheels/public/simple/\n",
            "Requirement already satisfied: jupyter-dash in /usr/local/lib/python3.8/dist-packages (0.4.2)\n",
            "Requirement already satisfied: ipython in /usr/local/lib/python3.8/dist-packages (from jupyter-dash) (7.9.0)\n",
            "Requirement already satisfied: requests in /usr/local/lib/python3.8/dist-packages (from jupyter-dash) (2.25.1)\n",
            "Requirement already satisfied: flask in /usr/local/lib/python3.8/dist-packages (from jupyter-dash) (1.1.4)\n",
            "Requirement already satisfied: retrying in /usr/local/lib/python3.8/dist-packages (from jupyter-dash) (1.3.4)\n",
            "Requirement already satisfied: nest-asyncio in /usr/local/lib/python3.8/dist-packages (from jupyter-dash) (1.5.6)\n",
            "Requirement already satisfied: dash in /usr/local/lib/python3.8/dist-packages (from jupyter-dash) (2.8.1)\n",
            "Requirement already satisfied: ansi2html in /usr/local/lib/python3.8/dist-packages (from jupyter-dash) (1.8.0)\n",
            "Requirement already satisfied: ipykernel in /usr/local/lib/python3.8/dist-packages (from jupyter-dash) (5.3.4)\n",
            "Requirement already satisfied: dash-table==5.0.0 in /usr/local/lib/python3.8/dist-packages (from dash->jupyter-dash) (5.0.0)\n",
            "Requirement already satisfied: dash-html-components==2.0.0 in /usr/local/lib/python3.8/dist-packages (from dash->jupyter-dash) (2.0.0)\n",
            "Requirement already satisfied: dash-core-components==2.0.0 in /usr/local/lib/python3.8/dist-packages (from dash->jupyter-dash) (2.0.0)\n",
            "Requirement already satisfied: plotly>=5.0.0 in /usr/local/lib/python3.8/dist-packages (from dash->jupyter-dash) (5.5.0)\n",
            "Requirement already satisfied: Werkzeug<2.0,>=0.15 in /usr/local/lib/python3.8/dist-packages (from flask->jupyter-dash) (1.0.1)\n",
            "Requirement already satisfied: itsdangerous<2.0,>=0.24 in /usr/local/lib/python3.8/dist-packages (from flask->jupyter-dash) (1.1.0)\n",
            "Requirement already satisfied: click<8.0,>=5.1 in /usr/local/lib/python3.8/dist-packages (from flask->jupyter-dash) (7.1.2)\n",
            "Requirement already satisfied: Jinja2<3.0,>=2.10.1 in /usr/local/lib/python3.8/dist-packages (from flask->jupyter-dash) (2.11.3)\n",
            "Requirement already satisfied: traitlets>=4.1.0 in /usr/local/lib/python3.8/dist-packages (from ipykernel->jupyter-dash) (5.7.1)\n",
            "Requirement already satisfied: tornado>=4.2 in /usr/local/lib/python3.8/dist-packages (from ipykernel->jupyter-dash) (6.0.4)\n",
            "Requirement already satisfied: jupyter-client in /usr/local/lib/python3.8/dist-packages (from ipykernel->jupyter-dash) (6.1.12)\n",
            "Requirement already satisfied: decorator in /usr/local/lib/python3.8/dist-packages (from ipython->jupyter-dash) (4.4.2)\n",
            "Requirement already satisfied: jedi>=0.10 in /usr/local/lib/python3.8/dist-packages (from ipython->jupyter-dash) (0.18.2)\n",
            "Requirement already satisfied: setuptools>=18.5 in /usr/local/lib/python3.8/dist-packages (from ipython->jupyter-dash) (57.4.0)\n",
            "Requirement already satisfied: prompt-toolkit<2.1.0,>=2.0.0 in /usr/local/lib/python3.8/dist-packages (from ipython->jupyter-dash) (2.0.10)\n",
            "Requirement already satisfied: backcall in /usr/local/lib/python3.8/dist-packages (from ipython->jupyter-dash) (0.2.0)\n",
            "Requirement already satisfied: pickleshare in /usr/local/lib/python3.8/dist-packages (from ipython->jupyter-dash) (0.7.5)\n",
            "Requirement already satisfied: pygments in /usr/local/lib/python3.8/dist-packages (from ipython->jupyter-dash) (2.6.1)\n",
            "Requirement already satisfied: pexpect in /usr/local/lib/python3.8/dist-packages (from ipython->jupyter-dash) (4.8.0)\n",
            "Requirement already satisfied: certifi>=2017.4.17 in /usr/local/lib/python3.8/dist-packages (from requests->jupyter-dash) (2022.12.7)\n",
            "Requirement already satisfied: idna<3,>=2.5 in /usr/local/lib/python3.8/dist-packages (from requests->jupyter-dash) (2.10)\n",
            "Requirement already satisfied: urllib3<1.27,>=1.21.1 in /usr/local/lib/python3.8/dist-packages (from requests->jupyter-dash) (1.24.3)\n",
            "Requirement already satisfied: chardet<5,>=3.0.2 in /usr/local/lib/python3.8/dist-packages (from requests->jupyter-dash) (4.0.0)\n",
            "Requirement already satisfied: six>=1.7.0 in /usr/local/lib/python3.8/dist-packages (from retrying->jupyter-dash) (1.15.0)\n",
            "Requirement already satisfied: parso<0.9.0,>=0.8.0 in /usr/local/lib/python3.8/dist-packages (from jedi>=0.10->ipython->jupyter-dash) (0.8.3)\n",
            "Requirement already satisfied: MarkupSafe>=0.23 in /usr/local/lib/python3.8/dist-packages (from Jinja2<3.0,>=2.10.1->flask->jupyter-dash) (2.0.1)\n",
            "Requirement already satisfied: tenacity>=6.2.0 in /usr/local/lib/python3.8/dist-packages (from plotly>=5.0.0->dash->jupyter-dash) (8.1.0)\n",
            "Requirement already satisfied: wcwidth in /usr/local/lib/python3.8/dist-packages (from prompt-toolkit<2.1.0,>=2.0.0->ipython->jupyter-dash) (0.2.5)\n",
            "Requirement already satisfied: jupyter-core>=4.6.0 in /usr/local/lib/python3.8/dist-packages (from jupyter-client->ipykernel->jupyter-dash) (5.1.3)\n",
            "Requirement already satisfied: python-dateutil>=2.1 in /usr/local/lib/python3.8/dist-packages (from jupyter-client->ipykernel->jupyter-dash) (2.8.2)\n",
            "Requirement already satisfied: pyzmq>=13 in /usr/local/lib/python3.8/dist-packages (from jupyter-client->ipykernel->jupyter-dash) (23.2.1)\n",
            "Requirement already satisfied: ptyprocess>=0.5 in /usr/local/lib/python3.8/dist-packages (from pexpect->ipython->jupyter-dash) (0.7.0)\n",
            "Requirement already satisfied: platformdirs>=2.5 in /usr/local/lib/python3.8/dist-packages (from jupyter-core>=4.6.0->jupyter-client->ipykernel->jupyter-dash) (2.6.2)\n"
          ]
        }
      ]
    },
    {
      "cell_type": "code",
      "source": [
        "#since we are using google colab/jupyter we should use JupyterDash\n",
        "import dash_bootstrap_components as dbc\n",
        "from jupyter_dash import JupyterDash\n",
        "import dash\n",
        "from dash.dependencies import Input, Output\n",
        "import dash_table\n",
        "import dash_core_components as dcc\n",
        "import dash_html_components as html\n",
        "import pandas as pd\n",
        "import numpy as np \n",
        "import plotly.graph_objs as go\n",
        "import emoji\n",
        "import pandas as pd\n",
        "import plotly\n",
        "from plotly.offline import iplot\n",
        "from plotly.offline import init_notebook_mode, iplot\n",
        "from plotly.offline import init_notebook_mode,iplot\n",
        "import plotly.graph_objects as go\n",
        "import cufflinks as cf\n",
        "init_notebook_mode(connected=True)\n",
        "import plotly.express as px\n",
        "from dash.dependencies import Output, Input, State\n",
        "from dateutil import relativedelta\n",
        "from wordcloud import WordCloud, STOPWORDS\n",
        "from sklearn.manifold import TSNE\n",
        "import pathlib\n",
        "import json\n",
        "import pathlib\n",
        "import re\n",
        "import json\n",
        "from datetime import datetime\n",
        "import flask"
      ],
      "metadata": {
        "id": "lX_lml8RtmTW",
        "colab": {
          "base_uri": "https://localhost:8080/",
          "height": 17
        },
        "outputId": "86505a9d-a468-405a-b385-2bbb2770936a"
      },
      "execution_count": 167,
      "outputs": [
        {
          "output_type": "display_data",
          "data": {
            "text/html": [
              "        <script type=\"text/javascript\">\n",
              "        window.PlotlyConfig = {MathJaxConfig: 'local'};\n",
              "        if (window.MathJax) {MathJax.Hub.Config({SVG: {font: \"STIX-Web\"}});}\n",
              "        if (typeof require !== 'undefined') {\n",
              "        require.undef(\"plotly\");\n",
              "        requirejs.config({\n",
              "            paths: {\n",
              "                'plotly': ['https://cdn.plot.ly/plotly-2.8.3.min']\n",
              "            }\n",
              "        });\n",
              "        require(['plotly'], function(Plotly) {\n",
              "            window._Plotly = Plotly;\n",
              "        });\n",
              "        }\n",
              "        </script>\n",
              "        "
            ]
          },
          "metadata": {}
        }
      ]
    },
    {
      "cell_type": "code",
      "source": [
        "#app = dash.Dash(__name__)   #,server= server , routes_pathname_prefix='/dash/' \n",
        "app = JupyterDash(__name__)  #since we are using google colab/jupyter we should use JupyterDash\n",
        " \n",
        "#app = dash.Dash(__name__, external_stylesheets=[dbc.themes.BOOTSTRAP])\n",
        "#server = app.server  # for Heroku deployment"
      ],
      "metadata": {
        "id": "QoM1kVOauF-D"
      },
      "execution_count": 168,
      "outputs": []
    },
    {
      "cell_type": "markdown",
      "source": [
        "![plotly-logomark.png](https://images.plot.ly/logo/new-branding/plotly-logomark.png)\n",
        "\n"
      ],
      "metadata": {
        "id": "kyRu0aedTdcT"
      }
    },
    {
      "cell_type": "code",
      "source": [
        "DATA_PATH = \"/content/drive/MyDrive/Dash_plotly_home\"\n",
        "#EXTERNAL_STYLESHEETS = [\"https://codepen.io/chriddyp/pen/bWLwgP.css\"]\n",
        "FILENAME_PRECOMPUTED = \"/precomputed.json\"\n",
        "\n",
        "#PLOTLY_LOGO = mpimg.imread(\"https://images.plot.ly/logo/new-branding/plotly-logomark.png\")\n",
        "PLOTLY_LOGO = \"https://images.plot.ly/logo/new-branding/plotly-logomark.png\"\n",
        "#PLOTLY_LOGO = \"image/plotly-logomark.png\"\n",
        "with open(\"/content/drive/MyDrive/Dash_plotly_home/precomputed.json\") as precomputed_file:\n",
        "    PRECOMPUTED_LDA = json.load(precomputed_file) \n",
        "#Image(url= \"https://images.plot.ly/logo/new-branding/plotly-logomark.png\")\n",
        "GLOBAL_DF1 = reviews_df\n",
        "\"\"\"\n",
        "We are casting the whole column to datetime to make life easier in the rest of the code.\n",
        "It isn't a terribly expensive operation so for the sake of tidyness we went this way.\n",
        "\"\"\"\n",
        "GLOBAL_DF[\"Date received\"] = pd.to_datetime(\n",
        "    GLOBAL_DF[\"Date received\"], format=\"%m/%d/%Y\"\n",
        ")\n",
        "\n",
        "\"\"\"\n",
        "In order to make the graphs more useful we decided to prevent some words from being included\n",
        "\"\"\"\n",
        "ADDITIONAL_STOPWORDS = [\n",
        "    \"XXXX\",\n",
        "    \"XX\",\n",
        "    \"xx\",\n",
        "    \"xxxx\",\n",
        "    \"n't\",\n",
        "]\n",
        "for stopword in ADDITIONAL_STOPWORDS:\n",
        "    STOPWORDS.add(stopword)"
      ],
      "metadata": {
        "id": "XG7RHTWILAvW"
      },
      "execution_count": 169,
      "outputs": []
    },
    {
      "cell_type": "code",
      "source": [
        "def sample_data(dataframe, float_percent):\n",
        "    \"\"\"\n",
        "    Returns a subset of the provided dataframe.\n",
        "    The sampling is evenly distributed and reproducible\n",
        "    \"\"\"\n",
        "    print(\"making a local_df data sample with float_percent: %s\" % (float_percent))\n",
        "    return dataframe.sample(frac=float_percent, random_state=1)\n",
        "\n",
        "\n",
        "def get_complaint_count_by_company(dataframe):\n",
        "    \"\"\" Helper function to get review counts for unique variations \"\"\"\n",
        "    company_counts = dataframe[\"variation\"].value_counts()\n",
        "    # we filter out all banks with less than 11 reviews for now\n",
        "    company_counts = company_counts[company_counts > 10]\n",
        "    values = company_counts.keys().tolist()\n",
        "    counts = company_counts.tolist()\n",
        "    return values, counts\n",
        "\n",
        "\n",
        "def calculate_bank_sample_data(dataframe, sample_size, time_values):\n",
        "    \"\"\" TODO \"\"\"\n",
        "    print(\n",
        "        \"making reviews_sample_data with sample_size count: %s and time_values: %s\"\n",
        "        % (sample_size, time_values)\n",
        "    )\n",
        "    if time_values is not None:\n",
        "        min_date = time_values[0]\n",
        "        max_date = time_values[1]\n",
        "        dataframe = dataframe[\n",
        "            (dataframe[\"Date received\"] >= min_date)\n",
        "            & (dataframe[\"Date received\"] <= max_date)\n",
        "        ]\n",
        "    company_counts = dataframe[\"variation\"].value_counts()\n",
        "    company_counts_sample = company_counts[:sample_size]\n",
        "    values_sample = company_counts_sample.keys().tolist()\n",
        "    counts_sample = company_counts_sample.tolist()\n",
        "\n",
        "    return values_sample, counts_sample\n",
        "\n",
        "\n",
        "def make_local_df(selected_bank, time_values, n_selection):\n",
        "    \"\"\" TODO \"\"\"\n",
        "    print(\"redrawing dataset-wordcloud...\")\n",
        "    n_float = float(n_selection / 100)\n",
        "    print(\"got time window:\", str(time_values))\n",
        "    print(\"got n_selection:\", str(n_selection), str(n_float))\n",
        "    # sample the dataset according to the slider\n",
        "    local_df = sample_data(reviews_df, n_float)\n",
        "    if time_values is not None:\n",
        "        time_values = time_slider_to_date(time_values)\n",
        "        local_df = local_df[\n",
        "            (local_df[\"Date received\"] >= time_values[0])\n",
        "            & (local_df[\"Date received\"] <= time_values[1])\n",
        "        ]\n",
        "    if selected_bank:\n",
        "        local_df = local_df[local_df[\"variation\"] == selected_bank]\n",
        "        \n",
        "    return local_df\n",
        "\n",
        "\n",
        "def make_marks_time_slider(mini, maxi):\n",
        "    \"\"\"\n",
        "    A helper function to generate a dictionary that should look something like:\n",
        "    {1420066800: '2015', 1427839200: 'Q2', 1435701600: 'Q3', 1443650400: 'Q4',\n",
        "    1451602800: '2016', 1459461600: 'Q2', 1467324000: 'Q3', 1475272800: 'Q4',\n",
        "     1483225200: '2017', 1490997600: 'Q2', 1498860000: 'Q3', 1506808800: 'Q4'}\n",
        "    \"\"\"\n",
        "    step = relativedelta.relativedelta(months=+1)\n",
        "    start = datetime(year=mini.year, month=1, day=1)\n",
        "    end = datetime(year=maxi.year, month=maxi.month, day=30)\n",
        "    ret = {}\n",
        "\n",
        "    current = start\n",
        "    while current <= end:\n",
        "        current_str = int(current.timestamp())\n",
        "        if current.month == 1:\n",
        "            ret[current_str] = {\n",
        "                \"label\": str(current.year),\n",
        "                \"style\": {\"font-weight\": \"bold\"},\n",
        "            }\n",
        "        elif current.month == 4:\n",
        "            ret[current_str] = {\n",
        "                \"label\": \"Q2\",\n",
        "                \"style\": {\"font-weight\": \"lighter\", \"font-size\": 7},\n",
        "            }\n",
        "        elif current.month == 7:\n",
        "            ret[current_str] = {\n",
        "                \"label\": \"Q3\",\n",
        "                \"style\": {\"font-weight\": \"lighter\", \"font-size\": 7},\n",
        "            }\n",
        "        elif current.month == 10:\n",
        "            ret[current_str] = {\n",
        "                \"label\": \"Q4\",\n",
        "                \"style\": {\"font-weight\": \"lighter\", \"font-size\": 7},\n",
        "            }\n",
        "        else:\n",
        "            pass\n",
        "        current += step\n",
        "    # print(ret)\n",
        "    return ret\n",
        "\n",
        "\n",
        "def time_slider_to_date(time_values):\n",
        "    \"\"\" TODO \"\"\"\n",
        "    min_date = datetime.fromtimestamp(time_values[0]).strftime(\"%c\")\n",
        "    max_date = datetime.fromtimestamp(time_values[1]).strftime(\"%c\")\n",
        "    print(\"Converted time_values: \")\n",
        "    print(\"\\tmin_date:\", time_values[0], \"to: \", min_date)\n",
        "    print(\"\\tmax_date:\", time_values[1], \"to: \", max_date)\n",
        "    return [min_date, max_date]\n",
        "\n",
        "\n",
        "def make_options_bank_drop(values):\n",
        "    \"\"\"\n",
        "    Helper function to generate the data format the dropdown dash component wants\n",
        "    \"\"\"\n",
        "    ret = []\n",
        "    for value in values:\n",
        "        ret.append({\"label\": value, \"value\": value})\n",
        "    return ret\n",
        "\n",
        "import matplotlib.colors as mcolors\n",
        "def populate_lda_scatter(tsne_df, df_top3words, df_dominant_topic):\n",
        "    \"\"\"Calculates LDA and returns figure data you can jam into a dcc.Graph()\"\"\"\n",
        "    mycolors = np.array([color for name, color in mcolors.TABLEAU_COLORS.items()])\n",
        "\n",
        "    # for each topic we create a separate trace\n",
        "    traces = []\n",
        "    for topic_id in df_top3words[\"topic_id\"]:\n",
        "        tsne_df_f = tsne_df[tsne_df.topic_num == topic_id]\n",
        "        cluster_name = \", \".join(\n",
        "            df_top3words[df_top3words[\"topic_id\"] == topic_id][\"words\"].to_list()\n",
        "        )\n",
        "        trace = go.Scatter(\n",
        "            name=cluster_name,\n",
        "            x=tsne_df_f[\"tsne_x\"],\n",
        "            y=tsne_df_f[\"tsne_y\"],\n",
        "            mode=\"markers\",\n",
        "            hovertext=tsne_df_f[\"doc_num\"],\n",
        "            marker=dict(\n",
        "                size=6,\n",
        "                color=mycolors[tsne_df_f[\"topic_num\"]],  # set color equal to a variable\n",
        "                colorscale=\"Viridis\",\n",
        "                showscale=False,\n",
        "            ),\n",
        "        )\n",
        "        traces.append(trace)\n",
        "\n",
        "    layout = go.Layout({\"title\": \"Topic analysis using LDA\"})\n",
        "\n",
        "    return {\"data\": traces, \"layout\": layout}\n",
        "\n",
        "\n",
        "def plotly_wordcloud(data_frame):\n",
        "    \"\"\"A wonderful function that returns figure data for three equally\n",
        "    wonderful plots: wordcloud, frequency histogram and treemap\"\"\"\n",
        "    complaints_text = list(data_frame[\"verified_reviews\"].dropna().values)\n",
        "\n",
        "    if len(complaints_text) < 1:\n",
        "        return {}, {}, {}\n",
        "\n",
        "    # join all documents in corpus\n",
        "    text = \" \".join(list(complaints_text))\n",
        "\n",
        "    word_cloud = WordCloud(stopwords=set(STOPWORDS), max_words=80, max_font_size=90)\n",
        "    word_cloud.generate(text)\n",
        "\n",
        "    word_list = []\n",
        "    freq_list = []\n",
        "    fontsize_list = []\n",
        "    position_list = []\n",
        "    orientation_list = []\n",
        "    color_list = []\n",
        "\n",
        "    for (word, freq), fontsize, position, orientation, color in word_cloud.layout_:\n",
        "        word_list.append(word)\n",
        "        freq_list.append(freq)\n",
        "        fontsize_list.append(fontsize)\n",
        "        position_list.append(position)\n",
        "        orientation_list.append(orientation)\n",
        "        color_list.append(color)\n",
        "\n",
        "    # get the positions\n",
        "    x_arr = []\n",
        "    y_arr = []\n",
        "    for i in position_list:\n",
        "        x_arr.append(i[0])\n",
        "        y_arr.append(i[1])\n",
        "\n",
        "    # get the relative occurence frequencies\n",
        "    new_freq_list = []\n",
        "    for i in freq_list:\n",
        "        new_freq_list.append(i * 80)\n",
        "\n",
        "    trace = go.Scatter(\n",
        "        x=x_arr,\n",
        "        y=y_arr,\n",
        "        textfont=dict(size=new_freq_list, color=color_list),\n",
        "        hoverinfo=\"text\",\n",
        "        textposition=\"top center\",\n",
        "        hovertext=[\"{0} - {1}\".format(w, f) for w, f in zip(word_list, freq_list)],\n",
        "        mode=\"text\",\n",
        "        text=word_list,\n",
        "    )\n",
        "\n",
        "    layout = go.Layout(\n",
        "        {\n",
        "            \"xaxis\": {\n",
        "                \"showgrid\": False,\n",
        "                \"showticklabels\": False,\n",
        "                \"zeroline\": False,\n",
        "                \"automargin\": True,\n",
        "                \"range\": [-100, 250],\n",
        "            },\n",
        "            \"yaxis\": {\n",
        "                \"showgrid\": False,\n",
        "                \"showticklabels\": False,\n",
        "                \"zeroline\": False,\n",
        "                \"automargin\": True,\n",
        "                \"range\": [-100, 450],\n",
        "            },\n",
        "            \"margin\": dict(t=20, b=20, l=10, r=10, pad=4),\n",
        "            \"hovermode\": \"closest\",\n",
        "        }\n",
        "    )\n",
        "\n",
        "    wordcloud_figure_data = {\"data\": [trace], \"layout\": layout}\n",
        "    word_list_top = word_list[:15]\n",
        "    word_list_top.reverse()\n",
        "    freq_list_top = freq_list[:15]\n",
        "    freq_list_top.reverse()\n",
        "\n",
        "    frequency_figure_data = {\n",
        "        \"data\": [\n",
        "            {\n",
        "                \"y\": word_list_top,\n",
        "                \"x\": freq_list_top,\n",
        "                \"type\": \"bar\",\n",
        "                \"name\": \"\",\n",
        "                \"orientation\": \"h\",\n",
        "            }\n",
        "        ],\n",
        "        \"layout\": {\"height\": \"550\", \"margin\": dict(t=20, b=20, l=100, r=20, pad=4)},\n",
        "    }\n",
        "    treemap_trace = go.Treemap(\n",
        "        labels=word_list_top, parents=[\"\"] * len(word_list_top), values=freq_list_top\n",
        "    )\n",
        "    treemap_layout = go.Layout({\"margin\": dict(t=10, b=10, l=5, r=5, pad=4)})\n",
        "    treemap_figure = {\"data\": [treemap_trace], \"layout\": treemap_layout}\n",
        "    return wordcloud_figure_data, frequency_figure_data, treemap_figure\n",
        "\n",
        "\n",
        "\"\"\"\n",
        "#  Page layout and contents\n",
        "In an effort to clean up the code a bit, we decided to break it apart into\n",
        "sections. For instance: LEFT_COLUMN is the input controls you see in that gray\n",
        "box on the top left. The body variable is the overall structure which most other\n",
        "sections go into. This just makes it ever so slightly easier to find the right\n",
        "spot to add to or change without having to count too many brackets.\n",
        "\"\"\"\n"
      ],
      "metadata": {
        "id": "EU7FqdvZOUuI",
        "colab": {
          "base_uri": "https://localhost:8080/",
          "height": 70
        },
        "outputId": "ebbb81fe-e666-42cf-d21e-0fdd67e734ca"
      },
      "execution_count": 170,
      "outputs": [
        {
          "output_type": "execute_result",
          "data": {
            "text/plain": [
              "'\\n#  Page layout and contents\\nIn an effort to clean up the code a bit, we decided to break it apart into\\nsections. For instance: LEFT_COLUMN is the input controls you see in that gray\\nbox on the top left. The body variable is the overall structure which most other\\nsections go into. This just makes it ever so slightly easier to find the right\\nspot to add to or change without having to count too many brackets.\\n'"
            ],
            "application/vnd.google.colaboratory.intrinsic+json": {
              "type": "string"
            }
          },
          "metadata": {},
          "execution_count": 170
        }
      ]
    },
    {
      "cell_type": "code",
      "source": [],
      "metadata": {
        "id": "fk48UdPfPicl"
      },
      "execution_count": 170,
      "outputs": []
    },
    {
      "cell_type": "code",
      "source": [
        "NAVBAR = dbc.Navbar(\n",
        "    children=[\n",
        "        html.A(\n",
        "            # Use row and col to control vertical alignment of logo / brand\n",
        "            dbc.Row(\n",
        "                [\n",
        "                    dbc.Col(html.Img(src=PLOTLY_LOGO,height=\"30px\")),\n",
        "                    dbc.Col(\n",
        "                        dbc.NavbarBrand(\"NLP DASHBOARD for reviews classification\", className=\"ml-2\")\n",
        "                    ),\n",
        "                ],\n",
        "                align=\"center\",\n",
        "                \n",
        "            ),\n",
        "            href=\"https://plot.ly\",\n",
        "        )\n",
        "    ],\n",
        "    color=\"dark\",\n",
        "    dark=True,\n",
        "    sticky=\"top\",\n",
        ")\n",
        "\n",
        "LEFT_COLUMN = dbc.Col(html.Div(\n",
        "    [\n",
        "        html.H4(children=\"Select a variation & dataset size\", className=\"display-5\"),\n",
        "        html.Hr(className=\"my-2\"),\n",
        "        html.Label(\"Select percentage of dataset\", className=\"lead\"),\n",
        "        html.P(\n",
        "            \"(Lower is faster. Higher is more precise)\",\n",
        "            style={\"fontSize\": 10, \"font-weight\": \"lighter\"},\n",
        "        ),\n",
        "        dcc.Slider(\n",
        "            id=\"n-selection-slider\",\n",
        "            min=1,\n",
        "            max=100,\n",
        "            step=1,\n",
        "            marks={\n",
        "                0: \"0%\",\n",
        "                10: \"\",\n",
        "                20: \"20%\",\n",
        "                30: \"\",\n",
        "                40: \"40%\",\n",
        "                50: \"\",\n",
        "                60: \"60%\",\n",
        "                70: \"\",\n",
        "                80: \"80%\",\n",
        "                90: \"\",\n",
        "                100: \"100%\",\n",
        "            },\n",
        "            value=20,\n",
        "        ),\n",
        "        html.Label(\"Select a variation\", style={\"marginTop\": 50}, className=\"lead\"),\n",
        "        html.P(\n",
        "            \"(You can use the dropdown or click the barchart on the right)\",\n",
        "            style={\"fontSize\": 10, \"font-weight\": \"lighter\"},\n",
        "        ),\n",
        "        dcc.Dropdown(\n",
        "            id=\"bank-drop\", clearable=False, style={\"marginBottom\": 50, \"font-size\": 12}\n",
        "        ),\n",
        "        html.Label(\"Select time frame\", className=\"lead\"),\n",
        "        html.Div(dcc.RangeSlider(id=\"time-window-slider\"), style={\"marginBottom\": 50}),\n",
        "        html.P(\n",
        "            \"(You can define the time frame down to month granularity)\",\n",
        "            style={\"fontSize\": 10, \"font-weight\": \"lighter\"},\n",
        "        ),\n",
        "    ])\n",
        ")\n",
        "\n",
        "LDA_PLOT = dcc.Loading(\n",
        "    id=\"loading-lda-plot\", children=[dcc.Graph(id=\"tsne-lda\")], type=\"default\"\n",
        ")\n",
        "LDA_TABLE = html.Div(\n",
        "    id=\"lda-table-block\",\n",
        "    children=[\n",
        "        dcc.Loading(\n",
        "            id=\"loading-lda-table\",\n",
        "            children=[\n",
        "                dash_table.DataTable(\n",
        "                    id=\"lda-table\",\n",
        "                    style_cell_conditional=[\n",
        "                        {\n",
        "                            \"if\": {\"column_id\": \"Text\"},\n",
        "                            \"textAlign\": \"left\",\n",
        "                            \"whiteSpace\": \"normal\",\n",
        "                            \"height\": \"auto\",\n",
        "                            \"min-width\": \"50%\",\n",
        "                        }\n",
        "                    ],\n",
        "                    style_data_conditional=[\n",
        "                        {\n",
        "                            \"if\": {\"row_index\": \"odd\"},\n",
        "                            \"backgroundColor\": \"rgb(243, 246, 251)\",\n",
        "                        }\n",
        "                    ],\n",
        "                    style_cell={\n",
        "                        \"padding\": \"16px\",\n",
        "                        \"whiteSpace\": \"normal\",\n",
        "                        \"height\": \"auto\",\n",
        "                        \"max-width\": \"0\",\n",
        "                    },\n",
        "                    style_header={\"backgroundColor\": \"white\", \"fontWeight\": \"bold\"},\n",
        "                    style_data={\"whiteSpace\": \"normal\", \"height\": \"auto\"},\n",
        "                    filter_action=\"native\",\n",
        "                    page_action=\"native\",\n",
        "                    page_current=0,\n",
        "                    page_size=5,\n",
        "                    columns=[],\n",
        "                    data=[],\n",
        "                )\n",
        "            ],\n",
        "            type=\"default\",\n",
        "        )\n",
        "    ],\n",
        "    style={\"display\": \"none\"},\n",
        ")\n",
        "\n",
        "LDA_PLOTS = [\n",
        "    dbc.CardHeader(html.H5(\"Topic modelling using LDA\")),\n",
        "    dbc.Alert(\n",
        "        \"Not enough data to render LDA plots, please adjust the filters\",\n",
        "        id=\"no-data-alert-lda\",\n",
        "        color=\"warning\",\n",
        "        style={\"display\": \"none\"},\n",
        "    ),\n",
        "    dbc.CardBody(\n",
        "        [\n",
        "            html.P(\n",
        "                \"Click on a review point in the scatter to explore that specific reveiw\",\n",
        "                className=\"mb-0\",\n",
        "            ),\n",
        "            html.P(\n",
        "                \"(not affected by sample size or time frame selection)\",\n",
        "                style={\"fontSize\": 10, \"font-weight\": \"lighter\"},\n",
        "            ),\n",
        "            LDA_PLOT,\n",
        "            html.Hr(),\n",
        "            LDA_TABLE,\n",
        "        ]\n",
        "    ),\n",
        "]\n",
        "WORDCLOUD_PLOTS = [\n",
        "    dbc.CardHeader(html.H5(\"Most frequently used words in reviews\")),\n",
        "    dbc.Alert(\n",
        "        \"Not enough data to render these plots, please adjust the filters\",\n",
        "        id=\"no-data-alert\",\n",
        "        color=\"warning\",\n",
        "        style={\"display\": \"none\"},\n",
        "    ),\n",
        "    dbc.CardBody(\n",
        "        [\n",
        "            dbc.Row(\n",
        "                [\n",
        "                    dbc.Col(\n",
        "                        dcc.Loading(\n",
        "                            id=\"loading-frequencies\",\n",
        "                            children=[dcc.Graph(id=\"frequency_figure\")],\n",
        "                            type=\"default\",\n",
        "                        )\n",
        "                    ),\n",
        "                    dbc.Col(\n",
        "                        [\n",
        "                            dcc.Tabs(\n",
        "                                id=\"tabs\",\n",
        "                                children=[\n",
        "                                    dcc.Tab(\n",
        "                                        label=\"Treemap\",\n",
        "                                        children=[\n",
        "                                            dcc.Loading(\n",
        "                                                id=\"loading-treemap\",\n",
        "                                                children=[dcc.Graph(id=\"bank-treemap\")],\n",
        "                                                type=\"default\",\n",
        "                                            )\n",
        "                                        ],\n",
        "                                    ),\n",
        "                                    dcc.Tab(\n",
        "                                        label=\"Wordcloud\",\n",
        "                                        children=[\n",
        "                                            dcc.Loading(\n",
        "                                                id=\"loading-wordcloud\",\n",
        "                                                children=[\n",
        "                                                    dcc.Graph(id=\"bank-wordcloud\")\n",
        "                                                ],\n",
        "                                                type=\"default\",\n",
        "                                            )\n",
        "                                        ],\n",
        "                                    ),\n",
        "                                ],\n",
        "                            )\n",
        "                        ],\n",
        "                        md=8,\n",
        "                    ),\n",
        "                ]\n",
        "            )\n",
        "        ]\n",
        "    ),\n",
        "]\n",
        "\n",
        "TOP_BANKS_PLOT = [\n",
        "    dbc.CardHeader(html.H5(\"Top variations by number of verified reviews\")),\n",
        "    dbc.CardBody(\n",
        "        [\n",
        "            dcc.Loading(\n",
        "                id=\"loading-banks-hist\",\n",
        "                children=[\n",
        "                    dbc.Alert(\n",
        "                        \"Not enough data to render this plot, please adjust the filters\",\n",
        "                        id=\"no-data-alert-bank\",\n",
        "                        color=\"warning\",\n",
        "                        style={\"display\": \"none\"},\n",
        "                    ),\n",
        "                    dcc.Graph(id=\"bank-sample\"),\n",
        "                ],\n",
        "                type=\"default\",\n",
        "            )\n",
        "        ],\n",
        "        style={\"marginTop\": 0, \"marginBottom\": 0},\n",
        "    ),\n",
        "]\n",
        "\n",
        "TOP_BIGRAM_PLOT = [\n",
        "    dbc.CardHeader(html.H5(\"Top bigrams found in the database\")),\n",
        "    dbc.CardBody(\n",
        "        [\n",
        "            dcc.Loading(\n",
        "                id=\"loading-bigrams-scatter\",\n",
        "                children=[\n",
        "                    dbc.Alert(\n",
        "                        \"Something's gone wrong! Give us a moment, but try loading this page again if problem persists.\",\n",
        "                        id=\"no-data-alert-bigrams\",\n",
        "                        color=\"warning\",\n",
        "                        style={\"display\": \"none\"},\n",
        "                    ),\n",
        "                    dbc.Row(\n",
        "                        [\n",
        "                            dbc.Col(html.P([\"Choose a t-SNE perplexity value:\"]), md=6),\n",
        "                            dbc.Col(\n",
        "                                [\n",
        "                                    dcc.Dropdown(\n",
        "                                        id=\"bigrams-perplex-dropdown\",\n",
        "                                        options=[\n",
        "                                            {\"label\": str(i), \"value\": i}\n",
        "                                            for i in range(3, 7)\n",
        "                                        ],\n",
        "                                        value=3,\n",
        "                                    )\n",
        "                                ],\n",
        "                                md=3,\n",
        "                            ),\n",
        "                        ]\n",
        "                    ),\n",
        "                    dcc.Graph(id=\"bigrams-scatter\"),\n",
        "                ],\n",
        "                type=\"default\",\n",
        "            )\n",
        "        ],\n",
        "        style={\"marginTop\": 0, \"marginBottom\": 0},\n",
        "    ),\n",
        "]\n",
        "\n",
        "TOP_BIGRAM_COMPS = [\n",
        "    dbc.CardHeader(html.H5(\"Comparison of bigrams for two variations\")),\n",
        "    dbc.CardBody(\n",
        "        [\n",
        "            dcc.Loading(\n",
        "                id=\"loading-bigrams-comps\",\n",
        "                children=[\n",
        "                    dbc.Alert(\n",
        "                        \"Something's gone wrong! Give us a moment, but try loading this page again if problem persists.\",\n",
        "                        id=\"no-data-alert-bigrams_comp\",\n",
        "                        color=\"warning\",\n",
        "                        style={\"display\": \"none\"},\n",
        "                    ),\n",
        "                    dbc.Row(\n",
        "                        [\n",
        "                            dbc.Col(html.P(\"Choose two variations to compare:\"), md=12),\n",
        "                            dbc.Col(\n",
        "                                [\n",
        "                                    dcc.Dropdown(\n",
        "                                        id=\"bigrams-comp_1\",\n",
        "                                        options=[\n",
        "                                            {\"label\": i, \"value\": i}\n",
        "                                            for i in bigram_df.company.unique()\n",
        "                                        ],\n",
        "                                        value=\"Charcoal Fabric\",\n",
        "                                    )\n",
        "                                ],\n",
        "                                md=6,\n",
        "                            ),\n",
        "                            dbc.Col(\n",
        "                                [\n",
        "                                    dcc.Dropdown(\n",
        "                                        id=\"bigrams-comp_2\",\n",
        "                                        options=[\n",
        "                                            {\"label\": i, \"value\": i}\n",
        "                                            for i in bigram_df.company.unique()\n",
        "                                        ],\n",
        "                                        value=\"Heather Gray Fabric\",\n",
        "                                    )\n",
        "                                ],\n",
        "                                md=6,\n",
        "                            ),\n",
        "                        ]\n",
        "                    ),\n",
        "                    dcc.Graph(id=\"bigrams-comps\"),\n",
        "                ],\n",
        "                type=\"default\",\n",
        "            )\n",
        "        ],\n",
        "        style={\"marginTop\": 0, \"marginBottom\": 0},\n",
        "    ),\n",
        "]\n",
        "\n",
        "BODY = dbc.Container(\n",
        "    [\n",
        "        dbc.Row([dbc.Col(dbc.Card(TOP_BIGRAM_COMPS)),], style={\"marginTop\": 30}),\n",
        "        dbc.Row([dbc.Col(dbc.Card(TOP_BIGRAM_PLOT)),], style={\"marginTop\": 30}),\n",
        "        dbc.Row(\n",
        "            [\n",
        "                dbc.Col(LEFT_COLUMN, md=4, align=\"center\"),\n",
        "                dbc.Col(dbc.Card(TOP_BANKS_PLOT), md=8),\n",
        "            ],\n",
        "            style={\"marginTop\": 30},\n",
        "        ),\n",
        "        dbc.Card(WORDCLOUD_PLOTS),\n",
        "        dbc.Row([dbc.Col([dbc.Card(LDA_PLOTS)])], style={\"marginTop\": 50}),\n",
        "    ],\n",
        "    className=\"mt-12\",\n",
        ")\n"
      ],
      "metadata": {
        "id": "9fQHS556JCIr"
      },
      "execution_count": 180,
      "outputs": []
    },
    {
      "cell_type": "code",
      "source": [
        "app.layout = html.Div(children=[NAVBAR, BODY])\n",
        "\n",
        "\"\"\"\n",
        "#  Callbacks\n",
        "\"\"\"\n",
        "\n",
        "\n",
        "@app.callback(\n",
        "    Output(\"bigrams-scatter\", \"figure\"), [Input(\"bigrams-perplex-dropdown\", \"value\")],\n",
        ")\n",
        "def populate_bigram_scatter(perplexity):\n",
        "    X_embedded = TSNE(n_components=2, perplexity=perplexity).fit_transform(vects_df)\n",
        "\n",
        "    embed_df[\"tsne_1\"] = X_embedded[:, 0]\n",
        "    embed_df[\"tsne_2\"] = X_embedded[:, 1]\n",
        "    fig = px.scatter(\n",
        "        embed_df,\n",
        "        x=\"tsne_1\",\n",
        "        y=\"tsne_2\",\n",
        "        hover_name=\"bigram\",\n",
        "        text=\"bigram\",\n",
        "        size=\"count\",\n",
        "        color=\"words\",\n",
        "        size_max=45,\n",
        "        template=\"plotly_white\",\n",
        "        title=\"Bigram similarity and frequency\",\n",
        "        labels={\"words\": \"Count<BR>(words)\"},\n",
        "        color_continuous_scale=px.colors.sequential.Sunsetdark,\n",
        "    )\n",
        "    fig.update_traces(marker=dict(line=dict(width=1, color=\"Gray\")))\n",
        "    fig.update_xaxes(visible=False)\n",
        "    fig.update_yaxes(visible=False)\n",
        "    return fig\n",
        "\n",
        "\n",
        "@app.callback(\n",
        "    Output(\"bigrams-comps\", \"figure\"),\n",
        "    [Input(\"bigrams-comp_1\", \"value\"), Input(\"bigrams-comp_2\", \"value\")],\n",
        ")\n",
        "def comp_bigram_comparisons(comp_first, comp_second):\n",
        "    comp_list = [comp_first, comp_second]\n",
        "    temp_df = bigram_df[bigram_df.company.isin(comp_list)]\n",
        "    temp_df.loc[temp_df.company == comp_list[-1], \"value\"] = -temp_df[\n",
        "        temp_df.company == comp_list[-1]\n",
        "    ].value.values\n",
        "\n",
        "    fig = px.bar(\n",
        "        temp_df,\n",
        "        title=\"Comparison: \" + comp_first + \" | \" + comp_second,\n",
        "        x=\"ngram\",\n",
        "        y=\"value\",\n",
        "        color=\"company\",\n",
        "        template=\"plotly_white\",\n",
        "        color_discrete_sequence=px.colors.qualitative.Bold,\n",
        "        labels={\"company\": \"variat°:\", \"ngram\": \"N-Gram\"},\n",
        "        hover_data=\"\",\n",
        "    )\n",
        "    fig.update_layout(legend=dict(x=0.1, y=1.1), legend_orientation=\"h\")\n",
        "    fig.update_yaxes(title=\"\", showticklabels=False)\n",
        "    fig.data[0][\"hovertemplate\"] = fig.data[0][\"hovertemplate\"][:-14]\n",
        "    return fig\n",
        "\n",
        "\n",
        "@app.callback(\n",
        "    [\n",
        "        Output(\"time-window-slider\", \"marks\"),\n",
        "        Output(\"time-window-slider\", \"min\"),\n",
        "        Output(\"time-window-slider\", \"max\"),\n",
        "        Output(\"time-window-slider\", \"step\"),\n",
        "        Output(\"time-window-slider\", \"value\"),\n",
        "    ],\n",
        "    [Input(\"n-selection-slider\", \"value\")],\n",
        ")\n",
        "def populate_time_slider(value):\n",
        "    \"\"\"\n",
        "    Depending on our dataset, we need to populate the time-slider\n",
        "    with different ranges. This function does that and returns the\n",
        "    needed data to the time-window-slider.\n",
        "    \"\"\"\n",
        "    value += 0\n",
        "    min_date = reviews_df[\"Date received\"].min()\n",
        "    max_date = reviews_df[\"Date received\"].max()\n",
        "\n",
        "    marks = make_marks_time_slider(min_date, max_date)\n",
        "    min_epoch = list(marks.keys())[0]\n",
        "    max_epoch = list(marks.keys())[-1]\n",
        "\n",
        "    return (\n",
        "        marks,\n",
        "        min_epoch,\n",
        "        max_epoch,\n",
        "        (max_epoch - min_epoch) / (len(list(marks.keys())) * 3),\n",
        "        [min_epoch, max_epoch],\n",
        "    )\n",
        "\n",
        "\n",
        "@app.callback(\n",
        "    Output(\"bank-drop\", \"options\"),\n",
        "    [Input(\"time-window-slider\", \"value\"), Input(\"n-selection-slider\", \"value\")],\n",
        ")\n",
        "def populate_bank_dropdown(time_values, n_value):\n",
        "    \"\"\" TODO \"\"\"\n",
        "    print(\"variation-drop: TODO USE THE TIME VALUES AND N-SLIDER TO LIMIT THE DATASET\")\n",
        "    if time_values is not None:\n",
        "        pass\n",
        "    n_value += 1\n",
        "    bank_names, counts = get_complaint_count_by_company(reviews_df)\n",
        "    counts.append(1)\n",
        "    return make_options_bank_drop(bank_names)\n",
        "\n",
        "\n",
        "@app.callback(\n",
        "    [Output(\"bank-sample\", \"figure\"), Output(\"no-data-alert-bank\", \"style\")],\n",
        "    [Input(\"n-selection-slider\", \"value\"), Input(\"time-window-slider\", \"value\")],\n",
        ")\n",
        "def update_bank_sample_plot(n_value, time_values):\n",
        "    \"\"\" TODO \"\"\"\n",
        "    print(\"redrawing variation-sample...\")\n",
        "    print(\"\\tn is:\", n_value)\n",
        "    print(\"\\ttime_values is:\", time_values)\n",
        "    if time_values is None:\n",
        "        return [{}, {\"display\": \"block\"}]\n",
        "    n_float = float(n_value / 100)\n",
        "    bank_sample_count = 10\n",
        "    local_df = sample_data(reviews_df, n_float)\n",
        "    min_date, max_date = time_slider_to_date(time_values)\n",
        "    values_sample, counts_sample = calculate_bank_sample_data(\n",
        "        local_df, bank_sample_count, [min_date, max_date]\n",
        "    )\n",
        "    data = [\n",
        "        {\n",
        "            \"x\": values_sample,\n",
        "            \"y\": counts_sample,\n",
        "            \"text\": values_sample,\n",
        "            \"textposition\": \"auto\",\n",
        "            \"type\": \"bar\",\n",
        "            \"name\": \"\",\n",
        "        }\n",
        "    ]\n",
        "    layout = {\n",
        "        \"autosize\": False,\n",
        "        \"margin\": dict(t=10, b=10, l=40, r=0, pad=4),\n",
        "        \"xaxis\": {\"showticklabels\": False},\n",
        "    }\n",
        "    print(\"redrawing variation-sample...done\")\n",
        "    return [{\"data\": data, \"layout\": layout}, {\"display\": \"none\"}]\n",
        "\n",
        "\n",
        "@app.callback(\n",
        "    [\n",
        "        Output(\"lda-table\", \"data\"),\n",
        "        Output(\"lda-table\", \"columns\"),\n",
        "        Output(\"tsne-lda\", \"figure\"),\n",
        "        Output(\"no-data-alert-lda\", \"style\"),\n",
        "    ],\n",
        "    [Input(\"bank-drop\", \"value\"), Input(\"time-window-slider\", \"value\")],\n",
        ")\n",
        "def update_lda_table(selected_bank, time_values):\n",
        "    \"\"\" Update LDA table and scatter plot based on precomputed data \"\"\"\n",
        "\n",
        "    if selected_bank in PRECOMPUTED_LDA:\n",
        "        df_dominant_topic = pd.read_json(\n",
        "            PRECOMPUTED_LDA[selected_bank][\"df_dominant_topic\"]\n",
        "        )\n",
        "        tsne_df = pd.read_json(PRECOMPUTED_LDA[selected_bank][\"tsne_df\"])\n",
        "        df_top3words = pd.read_json(PRECOMPUTED_LDA[selected_bank][\"df_top3words\"])\n",
        "    else:\n",
        "        return [[], [], {}, {}]\n",
        "\n",
        "    lda_scatter_figure = populate_lda_scatter(tsne_df, df_top3words, df_dominant_topic)\n",
        "\n",
        "    columns = [{\"name\": i, \"id\": i} for i in df_dominant_topic.columns]\n",
        "    data = df_dominant_topic.to_dict(\"records\")\n",
        "\n",
        "    return (data, columns, lda_scatter_figure, {\"display\": \"none\"})\n",
        "\n",
        "\n",
        "@app.callback(\n",
        "    [\n",
        "        Output(\"bank-wordcloud\", \"figure\"),\n",
        "        Output(\"frequency_figure\", \"figure\"),\n",
        "        Output(\"bank-treemap\", \"figure\"),\n",
        "        Output(\"no-data-alert\", \"style\"),\n",
        "    ],\n",
        "    [\n",
        "        Input(\"bank-drop\", \"value\"),\n",
        "        Input(\"time-window-slider\", \"value\"),\n",
        "        Input(\"n-selection-slider\", \"value\"),\n",
        "    ],\n",
        ")\n",
        "def update_wordcloud_plot(value_drop, time_values, n_selection):\n",
        "    \"\"\" Callback to rerender wordcloud plot \"\"\"\n",
        "    local_df = make_local_df(value_drop, time_values, n_selection)\n",
        "    wordcloud, frequency_figure, treemap = plotly_wordcloud(local_df)\n",
        "    alert_style = {\"display\": \"none\"}\n",
        "    if (wordcloud == {}) or (frequency_figure == {}) or (treemap == {}):\n",
        "        alert_style = {\"display\": \"block\"}\n",
        "    print(\"redrawing variation wordcloud...done\")\n",
        "    return (wordcloud, frequency_figure, treemap, alert_style)\n",
        "\n",
        "\n",
        "@app.callback(\n",
        "    [Output(\"lda-table\", \"filter_query\"), Output(\"lda-table-block\", \"style\")],\n",
        "    [Input(\"tsne-lda\", \"clickData\")],\n",
        "    [State(\"lda-table\", \"filter_query\")],\n",
        ")\n",
        "def filter_table_on_scatter_click(tsne_click, current_filter):\n",
        "    \"\"\" TODO \"\"\"\n",
        "    if tsne_click is not None:\n",
        "        selected_complaint = tsne_click[\"points\"][0][\"hovertext\"]\n",
        "        if current_filter != \"\":\n",
        "            filter_query = (\n",
        "                \"({Document_No} eq \"\n",
        "                + str(selected_complaint)\n",
        "                + \") || (\"\n",
        "                + current_filter\n",
        "                + \")\"\n",
        "            )\n",
        "        else:\n",
        "            filter_query = \"{Document_No} eq \" + str(selected_complaint)\n",
        "        print(\"current_filter\", current_filter)\n",
        "        return (filter_query, {\"display\": \"block\"})\n",
        "    return [\"\", {\"display\": \"none\"}]\n",
        "\n",
        "\n",
        "@app.callback(Output(\"bank-drop\", \"value\"), [Input(\"bank-sample\", \"clickData\")])\n",
        "def update_bank_drop_on_click(value):\n",
        "    \"\"\" TODO \"\"\"\n",
        "    if value is not None:\n",
        "        selected_bank = value[\"points\"][0][\"x\"]\n",
        "        return selected_bank\n",
        "    return \"Charcoal Fabric\"\n",
        "\n"
      ],
      "metadata": {
        "id": "qKGASntOOr0v"
      },
      "execution_count": 181,
      "outputs": []
    },
    {
      "cell_type": "code",
      "source": [
        "if __name__ == \"__main__\":\n",
        "    #app.run_server(mode= 'inline')\n",
        "    app.run_server(debug=True ,use_reloader=False)"
      ],
      "metadata": {
        "id": "u7fiQr2KuSHL",
        "colab": {
          "base_uri": "https://localhost:8080/",
          "height": 52
        },
        "outputId": "1d0696c0-6816-4253-9e83-5be2587246fe"
      },
      "execution_count": 182,
      "outputs": [
        {
          "output_type": "stream",
          "name": "stdout",
          "text": [
            "Dash app running on:\n"
          ]
        },
        {
          "output_type": "display_data",
          "data": {
            "text/plain": [
              "<IPython.core.display.Javascript object>"
            ],
            "application/javascript": [
              "(async (port, path, text, element) => {\n",
              "    if (!google.colab.kernel.accessAllowed) {\n",
              "      return;\n",
              "    }\n",
              "    element.appendChild(document.createTextNode(''));\n",
              "    const url = await google.colab.kernel.proxyPort(port);\n",
              "    const anchor = document.createElement('a');\n",
              "    anchor.href = new URL(path, url).toString();\n",
              "    anchor.target = '_blank';\n",
              "    anchor.setAttribute('data-href', url + path);\n",
              "    anchor.textContent = text;\n",
              "    element.appendChild(anchor);\n",
              "  })(8050, \"/\", \"http://127.0.0.1:8050/\", window.element)"
            ]
          },
          "metadata": {}
        }
      ]
    },
    {
      "cell_type": "code",
      "source": [
        "\n",
        "embed_df.to_csv('/content/drive/MyDrive/Dash_plotly_home/embed_df_n.csv',index = False)\n",
        "files.download('/content/drive/MyDrive/Dash_plotly_home/embed_df_n.csv')\n",
        "!cp -r \"/content/drive/MyDrive/Dash_plotly_home/embed_df_n.csv\" \"/content/drive/MyDrive/Dash_plotly_home/\"\n",
        "\n",
        "bigram_df.to_csv('/content/drive/MyDrive/Dash_plotly_home/bigram_df_n.csv',index = False)\n",
        "files.download('/content/drive/MyDrive/Dash_plotly_home/bigram_df_n.csv')\n",
        "!cp -r \"/content/drive/MyDrive/Dash_plotly_home/bigram_df_n.csv\" \"/content/drive/MyDrive/Dash_plotly_home/\""
      ],
      "metadata": {
        "colab": {
          "base_uri": "https://localhost:8080/",
          "height": 52
        },
        "id": "vY49D-M7miLx",
        "outputId": "0f203ade-ce00-4063-c441-8d7c4086a325"
      },
      "execution_count": 183,
      "outputs": [
        {
          "output_type": "display_data",
          "data": {
            "text/plain": [
              "<IPython.core.display.Javascript object>"
            ],
            "application/javascript": [
              "\n",
              "    async function download(id, filename, size) {\n",
              "      if (!google.colab.kernel.accessAllowed) {\n",
              "        return;\n",
              "      }\n",
              "      const div = document.createElement('div');\n",
              "      const label = document.createElement('label');\n",
              "      label.textContent = `Downloading \"${filename}\": `;\n",
              "      div.appendChild(label);\n",
              "      const progress = document.createElement('progress');\n",
              "      progress.max = size;\n",
              "      div.appendChild(progress);\n",
              "      document.body.appendChild(div);\n",
              "\n",
              "      const buffers = [];\n",
              "      let downloaded = 0;\n",
              "\n",
              "      const channel = await google.colab.kernel.comms.open(id);\n",
              "      // Send a message to notify the kernel that we're ready.\n",
              "      channel.send({})\n",
              "\n",
              "      for await (const message of channel.messages) {\n",
              "        // Send a message to notify the kernel that we're ready.\n",
              "        channel.send({})\n",
              "        if (message.buffers) {\n",
              "          for (const buffer of message.buffers) {\n",
              "            buffers.push(buffer);\n",
              "            downloaded += buffer.byteLength;\n",
              "            progress.value = downloaded;\n",
              "          }\n",
              "        }\n",
              "      }\n",
              "      const blob = new Blob(buffers, {type: 'application/binary'});\n",
              "      const a = document.createElement('a');\n",
              "      a.href = window.URL.createObjectURL(blob);\n",
              "      a.download = filename;\n",
              "      div.appendChild(a);\n",
              "      a.click();\n",
              "      div.remove();\n",
              "    }\n",
              "  "
            ]
          },
          "metadata": {}
        },
        {
          "output_type": "display_data",
          "data": {
            "text/plain": [
              "<IPython.core.display.Javascript object>"
            ],
            "application/javascript": [
              "download(\"download_fd3efbe8-8244-46a1-a18e-a158ae11c939\", \"embed_df_n.csv\", 876)"
            ]
          },
          "metadata": {}
        },
        {
          "output_type": "stream",
          "name": "stdout",
          "text": [
            "cp: '/content/drive/MyDrive/Dash_plotly_home/embed_df_n.csv' and '/content/drive/MyDrive/Dash_plotly_home/embed_df_n.csv' are the same file\n"
          ]
        },
        {
          "output_type": "display_data",
          "data": {
            "text/plain": [
              "<IPython.core.display.Javascript object>"
            ],
            "application/javascript": [
              "\n",
              "    async function download(id, filename, size) {\n",
              "      if (!google.colab.kernel.accessAllowed) {\n",
              "        return;\n",
              "      }\n",
              "      const div = document.createElement('div');\n",
              "      const label = document.createElement('label');\n",
              "      label.textContent = `Downloading \"${filename}\": `;\n",
              "      div.appendChild(label);\n",
              "      const progress = document.createElement('progress');\n",
              "      progress.max = size;\n",
              "      div.appendChild(progress);\n",
              "      document.body.appendChild(div);\n",
              "\n",
              "      const buffers = [];\n",
              "      let downloaded = 0;\n",
              "\n",
              "      const channel = await google.colab.kernel.comms.open(id);\n",
              "      // Send a message to notify the kernel that we're ready.\n",
              "      channel.send({})\n",
              "\n",
              "      for await (const message of channel.messages) {\n",
              "        // Send a message to notify the kernel that we're ready.\n",
              "        channel.send({})\n",
              "        if (message.buffers) {\n",
              "          for (const buffer of message.buffers) {\n",
              "            buffers.push(buffer);\n",
              "            downloaded += buffer.byteLength;\n",
              "            progress.value = downloaded;\n",
              "          }\n",
              "        }\n",
              "      }\n",
              "      const blob = new Blob(buffers, {type: 'application/binary'});\n",
              "      const a = document.createElement('a');\n",
              "      a.href = window.URL.createObjectURL(blob);\n",
              "      a.download = filename;\n",
              "      div.appendChild(a);\n",
              "      a.click();\n",
              "      div.remove();\n",
              "    }\n",
              "  "
            ]
          },
          "metadata": {}
        },
        {
          "output_type": "display_data",
          "data": {
            "text/plain": [
              "<IPython.core.display.Javascript object>"
            ],
            "application/javascript": [
              "download(\"download_b688544b-0f8d-4fb7-9d89-63c7b28cdbb0\", \"bigram_df_n.csv\", 765875)"
            ]
          },
          "metadata": {}
        },
        {
          "output_type": "stream",
          "name": "stdout",
          "text": [
            "cp: '/content/drive/MyDrive/Dash_plotly_home/bigram_df_n.csv' and '/content/drive/MyDrive/Dash_plotly_home/bigram_df_n.csv' are the same file\n"
          ]
        }
      ]
    }
  ],
  "metadata": {
    "accelerator": "GPU",
    "colab": {
      "provenance": []
    },
    "kernelspec": {
      "display_name": "Python 3.9.7 ('base')",
      "language": "python",
      "name": "python3"
    },
    "language_info": {
      "codemirror_mode": {
        "name": "ipython",
        "version": 3
      },
      "file_extension": ".py",
      "mimetype": "text/x-python",
      "name": "python",
      "nbconvert_exporter": "python",
      "pygments_lexer": "ipython3",
      "version": "3.9.7"
    },
    "vscode": {
      "interpreter": {
        "hash": "ad88f0db3467f5864ea1db9ef7250ec56abf639c4f9456de0b73450094059d1d"
      }
    },
    "gpuClass": "standard"
  },
  "nbformat": 4,
  "nbformat_minor": 0
}